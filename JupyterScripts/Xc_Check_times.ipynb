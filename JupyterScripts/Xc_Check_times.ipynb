{
 "cells": [
  {
   "cell_type": "code",
   "execution_count": 1,
   "id": "32e272fb",
   "metadata": {},
   "outputs": [],
   "source": [
    "%load_ext autoreload\n",
    "%autoreload 2\n",
    "\n",
    "import pandas as pd\n",
    "import seaborn as sns\n",
    "from matplotlib import pyplot as plt\n",
    "import matplotlib.ticker as plticker\n",
    "import pickle\n",
    "import numpy as np\n",
    "from evaluation_scripts.base import get_pathes\n",
    "from evaluation_scripts.well_ident import build_dictionaries\n",
    "\n",
    "experiments = [\"20220412\", \"20220127\", \"20210417\"]"
   ]
  },
  {
   "cell_type": "markdown",
   "id": "651116cf",
   "metadata": {},
   "source": [
    "## transfer times\n",
    "- transferduration is the duration between treatment_start of a plate."
   ]
  },
  {
   "cell_type": "code",
   "execution_count": 2,
   "id": "bc87a7c6",
   "metadata": {},
   "outputs": [],
   "source": [
    "def get_transfer_times(times):\n",
    "    treatment_start = times[times.event == \"treatment_start\"]\n",
    "    T =  treatment_start.transfer.unique()\n",
    "    T.sort()\n",
    "    durations = []\n",
    "    for plate in treatment_start.plate.unique():\n",
    "        for transfer in T[:-1]:\n",
    "            df_0 = treatment_start[(treatment_start.plate == plate) & (treatment_start.transfer == transfer) ]\n",
    "            df_1 = treatment_start[(treatment_start.plate == plate) & (treatment_start.transfer == transfer+1) ]\n",
    "            row = {\"t_start\" : df_0[\"time\"].values[0], \"t_start_next\" : df_1[\"time\"].values[0]}\n",
    "            durations.append(row)\n",
    "\n",
    "    durations = pd.DataFrame(durations)\n",
    "\n",
    "    # Convert time columns to datetime objects\n",
    "    durations[\"t_start\"] = pd.to_datetime(durations[\"t_start\"])\n",
    "    durations[\"t_start_next\"] = pd.to_datetime(durations[\"t_start_next\"])\n",
    "\n",
    "    # Calculate the duration\n",
    "    durations[\"duration\"] = (durations[\"t_start_next\"] - durations[\"t_start\"]).dt.total_seconds()/3600\n",
    "    return durations"
   ]
  },
  {
   "cell_type": "code",
   "execution_count": 5,
   "id": "6a3ebe43",
   "metadata": {},
   "outputs": [],
   "source": [
    "def get_incubation_times(times):\n",
    "    T =  times.transfer.unique()\n",
    "    T.sort()\n",
    "    durations = pd.DataFrame()\n",
    "    for t in T:\n",
    "        df_t = times[times.transfer == t]\n",
    "        if ((df_t.event == \"incubation_end\").sum() == 6) & ((df_t.event == \"incubation_start\").sum() == 6):\n",
    "            cols = [\"time\", \"plate\", \"transfer\"]\n",
    "            duration_t = df_t.loc[df_t.event == \"incubation_end\", cols]\n",
    "            duration_t[\"incubation_start\"] = df_t.loc[df_t.event == \"incubation_start\",\"time\"].values\n",
    "            duration_t = duration_t.rename(columns = {\"time\":\"incubation_end\"})\n",
    "            durations = pd.concat([durations, duration_t])\n",
    "            \n",
    "    # Convert time columns to datetime objects\n",
    "    durations[\"incubation_start\"] = pd.to_datetime(durations[\"incubation_start\"])\n",
    "    durations[\"incubation_end\"] = pd.to_datetime(durations[\"incubation_end\"])\n",
    "\n",
    "    # Calculate the duration\n",
    "    durations[\"duration\"] = (durations[\"incubation_end\"] - durations[\"incubation_start\"]).dt.total_seconds()/3600\n",
    "    return durations\n"
   ]
  },
  {
   "cell_type": "code",
   "execution_count": 15,
   "id": "f1f4546e",
   "metadata": {},
   "outputs": [],
   "source": [
    "def print_results(df):\n",
    "    print(\"Mean\", df.duration.mean(), \"pi:10%\", df.duration.quantile(0.1), \"pi:90%\", df.duration.quantile(0.9))"
   ]
  },
  {
   "cell_type": "code",
   "execution_count": 16,
   "id": "77466fe4",
   "metadata": {},
   "outputs": [
    {
     "name": "stdout",
     "output_type": "stream",
     "text": [
      "\n",
      " 20220412\n",
      "\n",
      " 20220127\n",
      "\n",
      " 20210417\n"
     ]
    }
   ],
   "source": [
    "transfer_durations = pd.DataFrame()\n",
    "incubation_durations = pd.DataFrame()\n",
    "for exp in experiments:\n",
    "    print(\"\\n\", exp)\n",
    "    \n",
    "    ### LOAD\n",
    "    jupyter_path, base_path, path, analysis_path, os = get_pathes(exp+\"_output\")\n",
    "    times = pd.read_csv(os.path.join(path, \"times.csv\"))\n",
    "    transfer_durations = pd.concat([transfer_durations, get_transfer_times(times)])\n",
    "    incubation_durations = pd.concat([incubation_durations, get_incubation_times(times)])"
   ]
  },
  {
   "cell_type": "code",
   "execution_count": 17,
   "id": "6957978a",
   "metadata": {},
   "outputs": [
    {
     "name": "stdout",
     "output_type": "stream",
     "text": [
      "Mean 29.504547784391537 pi:10% 21.96527777777778 pi:90% 47.175694444444446\n"
     ]
    }
   ],
   "source": [
    "print_results(transfer_durations)"
   ]
  },
  {
   "cell_type": "code",
   "execution_count": 18,
   "id": "b6a7d5dc",
   "metadata": {},
   "outputs": [
    {
     "name": "stdout",
     "output_type": "stream",
     "text": [
      "Mean 27.27730631141345 pi:10% 19.67822222222222 pi:90% 39.554027777777776\n"
     ]
    }
   ],
   "source": [
    "print_results(incubation_durations)"
   ]
  },
  {
   "cell_type": "code",
   "execution_count": null,
   "id": "50606a81",
   "metadata": {},
   "outputs": [],
   "source": []
  }
 ],
 "metadata": {
  "kernelspec": {
   "display_name": "Python 3 (ipykernel)",
   "language": "python",
   "name": "python3"
  },
  "language_info": {
   "codemirror_mode": {
    "name": "ipython",
    "version": 3
   },
   "file_extension": ".py",
   "mimetype": "text/x-python",
   "name": "python",
   "nbconvert_exporter": "python",
   "pygments_lexer": "ipython3",
   "version": "3.8.5"
  }
 },
 "nbformat": 4,
 "nbformat_minor": 5
}
