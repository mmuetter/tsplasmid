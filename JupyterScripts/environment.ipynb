{
 "cells": [
  {
   "cell_type": "markdown",
   "id": "527a1991",
   "metadata": {},
   "source": [
    "### environment\n",
    "- Name: tsp_env\n",
    "- Export: conda env export --name tsp_env > environment.yml\n",
    "- Run: conda env create -f environment.yml\n",
    "- Activate: conda activate tsp_env\n",
    "- Requirements: pip list --format=freeze > requirements.txt\n",
    "- install requirements: pip install -r requirements.txt\n"
   ]
  },
  {
   "cell_type": "code",
   "execution_count": null,
   "id": "19a7e539",
   "metadata": {},
   "outputs": [],
   "source": []
  }
 ],
 "metadata": {
  "kernelspec": {
   "display_name": "ts-plasmids",
   "language": "python",
   "name": "tsp_env"
  },
  "language_info": {
   "codemirror_mode": {
    "name": "ipython",
    "version": 3
   },
   "file_extension": ".py",
   "mimetype": "text/x-python",
   "name": "python",
   "nbconvert_exporter": "python",
   "pygments_lexer": "ipython3",
   "version": "3.8.19"
  }
 },
 "nbformat": 4,
 "nbformat_minor": 5
}
