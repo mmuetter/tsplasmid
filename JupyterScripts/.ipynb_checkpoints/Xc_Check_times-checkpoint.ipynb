{
 "cells": [
  {
   "cell_type": "code",
   "execution_count": 1,
   "id": "32e272fb",
   "metadata": {},
   "outputs": [],
   "source": [
    "%load_ext autoreload\n",
    "%autoreload 2\n",
    "\n",
    "import pandas as pd\n",
    "import seaborn as sns\n",
    "from matplotlib import pyplot as plt\n",
    "import matplotlib.ticker as plticker\n",
    "import pickle\n",
    "import numpy as np\n",
    "from evaluation_scripts.base import get_pathes\n",
    "from evaluation_scripts.well_ident import build_dictionaries\n",
    "\n",
    "jupyter_path, base_path, path, analysis_path, os = get_pathes(\"20210417_output\")\n",
    "hue_infos, strategies, plate_rows, agar_strain_dict = build_dictionaries()\n",
    "data = pd.read_pickle(os.path.join(analysis_path,\"obj\",\"2c_data_pin_cleaned.pkl\"))\n",
    "data = data[data.transfer_n > 0]\n",
    "data = data[data.turnover_strain != \"bl\"]"
   ]
  },
  {
   "cell_type": "code",
   "execution_count": 2,
   "id": "224d2823",
   "metadata": {},
   "outputs": [
    {
     "name": "stdout",
     "output_type": "stream",
     "text": [
      "Tau =  0.19621749408983452\n"
     ]
    }
   ],
   "source": [
    "## Turnover rate\n",
    "tau = len(data[data.turnover_id.isnull() == False])/len(data)\n",
    "print(\"Tau = \", tau)"
   ]
  },
  {
   "cell_type": "code",
   "execution_count": 3,
   "id": "39efde4d",
   "metadata": {},
   "outputs": [
    {
     "name": "stdout",
     "output_type": "stream",
     "text": [
      "Beta =  0.2712765957446808\n"
     ]
    }
   ],
   "source": [
    "## Infection rate\n",
    "beta = len(data[data.infection_to_well_id.isnull() == False])/len(data)\n",
    "print(\"Beta = \", beta)"
   ]
  },
  {
   "cell_type": "code",
   "execution_count": 4,
   "id": "eb06d4e1",
   "metadata": {},
   "outputs": [],
   "source": [
    "turnover_df = data[data.turnover_strain.isnull()==False]\n",
    "t_strains = turnover_df.turnover_strain.unique()\n",
    "reservoir = {}\n",
    "reservoir_n = {}\n",
    "for strain in t_strains:\n",
    "    df_strain = turnover_df[turnover_df.turnover_strain == strain]\n",
    "    r = len(df_strain)/len(turnover_df)\n",
    "    reservoir.update({strain:r})\n",
    "    reservoir_n.update({strain:r*94})\n",
    "                           "
   ]
  },
  {
   "cell_type": "markdown",
   "id": "aae6278d",
   "metadata": {},
   "source": [
    "## Transfer length"
   ]
  },
  {
   "cell_type": "code",
   "execution_count": 5,
   "id": "75a9d12e",
   "metadata": {},
   "outputs": [],
   "source": [
    "t_df = data[data.t_replication_start == max(data.t_replication_start)]\n",
    "num_transfers = max(t_df.transfer_n)+1\n",
    "t_end = max(data.t_replication_start)\n",
    "t_av = t_end/num_transfers\n",
    "exp_facts = {\"average_transfer_length\":t_av, \"num_of_transfers\":num_transfers}"
   ]
  },
  {
   "cell_type": "code",
   "execution_count": 6,
   "id": "f711c67f",
   "metadata": {},
   "outputs": [
    {
     "data": {
      "text/plain": [
       "{'tau': 0.20882584712371946,\n",
       " 'beta': 0.3542159180457053,\n",
       " 'S': 0.6037735849056604,\n",
       " 'AB_r': 0.062264150943396226,\n",
       " 'B_r': 0.11320754716981132,\n",
       " 'A_r': 0.10943396226415095,\n",
       " 'UI': 0.11132075471698114,\n",
       " 'average_transfer_length': 30.616635802469137,\n",
       " 'num_of_transfers': 27}"
      ]
     },
     "execution_count": 6,
     "metadata": {},
     "output_type": "execute_result"
    }
   ],
   "source": [
    "import csv\n",
    "def save_as_csv(name, dictionary):\n",
    "    with open(name, 'w') as f:\n",
    "        for key in dictionary.keys():\n",
    "            f.write(\"%s,%s\\n\"%(key,dictionary[key]))\n",
    "\n",
    "realized_parameter = {\"tau\":tau, \"beta\":beta}\n",
    "realized_parameter.update(reservoir)\n",
    "realized_parameter.update(exp_facts)\n",
    "name = os.path.join(analysis_path, \"obj\", \"realized_parameter.csv\")\n",
    "save_as_csv(name, realized_parameter)\n",
    "realized_parameter"
   ]
  },
  {
   "cell_type": "markdown",
   "id": "9eeb06d3",
   "metadata": {},
   "source": [
    "## Check rates for certain strains over a period of time\n"
   ]
  },
  {
   "cell_type": "code",
   "execution_count": 7,
   "id": "10472f9a",
   "metadata": {},
   "outputs": [
    {
     "data": {
      "text/html": [
       "<div>\n",
       "<style scoped>\n",
       "    .dataframe tbody tr th:only-of-type {\n",
       "        vertical-align: middle;\n",
       "    }\n",
       "\n",
       "    .dataframe tbody tr th {\n",
       "        vertical-align: top;\n",
       "    }\n",
       "\n",
       "    .dataframe thead th {\n",
       "        text-align: right;\n",
       "    }\n",
       "</style>\n",
       "<table border=\"1\" class=\"dataframe\">\n",
       "  <thead>\n",
       "    <tr style=\"text-align: right;\">\n",
       "      <th></th>\n",
       "      <th>beta_av</th>\n",
       "      <th>t1</th>\n",
       "      <th>t2</th>\n",
       "      <th>strain</th>\n",
       "      <th>strat</th>\n",
       "    </tr>\n",
       "  </thead>\n",
       "  <tbody>\n",
       "    <tr>\n",
       "      <th>0</th>\n",
       "      <td>0.256198</td>\n",
       "      <td>0</td>\n",
       "      <td>5</td>\n",
       "      <td>A_r</td>\n",
       "      <td>No treatment</td>\n",
       "    </tr>\n",
       "    <tr>\n",
       "      <th>1</th>\n",
       "      <td>0.097561</td>\n",
       "      <td>0</td>\n",
       "      <td>5</td>\n",
       "      <td>B_r</td>\n",
       "      <td>No treatment</td>\n",
       "    </tr>\n",
       "  </tbody>\n",
       "</table>\n",
       "</div>"
      ],
      "text/plain": [
       "    beta_av t1 t2 strain         strat\n",
       "0  0.256198  0  5    A_r  No treatment\n",
       "1  0.097561  0  5    B_r  No treatment"
      ]
     },
     "execution_count": 7,
     "metadata": {},
     "output_type": "execute_result"
    }
   ],
   "source": [
    "def calc_special_betas(analysis_path, t_crit, strain, strat):\n",
    "    data = pd.read_pickle(os.path.join(analysis_path,\"obj\",\"2c_data_pin_cleaned.pkl\"))\n",
    "    data = data[(data.transfer_n > t_crit[0])&(data.transfer_n < t_crit[1])]\n",
    "    data = data[(data.phenotype == strain)&(data.strategy == strat)]\n",
    "    beta_av = len(data[data.infection_to_well_id.isnull() == False])/len(data)\n",
    "\n",
    "    info = {\"beta_av\":beta_av, \"t1\":t_crit[0], \"t2\":t_crit[1], \"strain\":strain, \"strat\":strat}\n",
    "    return info\n",
    "\n",
    "\n",
    "\n",
    "jupyter_path, base_path, path, analysis_path, os = get_pathes(\"20210417_output\")\n",
    "rates = calc_special_betas(analysis_path, [0, 5], \"A_r\", \"No treatment\")\n",
    "special_rates = pd.DataFrame(columns = rates.keys())\n",
    "special_rates = special_rates.append(rates, ignore_index = True)\n",
    "rates = calc_special_betas(analysis_path, [0, 5], \"B_r\", \"No treatment\")\n",
    "special_rates = special_rates.append(rates, ignore_index = True)\n",
    "special_rates.to_csv(os.path.join(analysis_path, \"obj\", \"special_betas.csv\"))\n",
    "special_rates"
   ]
  },
  {
   "cell_type": "code",
   "execution_count": 8,
   "id": "aa33a790",
   "metadata": {},
   "outputs": [
    {
     "data": {
      "text/html": [
       "<div>\n",
       "<style scoped>\n",
       "    .dataframe tbody tr th:only-of-type {\n",
       "        vertical-align: middle;\n",
       "    }\n",
       "\n",
       "    .dataframe tbody tr th {\n",
       "        vertical-align: top;\n",
       "    }\n",
       "\n",
       "    .dataframe thead th {\n",
       "        text-align: right;\n",
       "    }\n",
       "</style>\n",
       "<table border=\"1\" class=\"dataframe\">\n",
       "  <thead>\n",
       "    <tr style=\"text-align: right;\">\n",
       "      <th></th>\n",
       "      <th>r</th>\n",
       "      <th>r_n</th>\n",
       "      <th>t1</th>\n",
       "      <th>t2</th>\n",
       "      <th>strain</th>\n",
       "      <th>strat</th>\n",
       "    </tr>\n",
       "  </thead>\n",
       "  <tbody>\n",
       "    <tr>\n",
       "      <th>0</th>\n",
       "      <td>0.059880</td>\n",
       "      <td>5.628743</td>\n",
       "      <td>5</td>\n",
       "      <td>14</td>\n",
       "      <td>A_r</td>\n",
       "      <td>No treatment</td>\n",
       "    </tr>\n",
       "    <tr>\n",
       "      <th>1</th>\n",
       "      <td>0.047904</td>\n",
       "      <td>4.502994</td>\n",
       "      <td>5</td>\n",
       "      <td>14</td>\n",
       "      <td>B_r</td>\n",
       "      <td>No treatment</td>\n",
       "    </tr>\n",
       "  </tbody>\n",
       "</table>\n",
       "</div>"
      ],
      "text/plain": [
       "          r       r_n t1  t2 strain         strat\n",
       "0  0.059880  5.628743  5  14    A_r  No treatment\n",
       "1  0.047904  4.502994  5  14    B_r  No treatment"
      ]
     },
     "execution_count": 8,
     "metadata": {},
     "output_type": "execute_result"
    }
   ],
   "source": [
    "def calc_special_rs(analysis_path, t_crit, strain, strat):\n",
    "    data = pd.read_pickle(os.path.join(analysis_path,\"obj\",\"2c_data_pin_cleaned.pkl\"))\n",
    "    data = data[(data.transfer_n > t_crit[0])&(data.transfer_n < t_crit[1])]\n",
    "    data = data[(data.strategy == strat)]\n",
    "    \n",
    "    turnover_df = data[data.turnover_strain.isnull()==False]\n",
    "    t_strains = turnover_df.turnover_strain.unique()\n",
    "\n",
    "    df_strain = turnover_df[turnover_df.turnover_strain == strain]\n",
    "    r = len(df_strain)/len(turnover_df)\n",
    "    \n",
    "    info = {\"r\":r, \"r_n\":r*94, \"t1\":t_crit[0], \"t2\":t_crit[1], \"strain\":strain, \"strat\":strat}\n",
    "    return info\n",
    "\n",
    "\n",
    "\n",
    "jupyter_path, base_path, path, analysis_path, os = get_pathes(\"20210417_output\")\n",
    "rates = calc_special_rs(analysis_path, [5, 14], \"A_r\", \"No treatment\")\n",
    "special_rates = pd.DataFrame(columns = rates.keys())\n",
    "special_rates = special_rates.append(rates, ignore_index = True)\n",
    "rates = calc_special_rs(analysis_path, [5, 14], \"B_r\", \"No treatment\")\n",
    "special_rates = special_rates.append(rates, ignore_index = True)\n",
    "special_rates.to_csv(os.path.join(analysis_path, \"obj\", \"special_reservoirs.csv\"))\n",
    "special_rates"
   ]
  },
  {
   "cell_type": "code",
   "execution_count": 9,
   "id": "7cc1ec0b",
   "metadata": {},
   "outputs": [
    {
     "data": {
      "text/plain": [
       "'/Users/malte/polybox/Shared/Robot-Shared/TSPlasmids/experiments/20220127_output/analysis/obj/realized_parameter.csv'"
      ]
     },
     "execution_count": 9,
     "metadata": {},
     "output_type": "execute_result"
    }
   ],
   "source": [
    "name"
   ]
  },
  {
   "cell_type": "code",
   "execution_count": null,
   "id": "26a9ef13",
   "metadata": {},
   "outputs": [],
   "source": []
  }
 ],
 "metadata": {
  "kernelspec": {
   "display_name": "Python 3 (ipykernel)",
   "language": "python",
   "name": "python3"
  },
  "language_info": {
   "codemirror_mode": {
    "name": "ipython",
    "version": 3
   },
   "file_extension": ".py",
   "mimetype": "text/x-python",
   "name": "python",
   "nbconvert_exporter": "python",
   "pygments_lexer": "ipython3",
   "version": "3.8.5"
  }
 },
 "nbformat": 4,
 "nbformat_minor": 5
}
