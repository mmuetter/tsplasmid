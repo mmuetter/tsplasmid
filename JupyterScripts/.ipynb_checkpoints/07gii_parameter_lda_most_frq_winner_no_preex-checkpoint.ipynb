{
 "cells": [
  {
   "cell_type": "code",
   "execution_count": 1,
   "id": "cfc1b61f",
   "metadata": {},
   "outputs": [],
   "source": [
    "%load_ext autoreload\n",
    "%autoreload 2\n",
    "\n",
    "from evaluation_scripts.base import load_json, get_base_pathes\n",
    "import pandas as pd\n",
    "import os\n",
    "from evaluation_scripts.base import load_pickle_obj\n",
    "from model_scripts.sensitivity_evaluation import ParameterSetEvaluation, SensitivityAnalysis\n",
    "from model_scripts.kernel_collector import KernelCollector\n",
    "import matplotlib.pyplot as plt\n",
    "from model_scripts.lda_kernel_plotter import KernelPlot\n",
    "from model_scripts.grid import GridPoint, MakeGrid\n",
    "\n",
    "date = \"16052023\"\n",
    "name_add = \"_no_preex\"\n",
    "_, base = get_base_pathes()\n",
    "path = os.path.join(base, \"sensitivity_sim\")"
   ]
  },
  {
   "cell_type": "code",
   "execution_count": 2,
   "id": "51f16cfa",
   "metadata": {
    "scrolled": true
   },
   "outputs": [
    {
     "name": "stderr",
     "output_type": "stream",
     "text": [
      "/Users/malte/anaconda3/lib/python3.8/site-packages/numpy/lib/function_base.py:2854: RuntimeWarning: invalid value encountered in divide\n",
      "  c /= stddev[:, None]\n",
      "/Users/malte/anaconda3/lib/python3.8/site-packages/numpy/lib/function_base.py:2855: RuntimeWarning: invalid value encountered in divide\n",
      "  c /= stddev[None, :]\n"
     ]
    }
   ],
   "source": [
    "sensitivity = SensitivityAnalysis(path, parameter_names = [\"turnover\",\n",
    "                                \"infection\", \"cA\", \"cB\", \"cS\", \"cU\", \"cAB\"], name_add = name_add)\n",
    "reload = False\n",
    "if reload:\n",
    "    sensitivity.load()\n",
    "else:\n",
    "    sims = pd.read_pickle(os.path.join(path, \"sensitivity_sim\"+name_add+\".pkl\"))\n",
    "    pars = pd.read_pickle(os.path.join(path, \"sensitivity_par\"+name_add+\".pkl\"))\n",
    "    sensitivity.evaluate_parameter_sets(sims, pars)\n",
    "sensitivity.lda()\n",
    "sensitivity.join_eval_data()"
   ]
  },
  {
   "cell_type": "code",
   "execution_count": 3,
   "id": "737215d1",
   "metadata": {},
   "outputs": [],
   "source": [
    "import seaborn as sns\n",
    "colors = dict(zip(sensitivity.strategies, sns.color_palette(\"pastel\")))\n",
    "text_placement_y = {\"turnover\":.02, \"infection\":-.04, \"cA\":-.02, \"cB\":.02, \"cS\":.04, \"cU\":-.04, \"cAB\":.03}\n"
   ]
  },
  {
   "cell_type": "code",
   "execution_count": 4,
   "id": "2a97b918",
   "metadata": {},
   "outputs": [],
   "source": [
    "def plot_original_axes(ax, lda_directions, parameter_names, text_placement_y, arrow_length=0.75, adjust = 1, head_adjust = 0.01):\n",
    "        for param in parameter_names:\n",
    "            color = 'black'  # Set the color to black\n",
    "            direction = lda_directions[param].values\n",
    "            ax.arrow(0, 0, direction[0] * arrow_length, direction[1] * arrow_length,\n",
    "                          head_width=head_adjust, head_length=head_adjust, fc=color, ec=color)\n",
    "            \n",
    "            ax.text(direction[0] * arrow_length * adjust, direction[1]\n",
    "                         * arrow_length *adjust + text_placement_y[param], param, color=color, fontsize=15)"
   ]
  },
  {
   "cell_type": "code",
   "execution_count": 5,
   "id": "d00730a3",
   "metadata": {},
   "outputs": [],
   "source": [
    "df = sensitivity.evaluations_df.sample(100)\n",
    "df = sensitivity.evaluations_df"
   ]
  },
  {
   "cell_type": "code",
   "execution_count": 6,
   "id": "f5e6fdcb",
   "metadata": {},
   "outputs": [
    {
     "data": {
      "text/html": [
       "<div>\n",
       "<style scoped>\n",
       "    .dataframe tbody tr th:only-of-type {\n",
       "        vertical-align: middle;\n",
       "    }\n",
       "\n",
       "    .dataframe tbody tr th {\n",
       "        vertical-align: top;\n",
       "    }\n",
       "\n",
       "    .dataframe thead th {\n",
       "        text-align: right;\n",
       "    }\n",
       "</style>\n",
       "<table border=\"1\" class=\"dataframe\">\n",
       "  <thead>\n",
       "    <tr style=\"text-align: right;\">\n",
       "      <th></th>\n",
       "      <th>UI_mean</th>\n",
       "      <th>infection</th>\n",
       "      <th>turnover</th>\n",
       "      <th>cA</th>\n",
       "      <th>cB</th>\n",
       "      <th>cS</th>\n",
       "      <th>cU</th>\n",
       "      <th>cAB</th>\n",
       "      <th>name</th>\n",
       "    </tr>\n",
       "  </thead>\n",
       "  <tbody>\n",
       "    <tr>\n",
       "      <th>0</th>\n",
       "      <td>Combo</td>\n",
       "      <td>0.30</td>\n",
       "      <td>0.2</td>\n",
       "      <td>0.053</td>\n",
       "      <td>0.053</td>\n",
       "      <td>0.745</td>\n",
       "      <td>0.149</td>\n",
       "      <td>0.000</td>\n",
       "      <td>Scenario1</td>\n",
       "    </tr>\n",
       "    <tr>\n",
       "      <th>1</th>\n",
       "      <td>Combo</td>\n",
       "      <td>0.35</td>\n",
       "      <td>0.2</td>\n",
       "      <td>0.106</td>\n",
       "      <td>0.106</td>\n",
       "      <td>0.586</td>\n",
       "      <td>0.149</td>\n",
       "      <td>0.053</td>\n",
       "      <td>Scenario2</td>\n",
       "    </tr>\n",
       "    <tr>\n",
       "      <th>2</th>\n",
       "      <td>Combo</td>\n",
       "      <td>0.25</td>\n",
       "      <td>0.5</td>\n",
       "      <td>0.500</td>\n",
       "      <td>0.500</td>\n",
       "      <td>0.000</td>\n",
       "      <td>0.000</td>\n",
       "      <td>0.000</td>\n",
       "      <td>Scenario3</td>\n",
       "    </tr>\n",
       "  </tbody>\n",
       "</table>\n",
       "</div>"
      ],
      "text/plain": [
       "  UI_mean  infection  turnover     cA     cB     cS     cU    cAB       name\n",
       "0   Combo       0.30       0.2  0.053  0.053  0.745  0.149  0.000  Scenario1\n",
       "1   Combo       0.35       0.2  0.106  0.106  0.586  0.149  0.053  Scenario2\n",
       "2   Combo       0.25       0.5  0.500  0.500  0.000  0.000  0.000  Scenario3"
      ]
     },
     "execution_count": 6,
     "metadata": {},
     "output_type": "execute_result"
    }
   ],
   "source": [
    "scenario1 = {\n",
    "       \"UI_mean\":\"Combo\",\n",
    "       \"infection\":0.3, \n",
    "       \"turnover\":.2,\n",
    "       \"cA\":0.053,\n",
    "       \"cB\":0.053,\n",
    "       \"cS\":0.745,\n",
    "       \"cU\":0.149,\n",
    "       \"cAB\":0,\n",
    "       \"name\":\"Scenario1\"}\n",
    "scenario2 = {\n",
    "       \"UI_mean\":\"Combo\",\n",
    "       \"infection\":0.35,\n",
    "       \"turnover\":0.2,\n",
    "       \"cA\":0.106,\n",
    "       \"cB\":0.106,\n",
    "       \"cS\":0.586,\n",
    "       \"cU\":0.149,\n",
    "       \"cAB\":0.053,\n",
    "       \"name\":\"Scenario2\"}\n",
    "scenario3 = {\n",
    "       \"UI_mean\":\"Combo\",\n",
    "       \"infection\":0.25,\n",
    "       \"turnover\":.5,\n",
    "       \"cA\":0.5,\n",
    "       \"cB\":0.5,\n",
    "       \"cS\":0,\n",
    "       \"cU\":0,\n",
    "       \"cAB\":0,\n",
    "       \"name\":\"Scenario3\"}\n",
    "experiments = pd.DataFrame().from_dict([scenario1, scenario2, scenario3])\n",
    "experiments\n"
   ]
  },
  {
   "cell_type": "code",
   "execution_count": 7,
   "id": "47c1edb2",
   "metadata": {},
   "outputs": [
    {
     "data": {
      "text/html": [
       "<div>\n",
       "<style scoped>\n",
       "    .dataframe tbody tr th:only-of-type {\n",
       "        vertical-align: middle;\n",
       "    }\n",
       "\n",
       "    .dataframe tbody tr th {\n",
       "        vertical-align: top;\n",
       "    }\n",
       "\n",
       "    .dataframe thead th {\n",
       "        text-align: right;\n",
       "    }\n",
       "</style>\n",
       "<table border=\"1\" class=\"dataframe\">\n",
       "  <thead>\n",
       "    <tr style=\"text-align: right;\">\n",
       "      <th></th>\n",
       "      <th>UI_mean</th>\n",
       "      <th>infection</th>\n",
       "      <th>turnover</th>\n",
       "      <th>cA</th>\n",
       "      <th>cB</th>\n",
       "      <th>cS</th>\n",
       "      <th>cU</th>\n",
       "      <th>cAB</th>\n",
       "      <th>name</th>\n",
       "      <th>ldaX</th>\n",
       "      <th>ldaY</th>\n",
       "    </tr>\n",
       "  </thead>\n",
       "  <tbody>\n",
       "    <tr>\n",
       "      <th>0</th>\n",
       "      <td>Combo</td>\n",
       "      <td>0.30</td>\n",
       "      <td>0.2</td>\n",
       "      <td>0.053</td>\n",
       "      <td>0.053</td>\n",
       "      <td>0.745</td>\n",
       "      <td>0.149</td>\n",
       "      <td>0.000</td>\n",
       "      <td>Scenario1</td>\n",
       "      <td>-0.152780</td>\n",
       "      <td>-0.078497</td>\n",
       "    </tr>\n",
       "    <tr>\n",
       "      <th>1</th>\n",
       "      <td>Combo</td>\n",
       "      <td>0.35</td>\n",
       "      <td>0.2</td>\n",
       "      <td>0.106</td>\n",
       "      <td>0.106</td>\n",
       "      <td>0.586</td>\n",
       "      <td>0.149</td>\n",
       "      <td>0.053</td>\n",
       "      <td>Scenario2</td>\n",
       "      <td>-0.120186</td>\n",
       "      <td>0.011368</td>\n",
       "    </tr>\n",
       "    <tr>\n",
       "      <th>2</th>\n",
       "      <td>Combo</td>\n",
       "      <td>0.25</td>\n",
       "      <td>0.5</td>\n",
       "      <td>0.500</td>\n",
       "      <td>0.500</td>\n",
       "      <td>0.000</td>\n",
       "      <td>0.000</td>\n",
       "      <td>0.000</td>\n",
       "      <td>Scenario3</td>\n",
       "      <td>-0.303661</td>\n",
       "      <td>0.479446</td>\n",
       "    </tr>\n",
       "  </tbody>\n",
       "</table>\n",
       "</div>"
      ],
      "text/plain": [
       "  UI_mean  infection  turnover     cA     cB     cS     cU    cAB       name  \\\n",
       "0   Combo       0.30       0.2  0.053  0.053  0.745  0.149  0.000  Scenario1   \n",
       "1   Combo       0.35       0.2  0.106  0.106  0.586  0.149  0.053  Scenario2   \n",
       "2   Combo       0.25       0.5  0.500  0.500  0.000  0.000  0.000  Scenario3   \n",
       "\n",
       "       ldaX      ldaY  \n",
       "0 -0.152780 -0.078497  \n",
       "1 -0.120186  0.011368  \n",
       "2 -0.303661  0.479446  "
      ]
     },
     "execution_count": 7,
     "metadata": {},
     "output_type": "execute_result"
    }
   ],
   "source": [
    "def get_lda_XY(lda_directions, df):\n",
    "        cols = lda_directions.columns\n",
    "        data = df[cols]\n",
    "        pX = lda_directions.loc[0, ]\n",
    "        pY = lda_directions.loc[1, ]\n",
    "        df[\"ldaX\"] = data.apply(lambda x: (x*pX).sum(), axis = 1)\n",
    "        df[\"ldaY\"] = data.apply(lambda x: (x*pY).sum(), axis = 1)\n",
    "        return df\n",
    "    \n",
    "experiments = get_lda_XY(sensitivity.parameter_directions, experiments)\n",
    "experiments"
   ]
  },
  {
   "cell_type": "code",
   "execution_count": 8,
   "id": "5e9c3bc7",
   "metadata": {},
   "outputs": [],
   "source": [
    "def plot_experiments(ax, experiments, markersize = 500, edgecolors = \"black\", yspace = [0.03, 0.03, 0.03], xspace = [0, 0, 0]):\n",
    "    sns.scatterplot(data=experiments, x=\"ldaX\", y=\"ldaY\", s = markersize, marker = \"*\",\n",
    "            hue=\"UI_mean\", alpha=1,  legend=False)\n",
    "    for i, exp in experiments.iterrows():\n",
    "        ldaX = exp[\"ldaX\"]\n",
    "        ldaY = exp[\"ldaY\"]\n",
    "        ax.text(ldaX + xspace[i], ldaY + yspace[i], exp[\"name\"], color=\"black\", fontsize=15)\n"
   ]
  },
  {
   "cell_type": "code",
   "execution_count": 9,
   "id": "527babf2",
   "metadata": {},
   "outputs": [
    {
     "data": {
      "text/plain": [
       "{'Combination': (0.6313725490196078, 0.788235294117647, 0.9568627450980393),\n",
       " 'Cycling': (1.0, 0.7058823529411765, 0.5098039215686274),\n",
       " 'Mixing': (0.5529411764705883, 0.8980392156862745, 0.6313725490196078),\n",
       " 'Mono A': (1.0, 0.6235294117647059, 0.6078431372549019),\n",
       " 'Mono B': (0.8156862745098039, 0.7333333333333333, 1.0),\n",
       " 'No treatment': (0.8705882352941177, 0.7333333333333333, 0.6078431372549019),\n",
       " 'No Winner': (0, 0, 0)}"
      ]
     },
     "execution_count": 9,
     "metadata": {},
     "output_type": "execute_result"
    }
   ],
   "source": [
    "df.winning_strategy.replace({\"None\":\"No Winner\"}, inplace = True)\n",
    "colors.update({\"No Winner\":(0,0,0)})\n",
    "colors"
   ]
  },
  {
   "cell_type": "code",
   "execution_count": 10,
   "id": "7868ca32",
   "metadata": {},
   "outputs": [
    {
     "ename": "ValueError",
     "evalue": "attempt to get argmax of an empty sequence",
     "output_type": "error",
     "traceback": [
      "\u001b[0;31m---------------------------------------------------------------------------\u001b[0m",
      "\u001b[0;31mValueError\u001b[0m                                Traceback (most recent call last)",
      "\u001b[0;32m/var/folders/f7/ks4rl3915yj6crhznly5p28h0000gq/T/ipykernel_68088/2389690424.py\u001b[0m in \u001b[0;36m<module>\u001b[0;34m\u001b[0m\n\u001b[1;32m      9\u001b[0m         \u001b[0mcounter\u001b[0m \u001b[0;34m+=\u001b[0m \u001b[0;36m1\u001b[0m\u001b[0;34m\u001b[0m\u001b[0;34m\u001b[0m\u001b[0m\n\u001b[1;32m     10\u001b[0m         \u001b[0mdata\u001b[0m \u001b[0;34m=\u001b[0m \u001b[0mdf\u001b[0m\u001b[0;34m[\u001b[0m\u001b[0;34m(\u001b[0m\u001b[0mdf\u001b[0m\u001b[0;34m.\u001b[0m\u001b[0mLDA_axis_1\u001b[0m \u001b[0;34m==\u001b[0m \u001b[0mx\u001b[0m\u001b[0;34m)\u001b[0m \u001b[0;34m&\u001b[0m \u001b[0;34m(\u001b[0m\u001b[0mdf\u001b[0m\u001b[0;34m.\u001b[0m\u001b[0mLDA_axis_2\u001b[0m \u001b[0;34m==\u001b[0m \u001b[0my\u001b[0m\u001b[0;34m)\u001b[0m\u001b[0;34m]\u001b[0m\u001b[0;34m\u001b[0m\u001b[0;34m\u001b[0m\u001b[0m\n\u001b[0;32m---> 11\u001b[0;31m         \u001b[0mav_winner\u001b[0m \u001b[0;34m=\u001b[0m \u001b[0mdata\u001b[0m\u001b[0;34m.\u001b[0m\u001b[0mwinning_strategy\u001b[0m\u001b[0;34m.\u001b[0m\u001b[0mvalue_counts\u001b[0m\u001b[0;34m(\u001b[0m\u001b[0;34m)\u001b[0m\u001b[0;34m.\u001b[0m\u001b[0midxmax\u001b[0m\u001b[0;34m(\u001b[0m\u001b[0;34m)\u001b[0m\u001b[0;34m\u001b[0m\u001b[0;34m\u001b[0m\u001b[0m\n\u001b[0m\u001b[1;32m     12\u001b[0m         \u001b[0max\u001b[0m\u001b[0;34m.\u001b[0m\u001b[0mscatter\u001b[0m\u001b[0;34m(\u001b[0m\u001b[0mx\u001b[0m \u001b[0;34m=\u001b[0m \u001b[0mx\u001b[0m\u001b[0;34m,\u001b[0m \u001b[0my\u001b[0m \u001b[0;34m=\u001b[0m \u001b[0my\u001b[0m\u001b[0;34m,\u001b[0m \u001b[0mcolor\u001b[0m \u001b[0;34m=\u001b[0m \u001b[0mcolors\u001b[0m\u001b[0;34m[\u001b[0m\u001b[0mav_winner\u001b[0m\u001b[0;34m]\u001b[0m\u001b[0;34m,\u001b[0m \u001b[0mmarker\u001b[0m \u001b[0;34m=\u001b[0m \u001b[0;34m\"o\"\u001b[0m\u001b[0;34m,\u001b[0m \u001b[0malpha\u001b[0m \u001b[0;34m=\u001b[0m \u001b[0;36m0.4\u001b[0m\u001b[0;34m)\u001b[0m\u001b[0;34m\u001b[0m\u001b[0;34m\u001b[0m\u001b[0m\n\u001b[1;32m     13\u001b[0m \u001b[0;34m\u001b[0m\u001b[0m\n",
      "\u001b[0;32m~/anaconda3/lib/python3.8/site-packages/pandas/core/series.py\u001b[0m in \u001b[0;36midxmax\u001b[0;34m(self, axis, skipna, *args, **kwargs)\u001b[0m\n\u001b[1;32m   2529\u001b[0m         \u001b[0;31m# error: Argument 1 to \"argmax\" of \"IndexOpsMixin\" has incompatible type\u001b[0m\u001b[0;34m\u001b[0m\u001b[0;34m\u001b[0m\u001b[0;34m\u001b[0m\u001b[0m\n\u001b[1;32m   2530\u001b[0m         \u001b[0;31m# \"Union[int, Literal['index', 'columns']]\"; expected \"Optional[int]\"\u001b[0m\u001b[0;34m\u001b[0m\u001b[0;34m\u001b[0m\u001b[0;34m\u001b[0m\u001b[0m\n\u001b[0;32m-> 2531\u001b[0;31m         \u001b[0mi\u001b[0m \u001b[0;34m=\u001b[0m \u001b[0mself\u001b[0m\u001b[0;34m.\u001b[0m\u001b[0margmax\u001b[0m\u001b[0;34m(\u001b[0m\u001b[0maxis\u001b[0m\u001b[0;34m,\u001b[0m \u001b[0mskipna\u001b[0m\u001b[0;34m,\u001b[0m \u001b[0;34m*\u001b[0m\u001b[0margs\u001b[0m\u001b[0;34m,\u001b[0m \u001b[0;34m**\u001b[0m\u001b[0mkwargs\u001b[0m\u001b[0;34m)\u001b[0m  \u001b[0;31m# type: ignore[arg-type]\u001b[0m\u001b[0;34m\u001b[0m\u001b[0;34m\u001b[0m\u001b[0m\n\u001b[0m\u001b[1;32m   2532\u001b[0m         \u001b[0;32mif\u001b[0m \u001b[0mi\u001b[0m \u001b[0;34m==\u001b[0m \u001b[0;34m-\u001b[0m\u001b[0;36m1\u001b[0m\u001b[0;34m:\u001b[0m\u001b[0;34m\u001b[0m\u001b[0;34m\u001b[0m\u001b[0m\n\u001b[1;32m   2533\u001b[0m             \u001b[0;32mreturn\u001b[0m \u001b[0mnp\u001b[0m\u001b[0;34m.\u001b[0m\u001b[0mnan\u001b[0m\u001b[0;34m\u001b[0m\u001b[0;34m\u001b[0m\u001b[0m\n",
      "\u001b[0;32m~/anaconda3/lib/python3.8/site-packages/pandas/core/base.py\u001b[0m in \u001b[0;36margmax\u001b[0;34m(self, axis, skipna, *args, **kwargs)\u001b[0m\n\u001b[1;32m    676\u001b[0m             \u001b[0;31m# error: Incompatible return value type (got \"Union[int, ndarray]\", expected\u001b[0m\u001b[0;34m\u001b[0m\u001b[0;34m\u001b[0m\u001b[0;34m\u001b[0m\u001b[0m\n\u001b[1;32m    677\u001b[0m             \u001b[0;31m# \"int\")\u001b[0m\u001b[0;34m\u001b[0m\u001b[0;34m\u001b[0m\u001b[0;34m\u001b[0m\u001b[0m\n\u001b[0;32m--> 678\u001b[0;31m             return nanops.nanargmax(  # type: ignore[return-value]\n\u001b[0m\u001b[1;32m    679\u001b[0m                 \u001b[0mdelegate\u001b[0m\u001b[0;34m,\u001b[0m \u001b[0mskipna\u001b[0m\u001b[0;34m=\u001b[0m\u001b[0mskipna\u001b[0m\u001b[0;34m\u001b[0m\u001b[0;34m\u001b[0m\u001b[0m\n\u001b[1;32m    680\u001b[0m             )\n",
      "\u001b[0;32m~/anaconda3/lib/python3.8/site-packages/pandas/core/nanops.py\u001b[0m in \u001b[0;36m_f\u001b[0;34m(*args, **kwargs)\u001b[0m\n\u001b[1;32m     94\u001b[0m             \u001b[0;32mtry\u001b[0m\u001b[0;34m:\u001b[0m\u001b[0;34m\u001b[0m\u001b[0;34m\u001b[0m\u001b[0m\n\u001b[1;32m     95\u001b[0m                 \u001b[0;32mwith\u001b[0m \u001b[0mnp\u001b[0m\u001b[0;34m.\u001b[0m\u001b[0merrstate\u001b[0m\u001b[0;34m(\u001b[0m\u001b[0minvalid\u001b[0m\u001b[0;34m=\u001b[0m\u001b[0;34m\"ignore\"\u001b[0m\u001b[0;34m)\u001b[0m\u001b[0;34m:\u001b[0m\u001b[0;34m\u001b[0m\u001b[0;34m\u001b[0m\u001b[0m\n\u001b[0;32m---> 96\u001b[0;31m                     \u001b[0;32mreturn\u001b[0m \u001b[0mf\u001b[0m\u001b[0;34m(\u001b[0m\u001b[0;34m*\u001b[0m\u001b[0margs\u001b[0m\u001b[0;34m,\u001b[0m \u001b[0;34m**\u001b[0m\u001b[0mkwargs\u001b[0m\u001b[0;34m)\u001b[0m\u001b[0;34m\u001b[0m\u001b[0;34m\u001b[0m\u001b[0m\n\u001b[0m\u001b[1;32m     97\u001b[0m             \u001b[0;32mexcept\u001b[0m \u001b[0mValueError\u001b[0m \u001b[0;32mas\u001b[0m \u001b[0me\u001b[0m\u001b[0;34m:\u001b[0m\u001b[0;34m\u001b[0m\u001b[0;34m\u001b[0m\u001b[0m\n\u001b[1;32m     98\u001b[0m                 \u001b[0;31m# we want to transform an object array\u001b[0m\u001b[0;34m\u001b[0m\u001b[0;34m\u001b[0m\u001b[0;34m\u001b[0m\u001b[0m\n",
      "\u001b[0;32m~/anaconda3/lib/python3.8/site-packages/pandas/core/nanops.py\u001b[0m in \u001b[0;36mnanargmax\u001b[0;34m(values, axis, skipna, mask)\u001b[0m\n\u001b[1;32m   1145\u001b[0m     \u001b[0mvalues\u001b[0m\u001b[0;34m,\u001b[0m \u001b[0mmask\u001b[0m\u001b[0;34m,\u001b[0m \u001b[0m_\u001b[0m\u001b[0;34m,\u001b[0m \u001b[0m_\u001b[0m\u001b[0;34m,\u001b[0m \u001b[0m_\u001b[0m \u001b[0;34m=\u001b[0m \u001b[0m_get_values\u001b[0m\u001b[0;34m(\u001b[0m\u001b[0mvalues\u001b[0m\u001b[0;34m,\u001b[0m \u001b[0;32mTrue\u001b[0m\u001b[0;34m,\u001b[0m \u001b[0mfill_value_typ\u001b[0m\u001b[0;34m=\u001b[0m\u001b[0;34m\"-inf\"\u001b[0m\u001b[0;34m,\u001b[0m \u001b[0mmask\u001b[0m\u001b[0;34m=\u001b[0m\u001b[0mmask\u001b[0m\u001b[0;34m)\u001b[0m\u001b[0;34m\u001b[0m\u001b[0;34m\u001b[0m\u001b[0m\n\u001b[1;32m   1146\u001b[0m     \u001b[0;31m# error: Need type annotation for 'result'\u001b[0m\u001b[0;34m\u001b[0m\u001b[0;34m\u001b[0m\u001b[0;34m\u001b[0m\u001b[0m\n\u001b[0;32m-> 1147\u001b[0;31m     \u001b[0mresult\u001b[0m \u001b[0;34m=\u001b[0m \u001b[0mvalues\u001b[0m\u001b[0;34m.\u001b[0m\u001b[0margmax\u001b[0m\u001b[0;34m(\u001b[0m\u001b[0maxis\u001b[0m\u001b[0;34m)\u001b[0m  \u001b[0;31m# type: ignore[var-annotated]\u001b[0m\u001b[0;34m\u001b[0m\u001b[0;34m\u001b[0m\u001b[0m\n\u001b[0m\u001b[1;32m   1148\u001b[0m     \u001b[0mresult\u001b[0m \u001b[0;34m=\u001b[0m \u001b[0m_maybe_arg_null_out\u001b[0m\u001b[0;34m(\u001b[0m\u001b[0mresult\u001b[0m\u001b[0;34m,\u001b[0m \u001b[0maxis\u001b[0m\u001b[0;34m,\u001b[0m \u001b[0mmask\u001b[0m\u001b[0;34m,\u001b[0m \u001b[0mskipna\u001b[0m\u001b[0;34m)\u001b[0m\u001b[0;34m\u001b[0m\u001b[0;34m\u001b[0m\u001b[0m\n\u001b[1;32m   1149\u001b[0m     \u001b[0;32mreturn\u001b[0m \u001b[0mresult\u001b[0m\u001b[0;34m\u001b[0m\u001b[0;34m\u001b[0m\u001b[0m\n",
      "\u001b[0;31mValueError\u001b[0m: attempt to get argmax of an empty sequence"
     ]
    },
    {
     "data": {
      "image/png": "[encoded data removed]",
      "text/plain": [
       "<Figure size 864x576 with 1 Axes>"
      ]
     },
     "metadata": {
      "needs_background": "light"
     },
     "output_type": "display_data"
    }
   ],
   "source": [
    "from random import random\n",
    "fig, ax = plt.subplots(figsize = (12,8))\n",
    "\n",
    "ldax, lday = df.LDA_axis_1[0::10], df.LDA_axis_2[0::10]\n",
    "p = 1\n",
    "counter = 0\n",
    "for x, y in zip(ldax, lday):\n",
    "    if p > random():\n",
    "        counter += 1\n",
    "        data = df[(df.LDA_axis_1 == x) & (df.LDA_axis_2 == y)]\n",
    "        av_winner = data.winning_strategy.value_counts().idxmax()\n",
    "        ax.scatter(x = x, y = y, color = colors[av_winner], marker = \"o\", alpha = 0.4)\n",
    "\n",
    "plot_original_axes(ax, sensitivity.parameter_directions, sensitivity.parameter_names, text_placement_y, arrow_length=0.4)\n",
    "\n",
    "legend_elements = [plt.Line2D([0], [0], marker='o', color='w', markerfacecolor=color, markersize=10, label=label)\n",
    "                   for label, color in colors.items()]\n",
    "\n",
    "plot_experiments(ax, experiments, yspace = [0.03, -0.06, 0.03], xspace = [-0.08, -.06, 0])\n",
    "# Add the custom legend to the plot\n",
    "plt.legend(handles=legend_elements, loc='upper right')\n",
    "plt.xlabel(\"LDA_x\")\n",
    "plt.ylabel(\"LDA_y\")\n",
    "plt.savefig(os.path.join(path, \"lda_raw.png\"), dpi = 300)\n",
    "\n"
   ]
  },
  {
   "cell_type": "code",
   "execution_count": null,
   "id": "7a29f379",
   "metadata": {},
   "outputs": [],
   "source": []
  }
 ],
 "metadata": {
  "kernelspec": {
   "display_name": "Python 3 (ipykernel)",
   "language": "python",
   "name": "python3"
  },
  "language_info": {
   "codemirror_mode": {
    "name": "ipython",
    "version": 3
   },
   "file_extension": ".py",
   "mimetype": "text/x-python",
   "name": "python",
   "nbconvert_exporter": "python",
   "pygments_lexer": "ipython3",
   "version": "3.8.5"
  }
 },
 "nbformat": 4,
 "nbformat_minor": 5
}
