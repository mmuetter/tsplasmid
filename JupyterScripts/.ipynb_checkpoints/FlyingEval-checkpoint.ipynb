{
 "cells": [
  {
   "cell_type": "markdown",
   "metadata": {},
   "source": [
    "# TS_Plasmids - Flying Evaluation\n",
    "## Scan Folders for files \n",
    "- Agar plate evaluation .json in .../pickolo/json\n",
    "- OD reader .xml files in .../OD/xml"
   ]
  },
  {
   "cell_type": "code",
   "execution_count": 1,
   "metadata": {},
   "outputs": [],
   "source": [
    "use_backup_data = True\n",
    "\n",
    "import pandas as pd\n",
    "import EvalFunctions as ef\n",
    "import seaborn as sns\n",
    "from matplotlib import pyplot as plt\n",
    "\n",
    "path = \"/Users/malte/polybox/Shared/Robot-Shared/TSPlasmids/experiments/20210417_output\"\n",
    "\n",
    "## Load all Barcodes\n",
    "barcodes = pd.read_csv(path+\"/barcodes.csv\")\n",
    "barcodes = barcodes.set_index(\"barcode\")\n",
    "\n",
    "## Initialize Datframe\n",
    "Data = pd.DataFrame(columns = [\"ID\", \"Time\", \"Replicate\", \"OD_B\", \"OD_A\", \"Growth\", \"Row\", \"Column\", \"Strategy\", \"Agar_N\", \"Agar_A\", \"Agar_B\", \"Agar_AB\", \"Phenotype\"])\n",
    "Data = Data.set_index(\"ID\")\n",
    "\n",
    "## Load all names of ... files in folder ... in the experiment folder ... and drop name of lock files (appear when opened)\n",
    "agar_file_names = ef.FileNames(\".json\", path, \"pickolo/json\")\n",
    "od_file_names = ef.FileNames(\".xml\", path, \"OD/xml\")\n",
    "instruction_file_names = ef.FileNames(\".csv\", path, \"platefiles\")"
   ]
  },
  {
   "cell_type": "markdown",
   "metadata": {},
   "source": [
    "## Build Dictionaries"
   ]
  },
  {
   "cell_type": "code",
   "execution_count": 2,
   "metadata": {},
   "outputs": [],
   "source": [
    "## Build dictionary to assign colors\n",
    "hue_infos = {\"U\":\"gray\", \"S\":\"green\", \"A\":\"yellow\", \"B\":\"orange\", \"AB\":\"red\", \"A&B\":\"pink\", \"Fishy\":\"black\", \"Fishy_OD\":\"Brown\"}\n",
    "\n",
    "## Build dictionary to assign strategies\n",
    "strategies = {\"P1\": \"No treatment\", \"P2\":\"Mono A\", \"P3\":\"Mono B\",\"P4\":\"Combo\",\"P5\":\"Cycling\", \"P6\":\"Mixing\"}\n",
    "\n",
    "## Well Dictionary\n",
    "well = 1\n",
    "well_dict = {}\n",
    "plate_rows = [\"A\", \"B\", \"C\", \"D\", \"E\", \"F\", \"G\", \"H\", \"I\", \"J\", \"K\", \"L\", \"M\", \"N\", \"O\", \"P\"]\n",
    "for row in plate_rows:\n",
    "    for col in range(1,25):\n",
    "        well_dict.update({well : str(row)+str(col)})\n",
    "        well += 1\n",
    "        \n",
    "## Transfer Dict\n",
    "transfer_dict = {}\n",
    "for t in range(1,13):\n",
    "    transfer_dict.update({t:\"t\"+str(t)})"
   ]
  },
  {
   "cell_type": "markdown",
   "metadata": {},
   "source": [
    "## Import Agar Plate Data and evaluate Phenotype"
   ]
  },
  {
   "cell_type": "code",
   "execution_count": null,
   "metadata": {},
   "outputs": [],
   "source": [
    "if use_backup_data == False:\n",
    "    Data = ef.ImportAgarPlates(agar_file_names, Data, strategies)\n",
    "    Data = ef.EvaluatePhenotype(Data)\n",
    "    Data = ef.Label_Replicates(Data, plate_rows)\n",
    "    Data_backup = Data\n",
    "    Data_backup.to_csv(\"Data_backup.csv\")\n",
    "else:\n",
    "    Data = pd.read_csv(\"Data_backup.csv\", index_col=0)    \n",
    "    Data_backup = Data\n",
    "## Count incidence of each Phenotype per Strategy and Replicate\n",
    "summary = ef.Summerize_Results_hist(Data)\n",
    "    "
   ]
  },
  {
   "cell_type": "markdown",
   "metadata": {},
   "source": [
    "## Plot Result"
   ]
  },
  {
   "cell_type": "code",
   "execution_count": null,
   "metadata": {},
   "outputs": [],
   "source": [
    "import numpy as np\n",
    "import seaborn as sns; sns.set(style=\"ticks\", color_codes=True)\n",
    "from matplotlib import pyplot as plt\n",
    "import matplotlib.ticker as ticker   \n",
    "\n",
    "sns.set(font_scale=2, style='ticks')  # crazy big\n",
    "\n",
    "g = sns.lmplot(data=summary,  x=\"Time\", y=\"Fraction\",  \n",
    "               col=\"Strategy\", col_wrap=3,  \n",
    "               hue=\"Phenotype\", #markers=marker,\n",
    "               fit_reg=False, x_estimator=np.mean,               # Don't draw regression, draw errorbars\n",
    "               palette=hue_infos, # choosing colors\n",
    "               height=10, aspect = 1.2,                          # figure size\n",
    "               legend_out=False,                                 # Legend in figure\n",
    "               scatter_kws={\"s\": 400, 'alpha': 0.6}                           # Markersize\n",
    "              )\n",
    "#g.set(yscale=\"log\")\n",
    "g.set_axis_labels(\"Transfers\", \"Fraction [%]\") # Correct axes Labels\n",
    "g.tight_layout() # Make everything look nicer\n",
    "g.fig.get_axes()[2].legend(loc='upper right') # Place Legend Upper Left \n",
    "\n",
    "plt.savefig('Summary.png')"
   ]
  },
  {
   "cell_type": "code",
   "execution_count": null,
   "metadata": {},
   "outputs": [],
   "source": [
    "g = sns.relplot(\n",
    "    data=summary, x=\"Time\", y=\"Fraction\",\n",
    "    col=\"Strategy\", col_wrap = 3,  hue=\"Phenotype\", \n",
    "    kind=\"line\", palette=hue_infos\n",
    ")\n",
    "g.set_axis_labels(\"Transfers\", \"Fraction [%]\")\n",
    "plt.savefig('Summary2.png')"
   ]
  },
  {
   "cell_type": "markdown",
   "metadata": {},
   "source": [
    "## Add the OD measurements to Dataframe \n",
    "- <span style=\"color:red\"> split CalculateGrowthAndCleanDataframe into two and don't clean the dataframe. The instructions for the later transfers are sometimes usefull to track contaminated wells"
   ]
  },
  {
   "cell_type": "code",
   "execution_count": null,
   "metadata": {},
   "outputs": [],
   "source": [
    "if use_backup_data == False:\n",
    "    Data = ef.LoadODs(od_file_names, Data)\n",
    "    Data_backup_od = Data\n",
    "    Data_backup_od.to_csv(\"Data_backup_OD.csv\")\n",
    "else:\n",
    "    Data = pd.read_csv(\"Data_backup_OD.csv\", index_col=0)  \n",
    "    Data_backup_od = Data\n",
    "\n",
    "# Clearing happens to all rows where necessary Data are missing. So don't leave more than one NaN per row behind...\n",
    "# Data = ef.CalculateGrowthAndCleanDataframe(Data)"
   ]
  },
  {
   "cell_type": "markdown",
   "metadata": {},
   "source": [
    "## Add the Instructions to Dataframe"
   ]
  },
  {
   "cell_type": "code",
   "execution_count": null,
   "metadata": {},
   "outputs": [],
   "source": [
    "Data, r_well_dict  = ef.Include_Instructions(Data, instruction_file_names, plate_rows)\n",
    "\n",
    "import re \n",
    "def AddWellNames(data, r_well_dict):\n",
    "    for i, row in data.iterrows():\n",
    "        s = i.split(\"_\")\n",
    "        data.loc[i, \"cr_well\"] = s[2]\n",
    "        data.loc[i, \"r_well\"] = r_well_dict[s[2]]\n",
    "        r = re.sub(\"\\d\", \"\", s[2])\n",
    "        c = re.sub(\"\\D\", \"\", s[2])\n",
    "        data.loc[i, \"Row\"] = r\n",
    "        data.loc[i, \"Column\"] = int(c)\n",
    "        t = re.sub(\"\\D\", \"\", s[0])\n",
    "        data.loc[i, \"Time\"] = int(t)\n",
    "    return data\n",
    "Data = AddWellNames(Data, r_well_dict)\n",
    "Data = ef.Label_Replicates(Data, plate_rows)\n",
    "\n",
    "\n",
    "\n"
   ]
  },
  {
   "cell_type": "code",
   "execution_count": null,
   "metadata": {},
   "outputs": [],
   "source": [
    "Data, r_well_dict  = ef.Include_Instructions(Data, instruction_file_names, plate_rows)\n",
    "\n"
   ]
  },
  {
   "cell_type": "markdown",
   "metadata": {},
   "source": [
    "## Exclude wells affected by contamination\n",
    "- <span style=\"color:red\"> Figure out what I meant by OD_A and OD_B"
   ]
  },
  {
   "cell_type": "code",
   "execution_count": null,
   "metadata": {},
   "outputs": [],
   "source": [
    "# track contaminated cells find cont\n",
    "## In which transfers were did the contamination happen??\n",
    "transfers = [10, 11]\n",
    "## For each transfer: Which reservoirs have been contaminated?\n",
    "contaminated_reservoirs = [[\"A_r\", \"B_r\"], [\"A_r\", \"B_r\"]]\n",
    "## When was the Contamination fixed\n",
    "t_contamination_fixed = 13"
   ]
  },
  {
   "cell_type": "code",
   "execution_count": null,
   "metadata": {},
   "outputs": [],
   "source": [
    "def Contaminated_by_turnover(Data, transfers, contaminated_reservoirs):\n",
    "    Data[\"Exclude\"] = False\n",
    "    Data[\"Contaminated\"] = False\n",
    "    Data_Full = Data.copy()\n",
    "    count = 0\n",
    "    data = pd.DataFrame(columns = Data.columns)\n",
    "    for t in transfers:\n",
    "        data_t = Data_Full[Data_Full[\"Time\"] == t]\n",
    "        for reservoir in contaminated_reservoirs[count]:\n",
    "            d_t = data_t[data_t[\"Turnover\"] == reservoir]\n",
    "            data = data.append(d_t)\n",
    "        count += 1\n",
    "    return data\n",
    "data_contaminated_by_Turnover =  Contaminated_by_turnover(Data, transfers, contaminated_reservoirs)"
   ]
  },
  {
   "cell_type": "code",
   "execution_count": null,
   "metadata": {},
   "outputs": [],
   "source": [
    "Data.loc[data_contaminated_by_Turnover.index,\"Contaminated\"] = True\n",
    "Data.loc[data_contaminated_by_Turnover.index,\"Exclude\"] = True\n",
    "data_contaminated_by_Turnover.r_well.unique()"
   ]
  },
  {
   "cell_type": "markdown",
   "metadata": {},
   "source": [
    "## Figure out which wells are affected by contamination\n",
    "- <span style = \"color:red\"> find method to \"cure\" contaminated cells\n",
    "- t_contamination_fixed = 12"
   ]
  },
  {
   "cell_type": "code",
   "execution_count": null,
   "metadata": {},
   "outputs": [],
   "source": [
    "## Affected by contaminated transfer\n",
    "t_start = transfers[1]\n",
    "t_end = t_contamination_fixed-1\n",
    "print(t_start, t_end)"
   ]
  },
  {
   "cell_type": "code",
   "execution_count": null,
   "metadata": {},
   "outputs": [],
   "source": [
    "\n",
    "for t in range(t_start, t_contamination_fixed):\n",
    "    \n",
    "    data_contaminated_by_Turnover = data_contaminated_by_Turnover[data_contaminated_by_Turnover[\"Time\"]==t-1]\n",
    "    contaminated_rwells = data_contaminated_by_Turnover.r_well.unique()\n",
    "    \n",
    "    ## Check if this well was transfered by an previously infected r_well\n",
    "    for rw in contaminated_rwells:\n",
    "        Data.loc[(Data[\"r_well\"] == rw) & (Data[\"Time\"] == t), \"Exclude\"] = list(Data.loc[(Data[\"r_well\"] == rw) & (Data[\"Time\"] == t-1), \"Exclude\"])\n",
    "        Data.loc[(Data[\"r_well\"] == rw) & (Data[\"Time\"] == t), \"Contaminated\"] = list(Data.loc[(Data[\"r_well\"] == rw) & (Data[\"Time\"] == t-1), \"Contaminated\"])\n",
    "    \n",
    "    ## Check if well was infected with contaminated well\n",
    "    Data_t = Data.loc[(Data[\"Time\"] == t)]\n",
    "    for i, row in Data_t.iterrows():\n",
    "        infecting_id = row[\"infected_by_\"] \n",
    "        if infecting_id != \"None\":\n",
    "            print(\"Was infected by%s\"%Data.loc[infecting_id, \"r_well\"])\n",
    "            if Data.loc[infecting_id, \"Contaminated\"]:\n",
    "                Data.loc[i, \"Contaminated\"] = True\n",
    "                Data.loc[i, \"Exclude\"] = True\n",
    "                print(i, \"Well was contaminated due to infection from well\", infecting_id)\n",
    "            "
   ]
  },
  {
   "cell_type": "code",
   "execution_count": null,
   "metadata": {},
   "outputs": [],
   "source": [
    "data_contaminated = Data[(Data[\"Contaminated\"] == True) ]\n",
    "data_contaminated.r_well.unique()"
   ]
  },
  {
   "cell_type": "code",
   "execution_count": null,
   "metadata": {},
   "outputs": [],
   "source": [
    "Data[\"infected_by_\"].unique()"
   ]
  },
  {
   "cell_type": "markdown",
   "metadata": {},
   "source": [
    "## Antibiotic Treamtent"
   ]
  },
  {
   "cell_type": "code",
   "execution_count": null,
   "metadata": {},
   "outputs": [],
   "source": [
    "sns.catplot(x=\"Time\", data=Data, kind=\"count\", hue=\"treatment_with\", col=\"Strategy\", col_wrap=3)\n",
    "plt.savefig('Treatment.png')"
   ]
  },
  {
   "cell_type": "markdown",
   "metadata": {},
   "source": [
    "## Turnover Strains"
   ]
  },
  {
   "cell_type": "code",
   "execution_count": null,
   "metadata": {},
   "outputs": [],
   "source": [
    "Data_noNone = Data.loc[Data[\"Turnover\"] != \"None\"]\n",
    "sns.catplot(x=\"Time\", data=Data_noNone, kind=\"count\", hue=\"Turnover\", col=\"Strategy\", col_wrap=3)\n",
    "plt.savefig('Turnover.png')"
   ]
  },
  {
   "cell_type": "code",
   "execution_count": null,
   "metadata": {},
   "outputs": [],
   "source": [
    "Data_backup_od"
   ]
  },
  {
   "cell_type": "markdown",
   "metadata": {},
   "source": [
    "## Interesting histories\n",
    "- Reconstruct histories over time and plot trees\n",
    "    - A + B + Treatment = B+A + Treatment\n",
    "    - A + Treatment\n",
    "    - B + Treatment\n",
    "    - A&B + Treatment\n",
    "    - S+Treatment\n",
    "    - Exclude fishy Datapoints"
   ]
  },
  {
   "cell_type": "markdown",
   "metadata": {},
   "source": [
    "- infected by false, weil muss eine platte vorher sein\n",
    "- infection checken mit Bitwise addition\n"
   ]
  },
  {
   "cell_type": "code",
   "execution_count": null,
   "metadata": {},
   "outputs": [],
   "source": [
    "tmp = Data[(Data[\"Time\"] == 11)]"
   ]
  },
  {
   "cell_type": "code",
   "execution_count": null,
   "metadata": {},
   "outputs": [],
   "source": [
    "infecting = tmp[\"infected_by_\"].unique()"
   ]
  },
  {
   "cell_type": "code",
   "execution_count": null,
   "metadata": {},
   "outputs": [],
   "source": [
    "Data.loc[infecting[1:], \"r_well\"].unique()"
   ]
  },
  {
   "cell_type": "code",
   "execution_count": null,
   "metadata": {},
   "outputs": [],
   "source": [
    "infecting"
   ]
  },
  {
   "cell_type": "code",
   "execution_count": null,
   "metadata": {},
   "outputs": [],
   "source": [
    "Data.loc[\"t11_P1_M19\"]"
   ]
  },
  {
   "cell_type": "code",
   "execution_count": null,
   "metadata": {},
   "outputs": [],
   "source": [
    "Data[Data[\"infected_by_\"] == \"t11_P1_M19\"]"
   ]
  },
  {
   "cell_type": "code",
   "execution_count": null,
   "metadata": {},
   "outputs": [],
   "source": []
  }
 ],
 "metadata": {
  "kernelspec": {
   "display_name": "Python 3",
   "language": "python",
   "name": "python3"
  },
  "language_info": {
   "codemirror_mode": {
    "name": "ipython",
    "version": 3
   },
   "file_extension": ".py",
   "mimetype": "text/x-python",
   "name": "python",
   "nbconvert_exporter": "python",
   "pygments_lexer": "ipython3",
   "version": "3.8.5"
  }
 },
 "nbformat": 4,
 "nbformat_minor": 4
}
