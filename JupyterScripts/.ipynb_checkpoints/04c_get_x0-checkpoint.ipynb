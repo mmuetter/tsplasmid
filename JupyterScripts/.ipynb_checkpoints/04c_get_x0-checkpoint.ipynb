{
 "cells": [
  {
   "cell_type": "markdown",
   "id": "b0a05222",
   "metadata": {},
   "source": [
    "## Turnover Decisions\n",
    "- Every well phenotype has a chance to be turned overed\n",
    "- For every transfer there is a unique distribution of turnover strains.\n",
    "- We count the per phenotype rate of wells that will be discharged at the end of the transfer after the phenotyping\n",
    "- We also count the turnover distribution at the beginning of each transfer."
   ]
  },
  {
   "cell_type": "code",
   "execution_count": 1,
   "id": "02efd35c",
   "metadata": {},
   "outputs": [],
   "source": [
    "%load_ext autoreload\n",
    "%autoreload 2\n",
    "\n",
    "import pandas as pd\n",
    "import seaborn as sns\n",
    "from matplotlib import pyplot as plt\n",
    "import numpy as np\n",
    "import math\n",
    "from evaluation_scripts.base import get_pathes, dict_to_json, load_toml\n",
    "from evaluation_scripts.well_ident import build_dictionaries\n",
    "from itertools import product as iterprod\n",
    "import json\n",
    "from model_scripts.decisions_04 import get_tau_out\n",
    "\n",
    "experiments = [\"20220412\", \"20220127\", \"20210417\"]\n",
    "regular_phenos = [\"UI\", \"S\", \"A_r\", \"B_r\", \"A&B\", \"AB_r\"] \n"
   ]
  },
  {
   "cell_type": "code",
   "execution_count": 2,
   "id": "831b7a2f",
   "metadata": {},
   "outputs": [
    {
     "name": "stdout",
     "output_type": "stream",
     "text": [
      "20220412\n",
      "20220127\n",
      "20210417\n"
     ]
    }
   ],
   "source": [
    "for exp in experiments:\n",
    "    print(exp)\n",
    "    ## LOAD\n",
    "    jupyter_path, base_path, path, analysis_path, os = get_pathes(exp + \"_output\")\n",
    "    hue_infos, strategies, plate_rows, agar_strain_dict = build_dictionaries()\n",
    "    Data = pd.read_pickle(analysis_path+os.sep+\"obj\"+os.sep+\"01b_Data.pkl\")\n",
    "    with open(os.path.join(path, \"exp_pars.json\")) as json_data:\n",
    "            exp_pars = json.load(json_data)\n",
    "    \n",
    "    ## DO\n",
    "    # Calculate the discharge rate by phenotype\n",
    "    df = Data[Data.turnover_strain.isnull()== False].copy()\n",
    "    df[\"discharged\"] = df.transfer_to_well_id.isnull()\n",
    "    cols = [\"transfer_n\", \"strategy\", \"phenotype\", \"discharged\"]\n",
    "    discharge = df[df.discharged & df.phenotype.isin(regular_phenos)][cols].groupby(cols[:-1]).count().unstack(fill_value=0).stack()\n",
    "    discharge[\"n\"] = df[df.phenotype.isin(regular_phenos)][cols].groupby(cols[:-1]).count().unstack(fill_value=0).stack()\n",
    "    discharge\n",
    "    # Calculate the admittions rate by phenotype\n",
    "    cols = [\"transfer_n\", \"strategy\", \"turnover_strain\", \"admittions\"]\n",
    "    df[\"admittions\"] = True\n",
    "    admittions = df[df.turnover_strain.isin(regular_phenos)][cols].groupby(cols[:-1]).count().unstack(fill_value=0).stack()\n",
    "    admittions[\"m\"] = admittions[\"admittions\"].groupby(level=[0,1]).sum()\n",
    "    admittions[\"tau_in\"] = admittions.admittions/admittions.m\n",
    "    admittions\n",
    "    \n",
    "    ## SAVE\n",
    "    discharge.to_pickle(os.path.join(analysis_path, \"obj\", \"04b_turnover_out.pkl\"))\n",
    "    admittions.to_pickle(os.path.join(analysis_path, \"obj\", \"04b_turnover_in.pkl\"))"
   ]
  },
  {
   "cell_type": "code",
   "execution_count": null,
   "id": "ac527467",
   "metadata": {},
   "outputs": [],
   "source": []
  }
 ],
 "metadata": {
  "kernelspec": {
   "display_name": "Python 3 (ipykernel)",
   "language": "python",
   "name": "python3"
  },
  "language_info": {
   "codemirror_mode": {
    "name": "ipython",
    "version": 3
   },
   "file_extension": ".py",
   "mimetype": "text/x-python",
   "name": "python",
   "nbconvert_exporter": "python",
   "pygments_lexer": "ipython3",
   "version": "3.8.5"
  }
 },
 "nbformat": 4,
 "nbformat_minor": 5
}
