{
 "cells": [
  {
   "cell_type": "markdown",
   "id": "8dc3f91a",
   "metadata": {},
   "source": [
    "## Transition probabilities\n",
    "- T describes: $\\hat{x} = T x$\n",
    "- we average over all experiments"
   ]
  },
  {
   "cell_type": "code",
   "execution_count": 6,
   "id": "422e8c82",
   "metadata": {},
   "outputs": [
    {
     "name": "stdout",
     "output_type": "stream",
     "text": [
      "The autoreload extension is already loaded. To reload it, use:\n",
      "  %reload_ext autoreload\n"
     ]
    }
   ],
   "source": [
    "## Load\n",
    "%load_ext autoreload\n",
    "%autoreload 2\n",
    "from evaluation_scripts.experiment_class import Experiment\n",
    "from evaluation_scripts.transition_probabilities_class import Transition_probabilities\n",
    "from evaluation_scripts.base import save_for_latex\n",
    "import pandas as pd\n",
    "import os\n"
   ]
  },
  {
   "cell_type": "code",
   "execution_count": 2,
   "id": "3c760338",
   "metadata": {},
   "outputs": [],
   "source": [
    "experiments = [\"20220412\", \"20220127\", \"20210417\"]\n",
    "experiment = Experiment(experiments)\n"
   ]
  },
  {
   "cell_type": "markdown",
   "id": "3db3cb1f",
   "metadata": {},
   "source": [
    "## Do\n",
    "- Get the x phenotypes.\n",
    "    - S + U = S, A + A = A, A+B = A&B etc.\n",
    "    - Equations can be found in the SI of the paper\n",
    "- The loaded data correspond to $\\hat{x}(t)$\n",
    "- This data will be transformed to $x(t+1)$\n",
    "- Than we can find a T that describes $\\hat{x}(t+1) = Tx(t)$, since $\\hat{x}(t+1)$ is known\n",
    "- fishies will remain fishy exept they are mixed with ABr"
   ]
  },
  {
   "cell_type": "code",
   "execution_count": 3,
   "id": "cbca0a66",
   "metadata": {},
   "outputs": [
    {
     "name": "stdout",
     "output_type": "stream",
     "text": [
      "create transition rates for t!=1\n",
      "create transition rates for t==1\n"
     ]
    }
   ],
   "source": [
    "print(\"create transition rates for t!=1\")\n",
    "t = Transition_probabilities(experiment, write = True)\n",
    "\n",
    "print(\"create transition rates for t==1\")\n",
    "t1 = Transition_probabilities(experiment, t1 = True, write = True)\n"
   ]
  },
  {
   "cell_type": "code",
   "execution_count": 13,
   "id": "70d66e97",
   "metadata": {},
   "outputs": [
    {
     "name": "stdout",
     "output_type": "stream",
     "text": [
      "          index      U      S     Ar     Br    AuB    ABr\n",
      "0             U  0.965  0.002  0.001  0.000  0.001  0.003\n",
      "1             S  0.027  0.979  0.006  0.021  0.010  0.005\n",
      "2          A\\_r  0.005  0.009  0.967  0.000  0.068  0.034\n",
      "3          B\\_r  0.002  0.008  0.000  0.967  0.021  0.003\n",
      "4  (A\\_r\\&B\\_r)  0.000  0.001  0.005  0.012  0.077  0.044\n",
      "5         AB\\_r  0.002  0.001  0.021  0.000  0.823  0.911\n",
      "          index      U      S     Ar     Br    AuB    ABr\n",
      "0             U  0.988  0.960  0.012  0.974  0.024  0.014\n",
      "1             S  0.001  0.017  0.000  0.011  0.000  0.000\n",
      "2          A\\_r  0.010  0.019  0.985  0.006  0.587  0.009\n",
      "3          B\\_r  0.000  0.000  0.000  0.006  0.002  0.000\n",
      "4  (A\\_r\\&B\\_r)  0.000  0.000  0.001  0.001  0.184  0.011\n",
      "5         AB\\_r  0.002  0.003  0.002  0.001  0.202  0.966\n",
      "          index      U      S     Ar     Br    AuB    ABr\n",
      "0             U  0.991  0.795  0.632  0.007  0.030  0.017\n",
      "1             S  0.001  0.191  0.184  0.001  0.000  0.002\n",
      "2          A\\_r  0.000  0.000  0.175  0.000  0.000  0.000\n",
      "3          B\\_r  0.007  0.011  0.002  0.985  0.207  0.004\n",
      "4  (A\\_r\\&B\\_r)  0.000  0.000  0.001  0.002  0.030  0.002\n",
      "5         AB\\_r  0.002  0.003  0.006  0.005  0.734  0.974\n",
      "          index      U      S     Ar     Br  AuB    ABr\n",
      "0             U  0.998  0.896  0.495  0.984  1.0  0.022\n",
      "1             S  0.000  0.100  0.322  0.015  0.0  0.001\n",
      "2          A\\_r  0.000  0.000  0.181  0.000  0.0  0.000\n",
      "3          B\\_r  0.000  0.000  0.001  0.000  0.0  0.000\n",
      "4  (A\\_r\\&B\\_r)  0.000  0.000  0.000  0.000  0.0  0.000\n",
      "5         AB\\_r  0.002  0.004  0.002  0.001  0.0  0.977\n"
     ]
    }
   ],
   "source": [
    "for antibiotic in t.antibiotics:\n",
    "    path = os.path.join(t.pathes[\"base\"], \"tables\", \"M_\"+antibiotic+\".csv\")\n",
    "    M = t.transition_matrices[\"M_\"+antibiotic]\n",
    "    save_for_latex(M, [], path, round = 3)"
   ]
  },
  {
   "cell_type": "code",
   "execution_count": null,
   "id": "103caada",
   "metadata": {},
   "outputs": [],
   "source": []
  }
 ],
 "metadata": {
  "kernelspec": {
   "display_name": "Python 3 (ipykernel)",
   "language": "python",
   "name": "python3"
  },
  "language_info": {
   "codemirror_mode": {
    "name": "ipython",
    "version": 3
   },
   "file_extension": ".py",
   "mimetype": "text/x-python",
   "name": "python",
   "nbconvert_exporter": "python",
   "pygments_lexer": "ipython3",
   "version": "3.8.5"
  }
 },
 "nbformat": 4,
 "nbformat_minor": 5
}
