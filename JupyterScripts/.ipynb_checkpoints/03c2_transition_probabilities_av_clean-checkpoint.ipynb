{
 "cells": [
  {
   "cell_type": "markdown",
   "id": "8dc3f91a",
   "metadata": {},
   "source": [
    "## Transition probabilities\n",
    "- T describes: $\\hat{x} = T x$\n",
    "- we average over all experiments"
   ]
  },
  {
   "cell_type": "code",
   "execution_count": 1,
   "id": "422e8c82",
   "metadata": {},
   "outputs": [],
   "source": [
    "## Load\n",
    "%load_ext autoreload\n",
    "%autoreload 2\n",
    "from evaluation_scripts.experiment_class import Experiment\n",
    "from evaluation_scripts.transition_probabilities_class import Transition_probabilities\n",
    "from evaluation_scripts.base import save_for_latex\n",
    "import pandas as pd\n",
    "import os\n"
   ]
  },
  {
   "cell_type": "code",
   "execution_count": 2,
   "id": "3c760338",
   "metadata": {},
   "outputs": [],
   "source": [
    "experiments = [\"20220412\", \"20220127\", \"20210417\"]\n",
    "experiment = Experiment(experiments)\n"
   ]
  },
  {
   "cell_type": "markdown",
   "id": "3db3cb1f",
   "metadata": {},
   "source": [
    "## Do\n",
    "- Get the x phenotypes.\n",
    "    - S + U = S, A + A = A, A+B = A&B etc.\n",
    "    - Equations can be found in the SI of the paper\n",
    "- The loaded data correspond to $\\hat{x}(t)$\n",
    "- This data will be transformed to $x(t+1)$\n",
    "- Than we can find a T that describes $\\hat{x}(t+1) = Tx(t)$, since $\\hat{x}(t+1)$ is known\n",
    "- fishies will remain fishy exept they are mixed with ABr"
   ]
  },
  {
   "cell_type": "code",
   "execution_count": 3,
   "id": "cbca0a66",
   "metadata": {},
   "outputs": [
    {
     "name": "stdout",
     "output_type": "stream",
     "text": [
      "create transition rates for t!=1\n",
      "create transition rates for t==1\n"
     ]
    }
   ],
   "source": [
    "print(\"create transition rates for t!=1\")\n",
    "t = Transition_probabilities(experiment, write = True)\n",
    "\n",
    "print(\"create transition rates for t==1\")\n",
    "t1 = Transition_probabilities(experiment, t1 = True, write = True)\n"
   ]
  },
  {
   "cell_type": "code",
   "execution_count": 4,
   "id": "5a1168d3",
   "metadata": {},
   "outputs": [
    {
     "data": {
      "text/plain": [
       "'/Users/malte/polybox/Shared/Robot-Shared/TSPlasmids/summary/obj'"
      ]
     },
     "execution_count": 4,
     "metadata": {},
     "output_type": "execute_result"
    }
   ],
   "source": [
    "t.path"
   ]
  },
  {
   "cell_type": "code",
   "execution_count": 6,
   "id": "70d66e97",
   "metadata": {},
   "outputs": [
    {
     "name": "stdout",
     "output_type": "stream",
     "text": [
      "          index     U     S    Ar    Br   AuB   ABr\n",
      "0             U  0.97  0.00  0.00  0.00  0.00  0.00\n",
      "1             S  0.03  0.98  0.01  0.02  0.01  0.01\n",
      "2          A\\_r  0.00  0.01  0.96  0.00  0.07  0.03\n",
      "3          B\\_r  0.00  0.01  0.00  0.97  0.02  0.00\n",
      "4  (A\\_r\\&B\\_r)  0.00  0.00  0.01  0.01  0.08  0.04\n",
      "5         AB\\_r  0.00  0.00  0.02  0.00  0.82  0.92\n",
      "          index     U     S    Ar    Br   AuB   ABr\n",
      "0             U  0.99  0.96  0.02  0.97  0.03  0.02\n",
      "1             S  0.00  0.02  0.00  0.01  0.00  0.00\n",
      "2          A\\_r  0.01  0.02  0.98  0.01  0.59  0.01\n",
      "3          B\\_r  0.00  0.00  0.00  0.01  0.00  0.00\n",
      "4  (A\\_r\\&B\\_r)  0.00  0.00  0.00  0.00  0.18  0.01\n",
      "5         AB\\_r  0.00  0.00  0.00  0.00  0.20  0.96\n",
      "          index     U     S    Ar    Br   AuB   ABr\n",
      "0             U  0.99  0.80  0.63  0.01  0.03  0.02\n",
      "1             S  0.00  0.19  0.18  0.00  0.00  0.00\n",
      "2          A\\_r  0.00  0.00  0.18  0.00  0.00  0.00\n",
      "3          B\\_r  0.01  0.01  0.00  0.98  0.21  0.00\n",
      "4  (A\\_r\\&B\\_r)  0.00  0.00  0.00  0.00  0.03  0.00\n",
      "5         AB\\_r  0.00  0.00  0.01  0.01  0.73  0.98\n",
      "          index    U    S    Ar    Br  AuB   ABr\n",
      "0             U  1.0  0.9  0.49  0.98  1.0  0.02\n",
      "1             S  0.0  0.1  0.32  0.02  0.0  0.00\n",
      "2          A\\_r  0.0  0.0  0.19  0.00  0.0  0.00\n",
      "3          B\\_r  0.0  0.0  0.00  0.00  0.0  0.00\n",
      "4  (A\\_r\\&B\\_r)  0.0  0.0  0.00  0.00  0.0  0.00\n",
      "5         AB\\_r  0.0  0.0  0.00  0.00  0.0  0.98\n"
     ]
    }
   ],
   "source": [
    "for antibiotic in t.antibiotics:\n",
    "    path = os.path.join(t.pathes[\"base\"], \"tables\", \"M_\"+antibiotic+\".csv\")\n",
    "    M = t.transition_matrices[\"M_t_\"+antibiotic]\n",
    "    save_for_latex(M, [], path, round = 2)"
   ]
  },
  {
   "cell_type": "code",
   "execution_count": null,
   "id": "6455015e",
   "metadata": {},
   "outputs": [],
   "source": [
    "t.transition_matrices[\"M_AB\"]"
   ]
  },
  {
   "cell_type": "code",
   "execution_count": null,
   "id": "c7387ecf",
   "metadata": {},
   "outputs": [],
   "source": [
    "t.get_M(write = True)"
   ]
  },
  {
   "cell_type": "code",
   "execution_count": null,
   "id": "f4aa780c",
   "metadata": {},
   "outputs": [],
   "source": [
    "from evaluation_scripts.base import load_pickle_obj\n",
    "M_path = os.path.join(experiment.pathes[\"base\"], \"summary\", \"obj\")\n",
    "M_ab = load_pickle_obj(os.path.join(M_path, \"M_AB.pkl\")) \n",
    "M_ab"
   ]
  },
  {
   "cell_type": "code",
   "execution_count": null,
   "id": "e94fd855",
   "metadata": {},
   "outputs": [],
   "source": [
    "os.path.join(M_path, \"M_AB.pkl\")"
   ]
  },
  {
   "cell_type": "code",
   "execution_count": 9,
   "id": "b955b10c",
   "metadata": {},
   "outputs": [
    {
     "data": {
      "text/html": [
       "<div>\n",
       "<style scoped>\n",
       "    .dataframe tbody tr th:only-of-type {\n",
       "        vertical-align: middle;\n",
       "    }\n",
       "\n",
       "    .dataframe tbody tr th {\n",
       "        vertical-align: top;\n",
       "    }\n",
       "\n",
       "    .dataframe thead th {\n",
       "        text-align: right;\n",
       "    }\n",
       "</style>\n",
       "<table border=\"1\" class=\"dataframe\">\n",
       "  <thead>\n",
       "    <tr style=\"text-align: right;\">\n",
       "      <th></th>\n",
       "      <th>U</th>\n",
       "      <th>S</th>\n",
       "      <th>A_r</th>\n",
       "      <th>B_r</th>\n",
       "      <th>A&amp;B</th>\n",
       "      <th>AB_r</th>\n",
       "    </tr>\n",
       "  </thead>\n",
       "  <tbody>\n",
       "    <tr>\n",
       "      <th>U</th>\n",
       "      <td>0.99</td>\n",
       "      <td>0.80</td>\n",
       "      <td>0.63</td>\n",
       "      <td>0.01</td>\n",
       "      <td>0.03</td>\n",
       "      <td>0.02</td>\n",
       "    </tr>\n",
       "    <tr>\n",
       "      <th>S</th>\n",
       "      <td>0.00</td>\n",
       "      <td>0.19</td>\n",
       "      <td>0.18</td>\n",
       "      <td>0.00</td>\n",
       "      <td>0.00</td>\n",
       "      <td>0.00</td>\n",
       "    </tr>\n",
       "    <tr>\n",
       "      <th>A_r</th>\n",
       "      <td>0.00</td>\n",
       "      <td>0.00</td>\n",
       "      <td>0.18</td>\n",
       "      <td>0.00</td>\n",
       "      <td>0.00</td>\n",
       "      <td>0.00</td>\n",
       "    </tr>\n",
       "    <tr>\n",
       "      <th>B_r</th>\n",
       "      <td>0.01</td>\n",
       "      <td>0.01</td>\n",
       "      <td>0.00</td>\n",
       "      <td>0.98</td>\n",
       "      <td>0.21</td>\n",
       "      <td>0.00</td>\n",
       "    </tr>\n",
       "    <tr>\n",
       "      <th>A&amp;B</th>\n",
       "      <td>0.00</td>\n",
       "      <td>0.00</td>\n",
       "      <td>0.00</td>\n",
       "      <td>0.00</td>\n",
       "      <td>0.03</td>\n",
       "      <td>0.00</td>\n",
       "    </tr>\n",
       "    <tr>\n",
       "      <th>AB_r</th>\n",
       "      <td>0.00</td>\n",
       "      <td>0.00</td>\n",
       "      <td>0.01</td>\n",
       "      <td>0.01</td>\n",
       "      <td>0.73</td>\n",
       "      <td>0.98</td>\n",
       "    </tr>\n",
       "  </tbody>\n",
       "</table>\n",
       "</div>"
      ],
      "text/plain": [
       "         U     S   A_r   B_r   A&B  AB_r\n",
       "U     0.99  0.80  0.63  0.01  0.03  0.02\n",
       "S     0.00  0.19  0.18  0.00  0.00  0.00\n",
       "A_r   0.00  0.00  0.18  0.00  0.00  0.00\n",
       "B_r   0.01  0.01  0.00  0.98  0.21  0.00\n",
       "A&B   0.00  0.00  0.00  0.00  0.03  0.00\n",
       "AB_r  0.00  0.00  0.01  0.01  0.73  0.98"
      ]
     },
     "execution_count": 9,
     "metadata": {},
     "output_type": "execute_result"
    }
   ],
   "source": [
    "t.transition_matrices[\"M_t_B\"]"
   ]
  },
  {
   "cell_type": "code",
   "execution_count": null,
   "id": "3e9014c1",
   "metadata": {},
   "outputs": [],
   "source": []
  }
 ],
 "metadata": {
  "kernelspec": {
   "display_name": "Python 3 (ipykernel)",
   "language": "python",
   "name": "python3"
  },
  "language_info": {
   "codemirror_mode": {
    "name": "ipython",
    "version": 3
   },
   "file_extension": ".py",
   "mimetype": "text/x-python",
   "name": "python",
   "nbconvert_exporter": "python",
   "pygments_lexer": "ipython3",
   "version": "3.8.5"
  }
 },
 "nbformat": 4,
 "nbformat_minor": 5
}
