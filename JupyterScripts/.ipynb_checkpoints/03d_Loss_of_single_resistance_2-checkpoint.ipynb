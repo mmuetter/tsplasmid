{
 "cells": [
  {
   "cell_type": "markdown",
   "metadata": {},
   "source": [
    "## Special Skript for the 20220412 Experiment"
   ]
  },
  {
   "cell_type": "code",
   "execution_count": 1,
   "metadata": {},
   "outputs": [],
   "source": [
    "import pandas as pd\n",
    "import seaborn as sns\n",
    "from matplotlib import pyplot as plt\n",
    "import matplotlib.ticker as plticker\n",
    "import pickle\n",
    "import numpy as np\n",
    "from evaluation_scripts.base import load_experiment, save_for_latex\n",
    "import os"
   ]
  },
  {
   "cell_type": "code",
   "execution_count": 2,
   "metadata": {},
   "outputs": [],
   "source": [
    "strains, exp_pars, dictionaries, pathes, df1, t_end = load_experiment(\"20220412\")\n",
    "_, _, _, _, df2, _ = load_experiment(\"20220127\")\n",
    "_, _, _, _, df3, _ = load_experiment(\"20210417\")\n",
    "df = pd.concat([df1, df2, df3])\n",
    "\n",
    "df_b = df[df.x == \"B_r\"].copy()"
   ]
  },
  {
   "cell_type": "code",
   "execution_count": 3,
   "metadata": {},
   "outputs": [
    {
     "data": {
      "text/html": [
       "<div>\n",
       "<style scoped>\n",
       "    .dataframe tbody tr th:only-of-type {\n",
       "        vertical-align: middle;\n",
       "    }\n",
       "\n",
       "    .dataframe tbody tr th {\n",
       "        vertical-align: top;\n",
       "    }\n",
       "\n",
       "    .dataframe thead th {\n",
       "        text-align: right;\n",
       "    }\n",
       "</style>\n",
       "<table border=\"1\" class=\"dataframe\">\n",
       "  <thead>\n",
       "    <tr style=\"text-align: right;\">\n",
       "      <th></th>\n",
       "      <th>plasmid_loss</th>\n",
       "      <th>t</th>\n",
       "      <th>f</th>\n",
       "    </tr>\n",
       "    <tr>\n",
       "      <th>treatment_with</th>\n",
       "      <th></th>\n",
       "      <th></th>\n",
       "      <th></th>\n",
       "    </tr>\n",
       "  </thead>\n",
       "  <tbody>\n",
       "    <tr>\n",
       "      <th>A</th>\n",
       "      <td>47</td>\n",
       "      <td>4234</td>\n",
       "      <td>0.01</td>\n",
       "    </tr>\n",
       "    <tr>\n",
       "      <th>AB</th>\n",
       "      <td>79</td>\n",
       "      <td>1803</td>\n",
       "      <td>0.04</td>\n",
       "    </tr>\n",
       "    <tr>\n",
       "      <th>B</th>\n",
       "      <td>10</td>\n",
       "      <td>8255</td>\n",
       "      <td>0.00</td>\n",
       "    </tr>\n",
       "    <tr>\n",
       "      <th>none</th>\n",
       "      <td>101</td>\n",
       "      <td>5317</td>\n",
       "      <td>0.02</td>\n",
       "    </tr>\n",
       "  </tbody>\n",
       "</table>\n",
       "</div>"
      ],
      "text/plain": [
       "                plasmid_loss     t     f\n",
       "treatment_with                          \n",
       "A                         47  4234  0.01\n",
       "AB                        79  1803  0.04\n",
       "B                         10  8255  0.00\n",
       "none                     101  5317  0.02"
      ]
     },
     "execution_count": 3,
     "metadata": {},
     "output_type": "execute_result"
    }
   ],
   "source": [
    "\n",
    "\n",
    "def summerize(df, strain):\n",
    "    cols = [\"treatment_with\", \"plasmid_loss\"]\n",
    "    df_s = df[df.x == strain].copy()\n",
    "    df_s[\"plasmid_loss\"] = df_s.phenotype == \"S\"\n",
    "    summary = df_s[cols].groupby(cols[:-1]).sum()\n",
    "    summary[\"t\"] =  df_s[cols].groupby(cols[:-1]).count()\n",
    "    summary[\"f\"] = round(summary.plasmid_loss/summary.t, 2)\n",
    "    return summary\n",
    "sum_a = summerize(df, \"A_r\")\n",
    "sum_b = summerize(df, \"B_r\")\n",
    "sum_b"
   ]
  },
  {
   "cell_type": "code",
   "execution_count": 4,
   "metadata": {},
   "outputs": [
    {
     "data": {
      "text/html": [
       "<div>\n",
       "<style scoped>\n",
       "    .dataframe tbody tr th:only-of-type {\n",
       "        vertical-align: middle;\n",
       "    }\n",
       "\n",
       "    .dataframe tbody tr th {\n",
       "        vertical-align: top;\n",
       "    }\n",
       "\n",
       "    .dataframe thead th {\n",
       "        text-align: right;\n",
       "    }\n",
       "</style>\n",
       "<table border=\"1\" class=\"dataframe\">\n",
       "  <thead>\n",
       "    <tr style=\"text-align: right;\">\n",
       "      <th>treatment</th>\n",
       "      <th>A</th>\n",
       "      <th>AB</th>\n",
       "      <th>B</th>\n",
       "      <th>none</th>\n",
       "    </tr>\n",
       "  </thead>\n",
       "  <tbody>\n",
       "    <tr>\n",
       "      <th>Ar</th>\n",
       "      <td>0.00</td>\n",
       "      <td>0.28</td>\n",
       "      <td>0.16</td>\n",
       "      <td>0.01</td>\n",
       "    </tr>\n",
       "    <tr>\n",
       "      <th>Br</th>\n",
       "      <td>0.01</td>\n",
       "      <td>0.04</td>\n",
       "      <td>0.00</td>\n",
       "      <td>0.02</td>\n",
       "    </tr>\n",
       "  </tbody>\n",
       "</table>\n",
       "</div>"
      ],
      "text/plain": [
       "treatment     A    AB     B  none\n",
       "Ar         0.00  0.28  0.16  0.01\n",
       "Br         0.01  0.04  0.00  0.02"
      ]
     },
     "execution_count": 4,
     "metadata": {},
     "output_type": "execute_result"
    }
   ],
   "source": [
    "plasmid_loss = pd.concat([sum_a.loc[:,[\"f\"]], sum_b.loc[:,[\"f\"]]], axis = 1)\n",
    "plasmid_loss.columns = [\"Ar\", \"Br\"]\n",
    "plasmid_loss.index.name = \"treatment\"\n",
    "plasmid_loss = plasmid_loss.T\n",
    "plasmid_loss"
   ]
  },
  {
   "cell_type": "code",
   "execution_count": 7,
   "metadata": {},
   "outputs": [
    {
     "name": "stdout",
     "output_type": "stream",
     "text": [
      "  index     A    AB     B  none\n",
      "0    Ar  0.00  0.28  0.16  0.01\n",
      "1    Br  0.01  0.04  0.00  0.02\n"
     ]
    }
   ],
   "source": [
    "save_for_latex(plasmid_loss, [], os.path.join(pathes[\"general_obj\"], \"03d2_plasmid_loss.csv\") )"
   ]
  },
  {
   "cell_type": "code",
   "execution_count": null,
   "metadata": {},
   "outputs": [],
   "source": []
  }
 ],
 "metadata": {
  "kernelspec": {
   "display_name": "Python 3 (ipykernel)",
   "language": "python",
   "name": "python3"
  },
  "language_info": {
   "codemirror_mode": {
    "name": "ipython",
    "version": 3
   },
   "file_extension": ".py",
   "mimetype": "text/x-python",
   "name": "python",
   "nbconvert_exporter": "python",
   "pygments_lexer": "ipython3",
   "version": "3.8.5"
  }
 },
 "nbformat": 4,
 "nbformat_minor": 4
}
