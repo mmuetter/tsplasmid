{
 "cells": [
  {
   "cell_type": "code",
   "execution_count": 1,
   "id": "12478688",
   "metadata": {},
   "outputs": [
    {
     "data": {
      "text/html": [
       "<svg  width=\"550\" height=\"55\"><rect x=\"0\" y=\"0\" width=\"55\" height=\"55\" style=\"fill:#0173b2;stroke-width:2;stroke:rgb(255,255,255)\"/><rect x=\"55\" y=\"0\" width=\"55\" height=\"55\" style=\"fill:#de8f05;stroke-width:2;stroke:rgb(255,255,255)\"/><rect x=\"110\" y=\"0\" width=\"55\" height=\"55\" style=\"fill:#029e73;stroke-width:2;stroke:rgb(255,255,255)\"/><rect x=\"165\" y=\"0\" width=\"55\" height=\"55\" style=\"fill:#d55e00;stroke-width:2;stroke:rgb(255,255,255)\"/><rect x=\"220\" y=\"0\" width=\"55\" height=\"55\" style=\"fill:#cc78bc;stroke-width:2;stroke:rgb(255,255,255)\"/><rect x=\"275\" y=\"0\" width=\"55\" height=\"55\" style=\"fill:#ca9161;stroke-width:2;stroke:rgb(255,255,255)\"/><rect x=\"330\" y=\"0\" width=\"55\" height=\"55\" style=\"fill:#fbafe4;stroke-width:2;stroke:rgb(255,255,255)\"/><rect x=\"385\" y=\"0\" width=\"55\" height=\"55\" style=\"fill:#949494;stroke-width:2;stroke:rgb(255,255,255)\"/><rect x=\"440\" y=\"0\" width=\"55\" height=\"55\" style=\"fill:#ece133;stroke-width:2;stroke:rgb(255,255,255)\"/><rect x=\"495\" y=\"0\" width=\"55\" height=\"55\" style=\"fill:#56b4e9;stroke-width:2;stroke:rgb(255,255,255)\"/></svg>"
      ],
      "text/plain": [
       "[(0.00392156862745098, 0.45098039215686275, 0.6980392156862745),\n",
       " (0.8705882352941177, 0.5607843137254902, 0.0196078431372549),\n",
       " (0.00784313725490196, 0.6196078431372549, 0.45098039215686275),\n",
       " (0.8352941176470589, 0.3686274509803922, 0.0),\n",
       " (0.8, 0.47058823529411764, 0.7372549019607844),\n",
       " (0.792156862745098, 0.5686274509803921, 0.3803921568627451),\n",
       " (0.984313725490196, 0.6862745098039216, 0.8941176470588236),\n",
       " (0.5803921568627451, 0.5803921568627451, 0.5803921568627451),\n",
       " (0.9254901960784314, 0.8823529411764706, 0.2),\n",
       " (0.33725490196078434, 0.7058823529411765, 0.9137254901960784)]"
      ]
     },
     "execution_count": 1,
     "metadata": {},
     "output_type": "execute_result"
    },
    {
     "data": {
      "text/plain": [
       "<Figure size 864x576 with 0 Axes>"
      ]
     },
     "metadata": {},
     "output_type": "display_data"
    }
   ],
   "source": [
    "%load_ext autoreload\n",
    "%autoreload 2\n",
    "from evaluation_scripts.experiment_class import Experiment\n",
    "from evaluation_scripts.statistics import summarize\n",
    "import matplotlib.pyplot as plt\n",
    "import pandas as pd\n",
    "import seaborn as sns\n",
    "import os\n",
    "import matplotlib.patches as mpatch\n",
    "from evaluation_scripts.oneway import OneWaySignificance\n",
    "from style import Style\n",
    "\n",
    "date = \"20220412\"\n",
    "exp = Experiment(date)\n",
    "Data = exp.data\n",
    "dt = 4\n",
    "\n",
    "style = Style(\"white\", fontsize = 20)\n",
    "palette = sns.color_palette(\"colorblind\")\n",
    "palette"
   ]
  },
  {
   "cell_type": "markdown",
   "id": "50afbc9d",
   "metadata": {},
   "source": [
    "## Summerize Data"
   ]
  },
  {
   "cell_type": "code",
   "execution_count": 2,
   "id": "7a49f19f",
   "metadata": {},
   "outputs": [],
   "source": [
    "Data[\"single_resistant\"] = (Data.phenotype.isin([\"A_r\", \"B_r\", \"A&B\"]))\n",
    "Data[\"resistant\"] = (Data.phenotype.isin([\"A_r\", \"B_r\", \"A&B\", \"AB_r\"]))\n",
    "Data[\"U\"] = (Data.phenotype == \"U\")\n",
    "Data[\"double_resistant\"] = (Data.phenotype == \"AB_r\")\n",
    "t_max = max(Data.transfer_n)\n",
    "Data_end = Data[Data.transfer_n > t_max-dt]\n",
    "cols = [\"strategy\", \"transfer_n\", \"rep\", \"single_resistant\", \"U\", \"double_resistant\", \"resistant\"]\n",
    "Data_end = Data_end[cols]\n",
    "groups = [\"strategy\", \"rep\"]\n",
    "\n",
    "group_col = \"strategy\"\n",
    "\n",
    "alpha = 0.05"
   ]
  },
  {
   "cell_type": "code",
   "execution_count": 3,
   "id": "d283bc0c",
   "metadata": {},
   "outputs": [],
   "source": [
    "summary_u = summarize(Data_end, groups, \"U\")\n",
    "summary_res = summarize(Data_end, groups, \"single_resistant\")\n",
    "summary_ab = summarize(Data_end, groups, \"double_resistant\")\n",
    "summary_r = summarize(Data_end, groups, \"resistant\")"
   ]
  },
  {
   "cell_type": "code",
   "execution_count": 4,
   "id": "3acdd63d",
   "metadata": {},
   "outputs": [],
   "source": [
    "summaries = [summary_u, summary_res, summary_ab]\n",
    "labels = [\"U_mean\", \"single_resistant_mean\", \"double_resistant_mean\"]\n",
    "colors = [palette[-3], palette[-1], palette[2]]\n",
    "color_dict = dict(zip(labels, colors))\n",
    "x_offsets = [-0.25, 0, 0.25]\n",
    "new_dfs = []\n",
    "\n",
    "for df, col in zip(summaries, labels):\n",
    "    if col in df.columns:\n",
    "        new_df = pd.DataFrame({\n",
    "            'strategy': df['strategy'],\n",
    "            'f': df[col],\n",
    "            'profile': col\n",
    "        })\n",
    "        new_dfs.append(new_df)\n",
    "result_df = pd.concat(new_dfs, ignore_index=True)"
   ]
  },
  {
   "cell_type": "code",
   "execution_count": 10,
   "id": "bf1df7b0",
   "metadata": {},
   "outputs": [
    {
     "data": {
      "text/plain": [
       "2.2496458307397476e-20"
      ]
     },
     "execution_count": 10,
     "metadata": {},
     "output_type": "execute_result"
    }
   ],
   "source": []
  },
  {
   "cell_type": "code",
   "execution_count": 5,
   "id": "6daf254e",
   "metadata": {},
   "outputs": [
    {
     "ename": "AttributeError",
     "evalue": "'DataFrame' object has no attribute 'anova_result'",
     "output_type": "error",
     "traceback": [
      "\u001b[0;31m---------------------------------------------------------------------------\u001b[0m",
      "\u001b[0;31mAttributeError\u001b[0m                            Traceback (most recent call last)",
      "\u001b[0;32m/var/folders/f7/ks4rl3915yj6crhznly5p28h0000gq/T/ipykernel_20145/882554827.py\u001b[0m in \u001b[0;36m<module>\u001b[0;34m\u001b[0m\n\u001b[1;32m      7\u001b[0m     \u001b[0ml\u001b[0m \u001b[0;34m=\u001b[0m \u001b[0mlabel\u001b[0m\u001b[0;34m.\u001b[0m\u001b[0msplit\u001b[0m\u001b[0;34m(\u001b[0m\u001b[0;34m\"_\"\u001b[0m\u001b[0;34m)\u001b[0m\u001b[0;34m[\u001b[0m\u001b[0;36m0\u001b[0m\u001b[0;34m]\u001b[0m\u001b[0;34m\u001b[0m\u001b[0;34m\u001b[0m\u001b[0m\n\u001b[1;32m      8\u001b[0m \u001b[0;34m\u001b[0m\u001b[0m\n\u001b[0;32m----> 9\u001b[0;31m     \u001b[0msignificance\u001b[0m\u001b[0;34m.\u001b[0m\u001b[0mwrite_anova_results\u001b[0m\u001b[0;34m(\u001b[0m\u001b[0mos\u001b[0m\u001b[0;34m.\u001b[0m\u001b[0mpath\u001b[0m\u001b[0;34m.\u001b[0m\u001b[0mjoin\u001b[0m\u001b[0;34m(\u001b[0m\u001b[0mexp\u001b[0m\u001b[0;34m.\u001b[0m\u001b[0mpathes\u001b[0m\u001b[0;34m[\u001b[0m\u001b[0;34m\"tables\"\u001b[0m\u001b[0;34m]\u001b[0m\u001b[0;34m,\u001b[0m \u001b[0mexp\u001b[0m\u001b[0;34m.\u001b[0m\u001b[0mexp\u001b[0m \u001b[0;34m+\u001b[0m\u001b[0ml\u001b[0m \u001b[0;34m+\u001b[0m \u001b[0;34m\"_anova.tex\"\u001b[0m\u001b[0;34m)\u001b[0m\u001b[0;34m)\u001b[0m\u001b[0;34m\u001b[0m\u001b[0;34m\u001b[0m\u001b[0m\n\u001b[0m\u001b[1;32m     10\u001b[0m     \u001b[0msignificance\u001b[0m\u001b[0;34m.\u001b[0m\u001b[0mwrite_tukey_results\u001b[0m\u001b[0;34m(\u001b[0m\u001b[0mos\u001b[0m\u001b[0;34m.\u001b[0m\u001b[0mpath\u001b[0m\u001b[0;34m.\u001b[0m\u001b[0mjoin\u001b[0m\u001b[0;34m(\u001b[0m\u001b[0mexp\u001b[0m\u001b[0;34m.\u001b[0m\u001b[0mpathes\u001b[0m\u001b[0;34m[\u001b[0m\u001b[0;34m\"tables\"\u001b[0m\u001b[0;34m]\u001b[0m\u001b[0;34m,\u001b[0m \u001b[0mexp\u001b[0m\u001b[0;34m.\u001b[0m\u001b[0mexp\u001b[0m \u001b[0;34m+\u001b[0m\u001b[0ml\u001b[0m \u001b[0;34m+\u001b[0m \u001b[0;34m\"_tukey.tex\"\u001b[0m\u001b[0;34m)\u001b[0m\u001b[0;34m)\u001b[0m\u001b[0;34m\u001b[0m\u001b[0;34m\u001b[0m\u001b[0m\n\u001b[1;32m     11\u001b[0m \u001b[0;34m\u001b[0m\u001b[0m\n",
      "\u001b[0;32m~/polybox/Shared/Robot-Shared/TSPlasmids/JupyterScripts/evaluation_scripts/oneway.py\u001b[0m in \u001b[0;36mwrite_anova_results\u001b[0;34m(self, filepath)\u001b[0m\n\u001b[1;32m    205\u001b[0m \u001b[0;34m\u001b[0m\u001b[0m\n\u001b[1;32m    206\u001b[0m     \u001b[0;32mdef\u001b[0m \u001b[0mwrite_anova_results\u001b[0m\u001b[0;34m(\u001b[0m\u001b[0mself\u001b[0m\u001b[0;34m,\u001b[0m \u001b[0mfilepath\u001b[0m\u001b[0;34m)\u001b[0m\u001b[0;34m:\u001b[0m\u001b[0;34m\u001b[0m\u001b[0;34m\u001b[0m\u001b[0m\n\u001b[0;32m--> 207\u001b[0;31m         \u001b[0mmodified_df\u001b[0m \u001b[0;34m=\u001b[0m \u001b[0mself\u001b[0m\u001b[0;34m.\u001b[0m\u001b[0manova_result\u001b[0m\u001b[0;34m.\u001b[0m\u001b[0manova_result\u001b[0m\u001b[0;34m.\u001b[0m\u001b[0mapplymap\u001b[0m\u001b[0;34m(\u001b[0m\u001b[0;32mlambda\u001b[0m \u001b[0mx\u001b[0m\u001b[0;34m:\u001b[0m \u001b[0;34m'$< 0.001$'\u001b[0m \u001b[0;32mif\u001b[0m \u001b[0misinstance\u001b[0m\u001b[0;34m(\u001b[0m\u001b[0mx\u001b[0m\u001b[0;34m,\u001b[0m \u001b[0mfloat\u001b[0m\u001b[0;34m)\u001b[0m \u001b[0;32mand\u001b[0m \u001b[0mx\u001b[0m \u001b[0;34m<\u001b[0m \u001b[0;36m0.001\u001b[0m \u001b[0;32melse\u001b[0m \u001b[0mx\u001b[0m\u001b[0;34m)\u001b[0m\u001b[0;34m\u001b[0m\u001b[0;34m\u001b[0m\u001b[0m\n\u001b[0m\u001b[1;32m    208\u001b[0m         \u001b[0mexport_to_latex\u001b[0m\u001b[0;34m(\u001b[0m\u001b[0mmodified_df\u001b[0m\u001b[0;34m,\u001b[0m \u001b[0mfilepath\u001b[0m\u001b[0;34m)\u001b[0m\u001b[0;34m\u001b[0m\u001b[0;34m\u001b[0m\u001b[0m\n\u001b[1;32m    209\u001b[0m \u001b[0;34m\u001b[0m\u001b[0m\n",
      "\u001b[0;32m~/anaconda3/lib/python3.8/site-packages/pandas/core/generic.py\u001b[0m in \u001b[0;36m__getattr__\u001b[0;34m(self, name)\u001b[0m\n\u001b[1;32m   5987\u001b[0m         ):\n\u001b[1;32m   5988\u001b[0m             \u001b[0;32mreturn\u001b[0m \u001b[0mself\u001b[0m\u001b[0;34m[\u001b[0m\u001b[0mname\u001b[0m\u001b[0;34m]\u001b[0m\u001b[0;34m\u001b[0m\u001b[0;34m\u001b[0m\u001b[0m\n\u001b[0;32m-> 5989\u001b[0;31m         \u001b[0;32mreturn\u001b[0m \u001b[0mobject\u001b[0m\u001b[0;34m.\u001b[0m\u001b[0m__getattribute__\u001b[0m\u001b[0;34m(\u001b[0m\u001b[0mself\u001b[0m\u001b[0;34m,\u001b[0m \u001b[0mname\u001b[0m\u001b[0;34m)\u001b[0m\u001b[0;34m\u001b[0m\u001b[0;34m\u001b[0m\u001b[0m\n\u001b[0m\u001b[1;32m   5990\u001b[0m \u001b[0;34m\u001b[0m\u001b[0m\n\u001b[1;32m   5991\u001b[0m     \u001b[0;32mdef\u001b[0m \u001b[0m__setattr__\u001b[0m\u001b[0;34m(\u001b[0m\u001b[0mself\u001b[0m\u001b[0;34m,\u001b[0m \u001b[0mname\u001b[0m\u001b[0;34m:\u001b[0m \u001b[0mstr\u001b[0m\u001b[0;34m,\u001b[0m \u001b[0mvalue\u001b[0m\u001b[0;34m)\u001b[0m \u001b[0;34m->\u001b[0m \u001b[0;32mNone\u001b[0m\u001b[0;34m:\u001b[0m\u001b[0;34m\u001b[0m\u001b[0;34m\u001b[0m\u001b[0m\n",
      "\u001b[0;31mAttributeError\u001b[0m: 'DataFrame' object has no attribute 'anova_result'"
     ]
    },
    {
     "data": {
      "image/png": "[encoded data removed]",
      "text/plain": [
       "<Figure size 1152x432 with 1 Axes>"
      ]
     },
     "metadata": {
      "needs_background": "light"
     },
     "output_type": "display_data"
    }
   ],
   "source": [
    "_, ax = style.create_figure_with_style(figsize = (16,6))\n",
    "\n",
    "for summary,label,color, dx in zip(summaries, labels, colors, x_offsets):\n",
    "    col = summary.columns[-1]\n",
    "    significance = OneWaySignificance(summary, \"strategy\", col)\n",
    "    significance.plot(dot_color = color,  order = exp.strategies, jitter =.1, violin = False, bar_color = color, strip = False, ax = ax, dx = dx)\n",
    "    l = label.split(\"_\")[0]\n",
    "    \n",
    "    significance.write_anova_results(os.path.join(exp.pathes[\"tables\"], exp.exp +l + \"_anova.tex\"))\n",
    "    if significance.anova_pvalue < 0.05:\n",
    "        significance.write_tukey_results(os.path.join(exp.pathes[\"tables\"], exp.exp +l + \"_tukey.tex\"))\n",
    "    \n",
    "sns.stripplot(data = result_df, \n",
    "             y = \"f\", x = \"strategy\", hue = \"profile\", s = 15, order = exp.strategies, palette = color_dict, alpha = .2)\n",
    "ax.set_ylabel(\"frequency\")\n",
    "ax.set_xlabel(None)\n",
    "ax.set_ylim([-.05, 1.1])\n",
    "\n",
    "ax.get_legend().remove()\n",
    "if exp.exp == \"20210417\":\n",
    "    new_handles = []\n",
    "    for label, color in zip(['uninfected', 'single-resistant', 'double-resistant'], colors):\n",
    "        new_handles.append(mpatch.Patch(color=color, label=label))\n",
    "        ax.legend(handles=new_handles, loc='best')\n",
    "\n",
    "plt.savefig(os.path.join(exp.pathes[\"analysis\"], \"ep_anova_\"+date+\".pdf\"), format='pdf')"
   ]
  }
 ],
 "metadata": {
  "kernelspec": {
   "display_name": "Python 3 (ipykernel)",
   "language": "python",
   "name": "python3"
  },
  "language_info": {
   "codemirror_mode": {
    "name": "ipython",
    "version": 3
   },
   "file_extension": ".py",
   "mimetype": "text/x-python",
   "name": "python",
   "nbconvert_exporter": "python",
   "pygments_lexer": "ipython3",
   "version": "3.8.5"
  }
 },
 "nbformat": 4,
 "nbformat_minor": 5
}
