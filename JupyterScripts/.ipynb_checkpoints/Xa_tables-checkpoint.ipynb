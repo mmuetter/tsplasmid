{
 "cells": [
  {
   "cell_type": "code",
   "execution_count": 2,
   "id": "03f9399e",
   "metadata": {},
   "outputs": [],
   "source": [
    "import os\n",
    "import pandas as pd\n",
    "from evaluation_scripts.base import save_for_latex, load_experiment\n",
    "def load_M(antibiotic, pathes):\n",
    "    return pd.read_pickle(os.path.join(pathes[\"general_obj\"], \"M_t_\"+antibiotic+\".pkl\"))\n",
    "strains, exp_pars, dictionaries, pathes, df, t_end = load_experiment(\"20220412\")"
   ]
  },
  {
   "cell_type": "markdown",
   "id": "52cea349",
   "metadata": {},
   "source": [
    "## Mixing Matrix"
   ]
  },
  {
   "cell_type": "code",
   "execution_count": 13,
   "id": "b735aa37",
   "metadata": {},
   "outputs": [
    {
     "ename": "SyntaxError",
     "evalue": "invalid syntax (2971409499.py, line 20)",
     "output_type": "error",
     "traceback": [
      "\u001b[0;36m  File \u001b[0;32m\"/var/folders/f7/ks4rl3915yj6crhznly5p28h0000gq/T/ipykernel_11553/2971409499.py\"\u001b[0;36m, line \u001b[0;32m20\u001b[0m\n\u001b[0;31m    save_for_latex(I.reset_index(, I.columns, path)\u001b[0m\n\u001b[0m                                 ^\u001b[0m\n\u001b[0;31mSyntaxError\u001b[0m\u001b[0;31m:\u001b[0m invalid syntax\n"
     ]
    }
   ],
   "source": [
    "from itertools import product, combinations\n",
    "X = [\"U\", \"S\", \"A_r\", \"B_r\", \"A&B\", \"AB_r\"]\n",
    "I = pd.DataFrame(columns = X, index = X)\n",
    "I[\"U\"] = \"U\"\n",
    "I.loc[\"U\",:] = \"U\" \n",
    "I[\"S\"] = \"S\"\n",
    "I.loc[\"S\",:] = \"S\" \n",
    "I[\"A_r\"] = \"A_r\"\n",
    "I.loc[\"A_r\",:] = \"A_r\" \n",
    "I[\"B_r\"] = \"B_r\"\n",
    "I.loc[\"B_r\",:] = \"B_r\"\n",
    "I[\"A&B\"] = \"(A_r\\&B_r)\"\n",
    "I.loc[\"A&B\",:] = \"(A_r\\&B_r)\" \n",
    "I[\"AB_r\"] = \"AB_r\"\n",
    "I.loc[\"AB_r\",:] = \"AB_r\"\n",
    "I.loc[\"A_r\", \"B_r\"] = \"(A_r\\&B_r)\"\n",
    "I.loc[\"B_r\", \"A_r\"] = \"(A_r\\&B_r)\"\n",
    "\n",
    "path = os.path.join(pathes[\"base\"], \"tables\", \"mixing_pheno.csv\")\n",
    "save_for_latex(I.reset_index(), I.columns, path)\n",
    "\n",
    "display(I)"
   ]
  },
  {
   "cell_type": "code",
   "execution_count": 10,
   "id": "3ab9558d",
   "metadata": {},
   "outputs": [
    {
     "data": {
      "text/html": [
       "<div>\n",
       "<style scoped>\n",
       "    .dataframe tbody tr th:only-of-type {\n",
       "        vertical-align: middle;\n",
       "    }\n",
       "\n",
       "    .dataframe tbody tr th {\n",
       "        vertical-align: top;\n",
       "    }\n",
       "\n",
       "    .dataframe thead th {\n",
       "        text-align: right;\n",
       "    }\n",
       "</style>\n",
       "<table border=\"1\" class=\"dataframe\">\n",
       "  <thead>\n",
       "    <tr style=\"text-align: right;\">\n",
       "      <th></th>\n",
       "      <th>index</th>\n",
       "      <th>U</th>\n",
       "      <th>S</th>\n",
       "      <th>A_r</th>\n",
       "      <th>B_r</th>\n",
       "      <th>A&amp;B</th>\n",
       "      <th>AB_r</th>\n",
       "    </tr>\n",
       "  </thead>\n",
       "  <tbody>\n",
       "    <tr>\n",
       "      <th>0</th>\n",
       "      <td>U</td>\n",
       "      <td>U</td>\n",
       "      <td>S</td>\n",
       "      <td>A_r</td>\n",
       "      <td>B_r</td>\n",
       "      <td>(A_r\\&amp;B_r)</td>\n",
       "      <td>AB_r</td>\n",
       "    </tr>\n",
       "    <tr>\n",
       "      <th>1</th>\n",
       "      <td>S</td>\n",
       "      <td>S</td>\n",
       "      <td>S</td>\n",
       "      <td>A_r</td>\n",
       "      <td>B_r</td>\n",
       "      <td>(A_r\\&amp;B_r)</td>\n",
       "      <td>AB_r</td>\n",
       "    </tr>\n",
       "    <tr>\n",
       "      <th>2</th>\n",
       "      <td>A_r</td>\n",
       "      <td>A_r</td>\n",
       "      <td>A_r</td>\n",
       "      <td>A_r</td>\n",
       "      <td>(A_r\\&amp;B_r)</td>\n",
       "      <td>(A_r\\&amp;B_r)</td>\n",
       "      <td>AB_r</td>\n",
       "    </tr>\n",
       "    <tr>\n",
       "      <th>3</th>\n",
       "      <td>B_r</td>\n",
       "      <td>B_r</td>\n",
       "      <td>B_r</td>\n",
       "      <td>(A_r\\&amp;B_r)</td>\n",
       "      <td>B_r</td>\n",
       "      <td>(A_r\\&amp;B_r)</td>\n",
       "      <td>AB_r</td>\n",
       "    </tr>\n",
       "    <tr>\n",
       "      <th>4</th>\n",
       "      <td>A&amp;B</td>\n",
       "      <td>(A_r\\&amp;B_r)</td>\n",
       "      <td>(A_r\\&amp;B_r)</td>\n",
       "      <td>(A_r\\&amp;B_r)</td>\n",
       "      <td>(A_r\\&amp;B_r)</td>\n",
       "      <td>(A_r\\&amp;B_r)</td>\n",
       "      <td>AB_r</td>\n",
       "    </tr>\n",
       "    <tr>\n",
       "      <th>5</th>\n",
       "      <td>AB_r</td>\n",
       "      <td>AB_r</td>\n",
       "      <td>AB_r</td>\n",
       "      <td>AB_r</td>\n",
       "      <td>AB_r</td>\n",
       "      <td>AB_r</td>\n",
       "      <td>AB_r</td>\n",
       "    </tr>\n",
       "  </tbody>\n",
       "</table>\n",
       "</div>"
      ],
      "text/plain": [
       "  index           U           S         A_r         B_r         A&B  AB_r\n",
       "0     U           U           S         A_r         B_r  (A_r\\&B_r)  AB_r\n",
       "1     S           S           S         A_r         B_r  (A_r\\&B_r)  AB_r\n",
       "2   A_r         A_r         A_r         A_r  (A_r\\&B_r)  (A_r\\&B_r)  AB_r\n",
       "3   B_r         B_r         B_r  (A_r\\&B_r)         B_r  (A_r\\&B_r)  AB_r\n",
       "4   A&B  (A_r\\&B_r)  (A_r\\&B_r)  (A_r\\&B_r)  (A_r\\&B_r)  (A_r\\&B_r)  AB_r\n",
       "5  AB_r        AB_r        AB_r        AB_r        AB_r        AB_r  AB_r"
      ]
     },
     "execution_count": 10,
     "metadata": {},
     "output_type": "execute_result"
    }
   ],
   "source": [
    "I.reset_index()"
   ]
  },
  {
   "cell_type": "code",
   "execution_count": null,
   "id": "cc78229c",
   "metadata": {},
   "outputs": [],
   "source": []
  }
 ],
 "metadata": {
  "kernelspec": {
   "display_name": "Python 3 (ipykernel)",
   "language": "python",
   "name": "python3"
  },
  "language_info": {
   "codemirror_mode": {
    "name": "ipython",
    "version": 3
   },
   "file_extension": ".py",
   "mimetype": "text/x-python",
   "name": "python",
   "nbconvert_exporter": "python",
   "pygments_lexer": "ipython3",
   "version": "3.8.5"
  }
 },
 "nbformat": 4,
 "nbformat_minor": 5
}
