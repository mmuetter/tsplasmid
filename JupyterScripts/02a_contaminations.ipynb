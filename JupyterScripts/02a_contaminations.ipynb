{
 "cells": [
  {
   "cell_type": "code",
   "execution_count": 2,
   "id": "17cce259",
   "metadata": {},
   "outputs": [
    {
     "name": "stdout",
     "output_type": "stream",
     "text": [
      "The autoreload extension is already loaded. To reload it, use:\n",
      "  %reload_ext autoreload\n"
     ]
    }
   ],
   "source": [
    "## Load\n",
    "%load_ext autoreload\n",
    "%autoreload 2\n",
    "from evaluation_scripts.experiment_class import Experiment\n",
    "from evaluation_scripts.transition_probabilities_class import Transition_probabilities\n",
    "import pandas as pd\n",
    "from itertools import product"
   ]
  },
  {
   "cell_type": "code",
   "execution_count": 23,
   "id": "3c760338",
   "metadata": {},
   "outputs": [
    {
     "name": "stdout",
     "output_type": "stream",
     "text": [
      "\n",
      "  20220412\n",
      "\n",
      "  20220127\n",
      "\n",
      "  20210417\n"
     ]
    }
   ],
   "source": [
    "experiments = [\"20220412\", \"20220127\", \"20210417\"]\n",
    "\n",
    "dfs = []\n",
    "for i, exp in enumerate(experiments):\n",
    "    print(\"\\n \", exp)\n",
    "    \n",
    "    experiment = Experiment(exp, exclude = False)\n",
    "    df = experiment.data\n",
    "    dfs.append(df)\n",
    "df = pd.concat(dfs)\n",
    "df = df[df.barcode.isnull() == False]"
   ]
  },
  {
   "cell_type": "code",
   "execution_count": 30,
   "id": "12fe57aa-42ab-477a-aca1-a7b04f87f0ea",
   "metadata": {},
   "outputs": [],
   "source": [
    "df[\"infected_well\"] = df.phenotype != \"U\"\n",
    "df[\"control\"] = df.comment == \"Control Well\"\n",
    "df[\"infected_control\"] = df.control & df.infected_well"
   ]
  },
  {
   "cell_type": "code",
   "execution_count": 31,
   "id": "47a751f5-6784-4d10-9903-a74498060892",
   "metadata": {},
   "outputs": [
    {
     "data": {
      "text/plain": [
       "67"
      ]
     },
     "execution_count": 31,
     "metadata": {},
     "output_type": "execute_result"
    }
   ],
   "source": [
    "df.infected_control.sum()"
   ]
  },
  {
   "cell_type": "code",
   "execution_count": 32,
   "id": "e818fee4-6a45-485c-a36c-63ff29876787",
   "metadata": {},
   "outputs": [
    {
     "data": {
      "text/plain": [
       "2752"
      ]
     },
     "execution_count": 32,
     "metadata": {},
     "output_type": "execute_result"
    }
   ],
   "source": [
    "df.control.sum()"
   ]
  },
  {
   "cell_type": "code",
   "execution_count": null,
   "id": "b8f86d91-106d-48f1-b0ea-36eea71b628c",
   "metadata": {},
   "outputs": [],
   "source": []
  }
 ],
 "metadata": {
  "kernelspec": {
   "display_name": "ts-plasmids",
   "language": "python",
   "name": "tsp_env"
  },
  "language_info": {
   "codemirror_mode": {
    "name": "ipython",
    "version": 3
   },
   "file_extension": ".py",
   "mimetype": "text/x-python",
   "name": "python",
   "nbconvert_exporter": "python",
   "pygments_lexer": "ipython3",
   "version": "3.8.19"
  }
 },
 "nbformat": 4,
 "nbformat_minor": 5
}
