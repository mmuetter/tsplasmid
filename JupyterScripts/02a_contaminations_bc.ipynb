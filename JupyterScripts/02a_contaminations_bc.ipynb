{
 "cells": [
  {
   "cell_type": "markdown",
   "id": "8dc3f91a",
   "metadata": {},
   "source": [
    "## Transition probabilities\n",
    "- T describes: $\\hat{x} = T x$\n",
    "- we average over all experiments"
   ]
  },
  {
   "cell_type": "code",
   "execution_count": 1,
   "id": "17cce259",
   "metadata": {},
   "outputs": [],
   "source": [
    "## Load\n",
    "%load_ext autoreload\n",
    "%autoreload 2\n",
    "from evaluation_scripts.experiment_class import Experiment\n",
    "from evaluation_scripts.transition_probabilities_class import Transition_probabilities\n",
    "import pandas as pd\n",
    "from itertools import product"
   ]
  },
  {
   "cell_type": "markdown",
   "id": "3db3cb1f",
   "metadata": {},
   "source": [
    "## Do\n",
    "- Get the x phenotypes.\n",
    "    - S + U = S, A + A = A, A+B = A&B etc.\n",
    "    - Equations can be found in the SI of the paper\n",
    "- The loaded data correspond to $\\hat{x}(t)$\n",
    "- This data will be transformed to $x(t+1)$\n",
    "- Than we can find a T that describes $\\hat{x}(t+1) = Tx(t)$, since $\\hat{x}(t+1)$ is known\n",
    "- fishies will remain fishy exept they are mixed with ABr"
   ]
  },
  {
   "cell_type": "code",
   "execution_count": 56,
   "id": "c575ce6a",
   "metadata": {},
   "outputs": [],
   "source": [
    "class Plate:\n",
    "    def __init__(self, df, transfer, p):\n",
    "        self.data = data = df[(df.transfer_n == t) & (df.plate == p)]\n",
    "        self.transfer = transfer\n",
    "        self.plate = p\n",
    "        self.control_wells = data[data.comment == \"Control Well\"]\n",
    "        self.assay_wells = data[data.exclude != True]\n",
    "        if len(self.assay_wells) > 0:\n",
    "            self.plate_excluded = False\n",
    "            self.number_control_contaminations = sum(self.control_wells.phenotype != \"U\")\n",
    "            self.number_infected_wells = sum(self.assay_wells.phenotype != \"U\")\n",
    "            self.contains_double_resistance = \"AB_r\" in self.control_wells.phenotype\n",
    "        else:\n",
    "            self.plate_excluded = True\n",
    "        "
   ]
  },
  {
   "cell_type": "code",
   "execution_count": 60,
   "id": "3c760338",
   "metadata": {},
   "outputs": [
    {
     "name": "stdout",
     "output_type": "stream",
     "text": [
      "\n",
      "  20220412\n",
      "\n",
      "  20220127\n",
      "\n",
      "  20210417\n"
     ]
    }
   ],
   "source": [
    "experiments = [\"20220412\", \"20220127\", \"20210417\"]\n",
    "\n",
    "exp_plates = {}\n",
    "for i, exp in enumerate(experiments):\n",
    "    print(\"\\n \", exp)\n",
    "    \n",
    "    experiment = Experiment(exp, exclude = False)\n",
    "    df = experiment.data\n",
    "    plates = []\n",
    "    for p,t in product(df.plate.unique(), df.transfer_n.unique()):\n",
    "        plates.append(Plate(df, t, p))\n",
    "    exp_plates.update({i:plates})"
   ]
  },
  {
   "cell_type": "code",
   "execution_count": 58,
   "id": "02fa36ea",
   "metadata": {},
   "outputs": [],
   "source": [
    "marker = {0 : \".\", 1:\"x\", 2:\"*\"}\n",
    "color = {True : \"red\", False:\"blue\"}"
   ]
  },
  {
   "cell_type": "code",
   "execution_count": 71,
   "id": "d44b7e1f",
   "metadata": {},
   "outputs": [
    {
     "data": {
      "image/png": "[encoded data removed]",
      "text/plain": [
       "<Figure size 864x576 with 1 Axes>"
      ]
     },
     "metadata": {
      "needs_background": "light"
     },
     "output_type": "display_data"
    }
   ],
   "source": [
    "from matplotlib import pyplot as plt\n",
    "fig, ax = plt.subplots(figsize=(12,8))\n",
    "\n",
    "for i, plates in exp_plates.items():\n",
    "    m = marker[i]\n",
    "    for plate in plates:\n",
    "        if plate.plate_excluded == False:\n",
    "            ax.scatter(plate.number_infected_wells, plate.number_control_contaminations, color = color[plate.contains_double_resistance], marker = m)"
   ]
  },
  {
   "cell_type": "code",
   "execution_count": 44,
   "id": "a750e1b0",
   "metadata": {},
   "outputs": [
    {
     "data": {
      "text/plain": [
       "24"
      ]
     },
     "execution_count": 44,
     "metadata": {},
     "output_type": "execute_result"
    }
   ],
   "source": [
    "plate.number_infected_wells"
   ]
  },
  {
   "cell_type": "code",
   "execution_count": null,
   "id": "6250c93d",
   "metadata": {},
   "outputs": [],
   "source": []
  }
 ],
 "metadata": {
  "kernelspec": {
   "display_name": "ts-plasmids",
   "language": "python",
   "name": "tsp_env"
  },
  "language_info": {
   "codemirror_mode": {
    "name": "ipython",
    "version": 3
   },
   "file_extension": ".py",
   "mimetype": "text/x-python",
   "name": "python",
   "nbconvert_exporter": "python",
   "pygments_lexer": "ipython3",
   "version": "3.8.19"
  }
 },
 "nbformat": 4,
 "nbformat_minor": 5
}
