{
 "cells": [
  {
   "cell_type": "markdown",
   "id": "b0a05222",
   "metadata": {},
   "source": [
    "- w is the phenotype distribution on plate $x(T^\\tau)$\n",
    "- v is the phenotype distribution on plate $x(\\hat{T}-1)$\n",
    "- $\\phi$ skews the infection decisions for each plate.\n",
    "- $\\phi_i w_i = v_i$\n",
    "- The aim of this script is to find out all $\\phi$ for all plates\n",
    "- each well phenotype i has a propability $\\alpha_i$ to infect"
   ]
  },
  {
   "cell_type": "code",
   "execution_count": 1,
   "id": "02efd35c",
   "metadata": {},
   "outputs": [],
   "source": [
    "%load_ext autoreload\n",
    "%autoreload 2\n",
    "\n",
    "import pandas as pd\n",
    "import seaborn as sns\n",
    "from matplotlib import pyplot as plt\n",
    "import numpy as np\n",
    "from evaluation_scripts.base import get_pathes, dict_to_json, load_toml\n",
    "from evaluation_scripts.well_ident import build_dictionaries\n",
    "from itertools import product as iterprod\n",
    "import json\n",
    "from model_scripts.decisions_04 import get_x_tau, get_number_of_received_infections, get_phi, get_alpha\n",
    "\n",
    "experiments = [\"20220412\", \"20220127\", \"20210417\"]\n",
    "regular_phenos = [\"UI\", \"S\", \"A_r\", \"B_r\", \"A&B\", \"AB_r\"] \n"
   ]
  },
  {
   "cell_type": "code",
   "execution_count": null,
   "id": "831b7a2f",
   "metadata": {},
   "outputs": [
    {
     "name": "stdout",
     "output_type": "stream",
     "text": [
      "20220412\n"
     ]
    }
   ],
   "source": [
    "for exp in experiments:\n",
    "    print(exp)\n",
    "    ## LOAD\n",
    "    jupyter_path, base_path, path, analysis_path, os = get_pathes(exp + \"_output\")\n",
    "    hue_infos, strategies, plate_rows, agar_strain_dict = build_dictionaries()\n",
    "    Data = pd.read_pickle(analysis_path+os.sep+\"obj\"+os.sep+\"01b_Data.pkl\")\n",
    "    with open(os.path.join(path, \"exp_pars.json\")) as json_data:\n",
    "            exp_pars = json.load(json_data)\n",
    "            \n",
    "    ## DO\n",
    "    # Calulate Phi\n",
    "    Data[\"x_tau\"] = Data.apply(lambda x: get_x_tau(x), axis = 1)\n",
    "    Data[\"infected_by_n\"] = Data.apply(lambda x: get_number_of_received_infections(x), axis = 1)\n",
    "    cols = [\"transfer_n\", \"strategy\", \"x_tau\", \"n\"]\n",
    "    Data[\"n\"] = True\n",
    "    summary = Data[Data.x_tau.isin(regular_phenos)][cols].groupby(cols[:-1]).count().unstack(fill_value=0).stack()\n",
    "    cols = [\"transfer_n\", \"strategy\", \"x_tau\", \"infected_by_n\"]\n",
    "    v = Data[Data.x_tau.isin(regular_phenos)][cols].groupby(cols[:-1]).sum().unstack(fill_value=0).stack()\n",
    "    summary = pd.concat([summary, v],axis=1)\n",
    "    t = Data.transfer_n.unique()\n",
    "    for x in iterprod(t, strategies.values()):\n",
    "        summary.loc[x, \"w\"] = list(summary.loc[x, \"n\"]/summary.loc[x,\"n\"].sum())\n",
    "        summary.loc[x, \"v\"] = list(summary.loc[x, \"infected_by_n\"]/summary.loc[x,\"infected_by_n\"].sum())\n",
    "    summary[\"phi\"]  = summary.apply(lambda x: get_phi(x), axis = 1)\n",
    "    \n",
    "    # Calculate Alpha\n",
    "    Data[\"infects\"] = (Data.infection_to_well_id.isnull()==False)\n",
    "    cols = [\"transfer_n\", \"strategy\", \"phenotype\", \"infects\"]\n",
    "    summary[\"infects\"] = Data[Data.x_tau.isin(regular_phenos)][cols].groupby(cols[:-1]).sum().unstack(fill_value=0).stack()\n",
    "    Data[\"m\"] = True\n",
    "    cols = [\"transfer_n\", \"strategy\", \"phenotype\", \"m\"]\n",
    "    summary[\"m\"] = Data[Data.x_tau.isin(regular_phenos)][cols].groupby(cols[:-1]).sum().unstack(fill_value=0).stack()\n",
    "    summary[\"alpha\"] = summary.apply(lambda x: get_alpha(x, exp_pars[\"rates\"][0][\"infection\"]), axis = 1)\n",
    "    \n",
    "    \n",
    "    ## SAVE\n",
    "    summary.to_pickle(os.path.join(analysis_path, \"obj\", \"04a_decisions.pkl\"))"
   ]
  },
  {
   "cell_type": "code",
   "execution_count": null,
   "id": "a74e1031",
   "metadata": {},
   "outputs": [],
   "source": [
    "summary"
   ]
  },
  {
   "cell_type": "code",
   "execution_count": null,
   "id": "150d7e12",
   "metadata": {},
   "outputs": [],
   "source": []
  }
 ],
 "metadata": {
  "kernelspec": {
   "display_name": "Python 3 (ipykernel)",
   "language": "python",
   "name": "python3"
  },
  "language_info": {
   "codemirror_mode": {
    "name": "ipython",
    "version": 3
   },
   "file_extension": ".py",
   "mimetype": "text/x-python",
   "name": "python",
   "nbconvert_exporter": "python",
   "pygments_lexer": "ipython3",
   "version": "3.8.5"
  }
 },
 "nbformat": 4,
 "nbformat_minor": 5
}
