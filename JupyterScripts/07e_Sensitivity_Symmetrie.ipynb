{
 "cells": [
  {
   "cell_type": "code",
   "execution_count": 1,
   "id": "cfc1b61f",
   "metadata": {},
   "outputs": [],
   "source": [
    "%load_ext autoreload\n",
    "%autoreload 2\n",
    "\n",
    "from evaluation_scripts.base import load_json, load_toml, get_base_pathes\n",
    "import pandas as pd\n",
    "import os\n",
    "from evaluation_scripts.base import load_pickle_obj\n",
    "from model_scripts.sensitivity_evaluation import SensitivityAnalysis\n",
    "import matplotlib.pyplot as plt\n",
    "from collections import Counter\n",
    "import seaborn as sns\n",
    "\n",
    "\n",
    "_, base = get_base_pathes()\n",
    "path = os.path.join(base, \"sensitivity_sim\")"
   ]
  },
  {
   "cell_type": "code",
   "execution_count": 2,
   "id": "51f16cfa",
   "metadata": {
    "scrolled": true
   },
   "outputs": [],
   "source": [
    "sensitivity = SensitivityAnalysis(path, parameter_names = [\"turnover\",\n",
    "                                \"infection\", \"cA\", \"cB\", \"cS\", \"cU\", \"cAB\"])\n",
    "reload = True\n",
    "if reload:\n",
    "    sensitivity.load()\n",
    "else:\n",
    "    sims = load_pickle_obj(os.path.join(path, \"sensitivity_sim_ab.pkl\"))\n",
    "    pars = load_pickle_obj(os.path.join(path, \"sensitivity_par_ab.pkl\"))\n",
    "    sensitivity.evaluate_parameter_sets(sims, pars)\n",
    "    sensitivity.save()"
   ]
  },
  {
   "cell_type": "code",
   "execution_count": 3,
   "id": "9a975a36",
   "metadata": {},
   "outputs": [
    {
     "data": {
      "text/plain": [
       "['Mono B']"
      ]
     },
     "execution_count": 3,
     "metadata": {},
     "output_type": "execute_result"
    }
   ],
   "source": [
    "for evaluation in sensitivity.evaluations:\n",
    "    pass\n",
    "evaluation.worst_strategies"
   ]
  },
  {
   "cell_type": "code",
   "execution_count": 4,
   "id": "61e77b8c",
   "metadata": {},
   "outputs": [],
   "source": [
    "shared_winners = []\n",
    "single_winners = []\n",
    "single_loser = []\n",
    "shared_loser = []\n",
    "\n",
    "for evaluation in sensitivity.evaluations:\n",
    "    if evaluation.best_strategy == \"None\":\n",
    "        shared_winners += [\"All\"]\n",
    "    else:\n",
    "        if len(evaluation.best_strategies) == 1:\n",
    "            single_winners += evaluation.best_strategies\n",
    "        else:\n",
    "            shared_winners += evaluation.best_strategies\n",
    "        if len(evaluation.worst_strategies) == 1:\n",
    "            single_loser += evaluation.worst_strategies\n",
    "        else:\n",
    "            shared_loser += evaluation.worst_strategies\n",
    "entry_counts = Counter(shared_winners)\n",
    "entry_counts_single = Counter(single_winners)\n",
    "single_loser_counts = Counter(single_loser)\n",
    "shared_loser_counts = Counter(shared_loser)\n",
    "\n"
   ]
  },
  {
   "cell_type": "code",
   "execution_count": 5,
   "id": "4d9b5e8e",
   "metadata": {},
   "outputs": [
    {
     "ename": "NameError",
     "evalue": "name 'df_single' is not defined",
     "output_type": "error",
     "traceback": [
      "\u001b[0;31m---------------------------------------------------------------------------\u001b[0m",
      "\u001b[0;31mNameError\u001b[0m                                 Traceback (most recent call last)",
      "\u001b[0;32m/var/folders/f7/ks4rl3915yj6crhznly5p28h0000gq/T/ipykernel_6598/4215745686.py\u001b[0m in \u001b[0;36m<module>\u001b[0;34m\u001b[0m\n\u001b[0;32m----> 1\u001b[0;31m \u001b[0mdf_single\u001b[0m\u001b[0;34m\u001b[0m\u001b[0;34m\u001b[0m\u001b[0m\n\u001b[0m",
      "\u001b[0;31mNameError\u001b[0m: name 'df_single' is not defined"
     ]
    }
   ],
   "source": [
    "df_single"
   ]
  },
  {
   "cell_type": "code",
   "execution_count": 77,
   "id": "c665446f",
   "metadata": {},
   "outputs": [
    {
     "data": {
      "text/html": [
       "<div>\n",
       "<style scoped>\n",
       "    .dataframe tbody tr th:only-of-type {\n",
       "        vertical-align: middle;\n",
       "    }\n",
       "\n",
       "    .dataframe tbody tr th {\n",
       "        vertical-align: top;\n",
       "    }\n",
       "\n",
       "    .dataframe thead th {\n",
       "        text-align: right;\n",
       "    }\n",
       "</style>\n",
       "<table border=\"1\" class=\"dataframe\">\n",
       "  <thead>\n",
       "    <tr style=\"text-align: right;\">\n",
       "      <th></th>\n",
       "      <th>multiple_winners_count</th>\n",
       "      <th>single_winners_count</th>\n",
       "      <th>multiple_losers_count</th>\n",
       "      <th>single_losers_count</th>\n",
       "    </tr>\n",
       "    <tr>\n",
       "      <th>strategy</th>\n",
       "      <th></th>\n",
       "      <th></th>\n",
       "      <th></th>\n",
       "      <th></th>\n",
       "    </tr>\n",
       "  </thead>\n",
       "  <tbody>\n",
       "    <tr>\n",
       "      <th>Combination</th>\n",
       "      <td>1534</td>\n",
       "      <td>8206.0</td>\n",
       "      <td>9.0</td>\n",
       "      <td>0.0</td>\n",
       "    </tr>\n",
       "    <tr>\n",
       "      <th>Cycling</th>\n",
       "      <td>1146</td>\n",
       "      <td>12.0</td>\n",
       "      <td>943.0</td>\n",
       "      <td>0.0</td>\n",
       "    </tr>\n",
       "    <tr>\n",
       "      <th>Mixing</th>\n",
       "      <td>691</td>\n",
       "      <td>5.0</td>\n",
       "      <td>1269.0</td>\n",
       "      <td>1.0</td>\n",
       "    </tr>\n",
       "    <tr>\n",
       "      <th>Mono A</th>\n",
       "      <td>334</td>\n",
       "      <td>72.0</td>\n",
       "      <td>2386.0</td>\n",
       "      <td>3111.0</td>\n",
       "    </tr>\n",
       "    <tr>\n",
       "      <th>Mono B</th>\n",
       "      <td>351</td>\n",
       "      <td>0.0</td>\n",
       "      <td>1815.0</td>\n",
       "      <td>4324.0</td>\n",
       "    </tr>\n",
       "  </tbody>\n",
       "</table>\n",
       "</div>"
      ],
      "text/plain": [
       "             multiple_winners_count  single_winners_count  \\\n",
       "strategy                                                    \n",
       "Combination                    1534                8206.0   \n",
       "Cycling                        1146                  12.0   \n",
       "Mixing                          691                   5.0   \n",
       "Mono A                          334                  72.0   \n",
       "Mono B                          351                   0.0   \n",
       "\n",
       "             multiple_losers_count  single_losers_count  \n",
       "strategy                                                 \n",
       "Combination                    9.0                  0.0  \n",
       "Cycling                      943.0                  0.0  \n",
       "Mixing                      1269.0                  1.0  \n",
       "Mono A                      2386.0               3111.0  \n",
       "Mono B                      1815.0               4324.0  "
      ]
     },
     "execution_count": 77,
     "metadata": {},
     "output_type": "execute_result"
    }
   ],
   "source": [
    "df = pd.DataFrame()\n",
    "df[\"strategy\"] = entry_counts.keys()\n",
    "df[\"multiple_winners_count\"] = entry_counts.values()\n",
    "df.replace(\"Combo\", \"Combination\", inplace=True)\n",
    "\n",
    "df_single = pd.DataFrame()\n",
    "df_single[\"strategy\"] = entry_counts_single.keys()\n",
    "df_single[\"single_winners_count\"] = entry_counts_single.values()\n",
    "df_single.replace(\"Combo\", \"Combination\", inplace=True)\n",
    "\n",
    "df_loser = pd.DataFrame()\n",
    "df_loser[\"strategy\"] = shared_loser_counts.keys()\n",
    "df_loser[\"multiple_losers_count\"] = shared_loser_counts.values()\n",
    "df_loser.replace(\"Combo\", \"Combination\", inplace=True)\n",
    "\n",
    "df_single_loser = pd.DataFrame()\n",
    "df_single_loser[\"strategy\"] = single_loser_counts.keys()\n",
    "df_single_loser[\"single_losers_count\"] = single_loser_counts.values()\n",
    "df_single_loser.replace(\"Combo\", \"Combination\", inplace=True)\n",
    "\n",
    "combined = df\n",
    "combined = combined.set_index(\"strategy\")\n",
    "combined.loc[df_single.set_index(\"strategy\").index, \"single_winners_count\"] = df_single.set_index(\"strategy\")[\"single_winners_count\"]\n",
    "combined.loc[df_loser.set_index(\"strategy\").index, \"multiple_losers_count\"] = df_loser.set_index(\"strategy\")[\"multiple_losers_count\"]\n",
    "combined.loc[df_single_loser.set_index(\"strategy\").index, \"single_losers_count\"] = df_single_loser.set_index(\"strategy\")[\"single_losers_count\"]\n",
    "\n",
    "combined = combined.fillna(0)\n",
    "order = [\"Combination\", \"Cycling\", \"Mixing\", \"Mono A\", \"Mono B\"]\n",
    "combined = combined.loc[order]\n",
    "\n",
    "combined"
   ]
  },
  {
   "cell_type": "code",
   "execution_count": null,
   "id": "d43a82dc",
   "metadata": {},
   "outputs": [],
   "source": [
    "color_1 = [\"#FFA500\", \"#FF8C00\", \"#FF6347\"]\n",
    "color_2 = [\"#00CED1\", \"#40E0D0\", \"#20B2AA\"]"
   ]
  },
  {
   "cell_type": "code",
   "execution_count": null,
   "id": "353a06a0",
   "metadata": {},
   "outputs": [],
   "source": [
    "import pandas as pd\n",
    "import matplotlib.pyplot as plt\n",
    "import os\n",
    "import matplotlib.patches as patches\n",
    "\n",
    "\n",
    "center_positions = combined.index\n",
    "width = 0.75\n",
    "fontsize = 14\n",
    "axes_label_fontsize = 16\n",
    "\n",
    "def barplot_wins(df, ax=plt, bar_width=1):\n",
    "    df = df[[\"single_winners_count\", \"multiple_winners_count\"]].copy()\n",
    "    df.loc[\"All\"] = 0\n",
    "    df.rename(index={\"All\": \"No winner\"}, inplace=True)\n",
    "    df.plot(kind='bar', stacked=True, color=[color_2[2], color_2[1]], ax=ax, width=bar_width, label=[\"Single Winners\", \"Multiple Winners\"])\n",
    "\n",
    "def barplot_losses(df, ax=plt, bar_width=1):\n",
    "    df = -df[[\"single_losers_count\", \"multiple_losers_count\"]].copy()\n",
    "    df.loc[\"All\"] = 0\n",
    "    df.rename(index={\"All\": \"Insignificant\"}, inplace=True)\n",
    "    df.plot(kind='bar', stacked=True, color=[color_1[1], color_1[0]], ax=ax, width=bar_width, label=[\"Single Losers\", \"Multiple Losers\"])\n",
    "\n",
    "def add_bar(index_value, count_value, color, ax=plt, legend_label=\"p>0.05\", bar_width=1):\n",
    "    ax.bar(index_value, count_value, color=color, label=legend_label, width=bar_width)\n",
    "\n",
    "plt.figure(figsize=(16, 8))\n",
    "ax = plt.gca()\n",
    "\n",
    "# Plot wins\n",
    "barplot_wins(combined, ax=ax, bar_width=width)\n",
    "\n",
    "# Plot losses\n",
    "barplot_losses(combined, ax=ax, bar_width=width)\n",
    "add_bar(5, 130, color=\"black\", ax=ax, bar_width=width)\n",
    "\n",
    "# Update legend with combined labels\n",
    "ax.legend(fontsize=fontsize, labels=[\"Single Winner\", \"Shared Win\", \"Single Loser\", \"Shared Loss\", \"Insignificant\"])\n",
    "\n",
    "\n",
    "# Remove negative signs from y-axis tick labels\n",
    "ax.set_yticklabels([abs(int(label)) for label in ax.get_yticks()])\n",
    "\n",
    "\n",
    "\n",
    "\n",
    "# Remove box around the plot\n",
    "ax.spines['top'].set_visible(False)\n",
    "ax.spines['right'].set_visible(False)\n",
    "ax.spines['left'].set_visible(False)\n",
    "ax.spines['bottom'].set_visible(False)\n",
    "\n",
    "# Create custom axes using patches\n",
    "ax.axhline(y=0, color='grey', linewidth=2, alpha = 0.5, xmin=0.01, xmax=0.99)  \n",
    "\n",
    "ax.add_patch(patches.FancyArrowPatch((-.6, -10), (-.6, 10500), arrowstyle='->', color='black', mutation_scale=15))\n",
    "ax.add_patch(patches.FancyArrowPatch((-.6, 1), (-.6, -6550), arrowstyle='->', color='black', mutation_scale=15))\n",
    "ax.annotate('Wins', xy=(-.6, 10000), xytext=(10, 0), textcoords='offset points', fontsize = axes_label_fontsize)\n",
    "ax.annotate('Losses', xy=(-.6, -6500), xytext=(10, 0), textcoords='offset points', fontsize = axes_label_fontsize)\n",
    "\n",
    "ax.tick_params(axis='y', labelsize=fontsize, rotation=0)\n",
    "ax.tick_params(axis='x', labelsize=fontsize, rotation=0)\n",
    "ax.set_xlabel(\"\")\n",
    "ax.set_ylabel(\"Counts\", fontsize=axes_label_fontsize)\n",
    "\n",
    "plt.tight_layout()\n",
    "\n",
    "plt.savefig(os.path.join(path, \"wins_and_losses.pdf\"))\n",
    "plt.show()\n"
   ]
  },
  {
   "cell_type": "code",
   "execution_count": null,
   "id": "045412f4",
   "metadata": {},
   "outputs": [],
   "source": [
    "combined"
   ]
  },
  {
   "cell_type": "code",
   "execution_count": null,
   "id": "839920fe",
   "metadata": {},
   "outputs": [],
   "source": [
    "combined[\"total wins\"] = combined.multiple_winners_count + combined.single_winners_count\n",
    "combined[\"total wins in %\"] = combined[\"total wins\"]/10000\n",
    "combined[\"total losses\"] = combined.single_losers_count + combined.multiple_losers_count\n",
    "combined[\"total losses in %\"] = combined[\"total losses\"]/10000\n",
    "combined\n"
   ]
  },
  {
   "cell_type": "code",
   "execution_count": 40,
   "id": "654f970b",
   "metadata": {},
   "outputs": [],
   "source": [
    "def eval_scenario(evaluation):\n",
    "    losing =[]\n",
    "    winning = []\n",
    "    if evaluation.best_strategy != \"None\": \n",
    "        community = evaluation.parameter_set[\"community\"]\n",
    "        c = {\"cA\":community[\"A_r\"], \"cB\":community[\"B_r\"]}\n",
    "        for l in evaluation.worst_strategies:\n",
    "            row = c.copy()\n",
    "            row.update({\"losing_strategy\" : l, \"single_loser\" : len(evaluation.worst_strategies) == 1})\n",
    "            losing.append(row)\n",
    "        for w in evaluation.best_strategies:\n",
    "            row = c.copy()\n",
    "            row.update({\"winning_strategy\" : w, \"single_winner\" : len(evaluation.best_strategies) == 1})\n",
    "            winning.append(row)\n",
    "    return losing, winning\n",
    "\n",
    "losing, winning = eval_scenario(evaluation)"
   ]
  },
  {
   "cell_type": "code",
   "execution_count": 54,
   "id": "91aa84dd",
   "metadata": {},
   "outputs": [],
   "source": [
    "losing =[]\n",
    "winning = []\n",
    "for evaluation in sensitivity.evaluations:\n",
    "    l, w = eval_scenario(evaluation)\n",
    "    losing += l\n",
    "    winning += w\n",
    "df_L = pd.DataFrame(losing)\n",
    "df_W = pd.DataFrame(winning)"
   ]
  },
  {
   "cell_type": "code",
   "execution_count": 67,
   "id": "c2847a0a",
   "metadata": {},
   "outputs": [
    {
     "data": {
      "text/html": [
       "<div>\n",
       "<style scoped>\n",
       "    .dataframe tbody tr th:only-of-type {\n",
       "        vertical-align: middle;\n",
       "    }\n",
       "\n",
       "    .dataframe tbody tr th {\n",
       "        vertical-align: top;\n",
       "    }\n",
       "\n",
       "    .dataframe thead th {\n",
       "        text-align: right;\n",
       "    }\n",
       "</style>\n",
       "<table border=\"1\" class=\"dataframe\">\n",
       "  <thead>\n",
       "    <tr style=\"text-align: right;\">\n",
       "      <th></th>\n",
       "      <th>cA</th>\n",
       "      <th>cB</th>\n",
       "      <th>winning_strategy</th>\n",
       "      <th>single_winner</th>\n",
       "      <th>symmetrie</th>\n",
       "    </tr>\n",
       "  </thead>\n",
       "  <tbody>\n",
       "    <tr>\n",
       "      <th>0</th>\n",
       "      <td>0.08</td>\n",
       "      <td>0.30</td>\n",
       "      <td>Combo</td>\n",
       "      <td>True</td>\n",
       "      <td>-0.709474</td>\n",
       "    </tr>\n",
       "    <tr>\n",
       "      <th>1</th>\n",
       "      <td>0.13</td>\n",
       "      <td>0.16</td>\n",
       "      <td>Combo</td>\n",
       "      <td>True</td>\n",
       "      <td>-0.421724</td>\n",
       "    </tr>\n",
       "    <tr>\n",
       "      <th>2</th>\n",
       "      <td>0.44</td>\n",
       "      <td>0.06</td>\n",
       "      <td>Combo</td>\n",
       "      <td>False</td>\n",
       "      <td>0.320000</td>\n",
       "    </tr>\n",
       "    <tr>\n",
       "      <th>3</th>\n",
       "      <td>0.44</td>\n",
       "      <td>0.06</td>\n",
       "      <td>Mono B</td>\n",
       "      <td>False</td>\n",
       "      <td>0.320000</td>\n",
       "    </tr>\n",
       "    <tr>\n",
       "      <th>4</th>\n",
       "      <td>0.13</td>\n",
       "      <td>0.26</td>\n",
       "      <td>Combo</td>\n",
       "      <td>True</td>\n",
       "      <td>-0.536667</td>\n",
       "    </tr>\n",
       "    <tr>\n",
       "      <th>...</th>\n",
       "      <td>...</td>\n",
       "      <td>...</td>\n",
       "      <td>...</td>\n",
       "      <td>...</td>\n",
       "      <td>...</td>\n",
       "    </tr>\n",
       "    <tr>\n",
       "      <th>12346</th>\n",
       "      <td>0.32</td>\n",
       "      <td>0.08</td>\n",
       "      <td>Combo</td>\n",
       "      <td>True</td>\n",
       "      <td>0.120000</td>\n",
       "    </tr>\n",
       "    <tr>\n",
       "      <th>12347</th>\n",
       "      <td>0.00</td>\n",
       "      <td>0.45</td>\n",
       "      <td>Combo</td>\n",
       "      <td>False</td>\n",
       "      <td>-1.000000</td>\n",
       "    </tr>\n",
       "    <tr>\n",
       "      <th>12348</th>\n",
       "      <td>0.00</td>\n",
       "      <td>0.45</td>\n",
       "      <td>Mono A</td>\n",
       "      <td>False</td>\n",
       "      <td>-1.000000</td>\n",
       "    </tr>\n",
       "    <tr>\n",
       "      <th>12349</th>\n",
       "      <td>0.25</td>\n",
       "      <td>0.43</td>\n",
       "      <td>Combo</td>\n",
       "      <td>True</td>\n",
       "      <td>-0.382353</td>\n",
       "    </tr>\n",
       "    <tr>\n",
       "      <th>12350</th>\n",
       "      <td>0.15</td>\n",
       "      <td>0.28</td>\n",
       "      <td>Combo</td>\n",
       "      <td>True</td>\n",
       "      <td>-0.501163</td>\n",
       "    </tr>\n",
       "  </tbody>\n",
       "</table>\n",
       "<p>12351 rows × 5 columns</p>\n",
       "</div>"
      ],
      "text/plain": [
       "         cA    cB winning_strategy  single_winner  symmetrie\n",
       "0      0.08  0.30            Combo           True  -0.709474\n",
       "1      0.13  0.16            Combo           True  -0.421724\n",
       "2      0.44  0.06            Combo          False   0.320000\n",
       "3      0.44  0.06           Mono B          False   0.320000\n",
       "4      0.13  0.26            Combo           True  -0.536667\n",
       "...     ...   ...              ...            ...        ...\n",
       "12346  0.32  0.08            Combo           True   0.120000\n",
       "12347  0.00  0.45            Combo          False  -1.000000\n",
       "12348  0.00  0.45           Mono A          False  -1.000000\n",
       "12349  0.25  0.43            Combo           True  -0.382353\n",
       "12350  0.15  0.28            Combo           True  -0.501163\n",
       "\n",
       "[12351 rows x 5 columns]"
      ]
     },
     "execution_count": 67,
     "metadata": {},
     "output_type": "execute_result"
    }
   ],
   "source": [
    "df_L[\"symmetrie\"] = df_L.cA - df_L.cB / (df_L.cA + df_L.cB)\n",
    "df_W[\"symmetrie\"] = df_W.cA - df_W.cB / (df_W.cA + df_W.cB)\n",
    "df_W"
   ]
  },
  {
   "cell_type": "code",
   "execution_count": 84,
   "id": "24a641f4",
   "metadata": {},
   "outputs": [
    {
     "data": {
      "text/plain": [
       "<AxesSubplot: xlabel='losing_strategy', ylabel='symmetrie'>"
      ]
     },
     "execution_count": 84,
     "metadata": {},
     "output_type": "execute_result"
    },
    {
     "data": {
      "image/png": "[encoded data removed]",
      "text/plain": [
       "<Figure size 432x288 with 1 Axes>"
      ]
     },
     "metadata": {
      "needs_background": "light"
     },
     "output_type": "display_data"
    }
   ],
   "source": [
    "sns.violinplot(data = df_L, x = \"losing_strategy\", hue = \"single_loser\", y = \"symmetrie\")"
   ]
  },
  {
   "cell_type": "code",
   "execution_count": 83,
   "id": "49173179",
   "metadata": {},
   "outputs": [
    {
     "data": {
      "text/plain": [
       "<AxesSubplot: xlabel='winning_strategy', ylabel='symmetrie'>"
      ]
     },
     "execution_count": 83,
     "metadata": {},
     "output_type": "execute_result"
    },
    {
     "data": {
      "image/png": "[encoded data removed]",
      "text/plain": [
       "<Figure size 432x288 with 1 Axes>"
      ]
     },
     "metadata": {
      "needs_background": "light"
     },
     "output_type": "display_data"
    }
   ],
   "source": [
    "sns.violinplot(data = df_W, x = \"winning_strategy\", hue = \"single_winner\", y = \"symmetrie\")"
   ]
  },
  {
   "cell_type": "code",
   "execution_count": null,
   "id": "3503ded3",
   "metadata": {},
   "outputs": [],
   "source": [
    "shared_winners = []\n",
    "single_winners = []\n",
    "single_loser = []\n",
    "shared_loser = []\n",
    "\n",
    "for evaluation in sensitivity.evaluations:\n",
    "    if evaluation.best_strategy == \"None\":\n",
    "        shared_winners += [\"All\"]\n",
    "    else:\n",
    "        if len(evaluation.best_strategies) == 1:\n",
    "            single_winners += evaluation.best_strategies\n",
    "        else:\n",
    "            shared_winners += evaluation.best_strategies\n",
    "        if len(evaluation.worst_strategies) == 1:\n",
    "            single_loser += evaluation.worst_strategies\n",
    "        else:\n",
    "            shared_loser += evaluation.worst_strategies\n",
    "entry_counts = Counter(shared_winners)\n",
    "entry_counts_single = Counter(single_winners)\n",
    "single_loser_counts = Counter(single_loser)\n",
    "shared_loser_counts = Counter(shared_loser)\n",
    "\n"
   ]
  }
 ],
 "metadata": {
  "kernelspec": {
   "display_name": "Python 3 (ipykernel)",
   "language": "python",
   "name": "python3"
  },
  "language_info": {
   "codemirror_mode": {
    "name": "ipython",
    "version": 3
   },
   "file_extension": ".py",
   "mimetype": "text/x-python",
   "name": "python",
   "nbconvert_exporter": "python",
   "pygments_lexer": "ipython3",
   "version": "3.8.5"
  }
 },
 "nbformat": 4,
 "nbformat_minor": 5
}
