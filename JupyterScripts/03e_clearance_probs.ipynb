{
 "cells": [
  {
   "cell_type": "code",
   "execution_count": 1,
   "id": "a699bead",
   "metadata": {},
   "outputs": [],
   "source": [
    "import pandas as pd\n",
    "import numpy as np\n",
    "from evaluation_scripts.base import load_experiment, save_for_latex\n",
    "import os"
   ]
  },
  {
   "cell_type": "code",
   "execution_count": 2,
   "id": "08e24b2b",
   "metadata": {},
   "outputs": [],
   "source": [
    "from evaluation_scripts.experiment_class import Experiment\n",
    "experiment = Experiment([\"20210417\", \"20220127\", \"20220412\"])\n",
    "data = experiment.data"
   ]
  },
  {
   "cell_type": "code",
   "execution_count": 37,
   "id": "ad9b0178",
   "metadata": {},
   "outputs": [],
   "source": [
    "## LOAD\n",
    "strains, _, dictionaries, pathes, df1, _ = load_experiment(\"20210417\")\n",
    "_, _, _, _, df2, _ = load_experiment(\"20220127\")\n",
    "_, _, _, _, df3, _ = load_experiment(\"20220412\")\n",
    "data = pd.concat([df1, df2, df3])\n",
    "data = data[data.exclude == False]\n",
    "data.phenotype = data.phenotype.replace({\"UI\" : \"U\"})\n",
    "path = pathes[\"general_obj\"]"
   ]
  },
  {
   "cell_type": "code",
   "execution_count": 38,
   "id": "e9442062",
   "metadata": {},
   "outputs": [],
   "source": [
    "def get_clearance(data):\n",
    "    df = data[ (data.x.isin([\"S\", \"A_r\", \"B_r\"])) & (data.treatment_with != \"none\") & (data.turnover_strain.isnull() == False)].copy()\n",
    "    df[\"cleared\"] = df.phenotype == \"U\"\n",
    "    cols = [\"x\", \"treatment_with\", \"cleared\"]\n",
    "    summary = df[cols].groupby(cols[:-1]).sum()\n",
    "    summary[\"total\"] = df[cols].groupby(cols[:-1]).count()\n",
    "    summary[\"f\"] = summary.cleared/summary.total\n",
    "    summary = summary.reset_index()\n",
    "    clearance = pd.pivot_table(summary, columns = \"x\", index = \"treatment_with\", values = \"f\")\n",
    "    order = [\"A\", \"B\", \"AB\"]\n",
    "    clearance = clearance.loc[order,]\n",
    "    return clearance\n",
    "\n",
    "clearance = get_clearance(data)"
   ]
  },
  {
   "cell_type": "code",
   "execution_count": 39,
   "id": "07d69674",
   "metadata": {},
   "outputs": [
    {
     "name": "stdout",
     "output_type": "stream",
     "text": [
      "  treatmentwith    Ar    Br     S\n",
      "0             A  0.02  0.98  0.97\n",
      "1             B  0.62  0.01  0.73\n",
      "2            AB  0.40  0.98  0.86\n"
     ]
    }
   ],
   "source": [
    "## SAVE\n",
    "save_for_latex(clearance, [], os.path.join(pathes[\"tables\"], \"clearance_mean.csv\"))"
   ]
  },
  {
   "cell_type": "code",
   "execution_count": 40,
   "id": "b00221c2",
   "metadata": {},
   "outputs": [
    {
     "data": {
      "text/html": [
       "<div>\n",
       "<style scoped>\n",
       "    .dataframe tbody tr th:only-of-type {\n",
       "        vertical-align: middle;\n",
       "    }\n",
       "\n",
       "    .dataframe tbody tr th {\n",
       "        vertical-align: top;\n",
       "    }\n",
       "\n",
       "    .dataframe thead th {\n",
       "        text-align: right;\n",
       "    }\n",
       "</style>\n",
       "<table border=\"1\" class=\"dataframe\">\n",
       "  <thead>\n",
       "    <tr style=\"text-align: right;\">\n",
       "      <th>x</th>\n",
       "      <th>A_r</th>\n",
       "      <th>B_r</th>\n",
       "      <th>S</th>\n",
       "    </tr>\n",
       "    <tr>\n",
       "      <th>treatment_with</th>\n",
       "      <th></th>\n",
       "      <th></th>\n",
       "      <th></th>\n",
       "    </tr>\n",
       "  </thead>\n",
       "  <tbody>\n",
       "    <tr>\n",
       "      <th>A</th>\n",
       "      <td>0.016542</td>\n",
       "      <td>0.975313</td>\n",
       "      <td>0.967422</td>\n",
       "    </tr>\n",
       "    <tr>\n",
       "      <th>B</th>\n",
       "      <td>0.621499</td>\n",
       "      <td>0.009390</td>\n",
       "      <td>0.732519</td>\n",
       "    </tr>\n",
       "    <tr>\n",
       "      <th>AB</th>\n",
       "      <td>0.398007</td>\n",
       "      <td>0.975062</td>\n",
       "      <td>0.860759</td>\n",
       "    </tr>\n",
       "  </tbody>\n",
       "</table>\n",
       "</div>"
      ],
      "text/plain": [
       "x                    A_r       B_r         S\n",
       "treatment_with                              \n",
       "A               0.016542  0.975313  0.967422\n",
       "B               0.621499  0.009390  0.732519\n",
       "AB              0.398007  0.975062  0.860759"
      ]
     },
     "execution_count": 40,
     "metadata": {},
     "output_type": "execute_result"
    }
   ],
   "source": [
    "clearance\n"
   ]
  },
  {
   "cell_type": "code",
   "execution_count": null,
   "id": "462c2901",
   "metadata": {},
   "outputs": [],
   "source": []
  }
 ],
 "metadata": {
  "kernelspec": {
   "display_name": "Python 3 (ipykernel)",
   "language": "python",
   "name": "python3"
  },
  "language_info": {
   "codemirror_mode": {
    "name": "ipython",
    "version": 3
   },
   "file_extension": ".py",
   "mimetype": "text/x-python",
   "name": "python",
   "nbconvert_exporter": "python",
   "pygments_lexer": "ipython3",
   "version": "3.8.5"
  }
 },
 "nbformat": 4,
 "nbformat_minor": 5
}
