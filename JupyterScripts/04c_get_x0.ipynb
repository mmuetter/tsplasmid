{
 "cells": [
  {
   "cell_type": "markdown",
   "id": "b0a05222",
   "metadata": {},
   "source": [
    "## Turnover Decisions\n",
    "- Every well phenotype has a chance to be turned overed\n",
    "- For every transfer there is a unique distribution of turnover strains.\n",
    "- We count the per phenotype rate of wells that will be discharged at the end of the transfer after the phenotyping\n",
    "- We also count the turnover distribution at the beginning of each transfer."
   ]
  },
  {
   "cell_type": "code",
   "execution_count": 2,
   "id": "02efd35c",
   "metadata": {},
   "outputs": [
    {
     "name": "stdout",
     "output_type": "stream",
     "text": [
      "The autoreload extension is already loaded. To reload it, use:\n",
      "  %reload_ext autoreload\n"
     ]
    }
   ],
   "source": [
    "%load_ext autoreload\n",
    "%autoreload 2\n",
    "\n",
    "import pandas as pd\n",
    "import seaborn as sns\n",
    "from matplotlib import pyplot as plt\n",
    "import numpy as np\n",
    "import math\n",
    "from evaluation_scripts.base import get_pathes, dict_to_json, load_toml\n",
    "from evaluation_scripts.well_ident import build_dictionaries\n",
    "from itertools import product as iterprod\n",
    "import json\n",
    "\n",
    "experiments = [\"20220412\", \"20220127\", \"20210417\"]\n",
    "regular_phenos = [\"UI\", \"S\", \"A_r\", \"B_r\", \"A&B\", \"AB_r\"] \n"
   ]
  },
  {
   "cell_type": "code",
   "execution_count": 3,
   "id": "831b7a2f",
   "metadata": {},
   "outputs": [
    {
     "name": "stdout",
     "output_type": "stream",
     "text": [
      "20220412\n",
      "20220127\n",
      "20210417\n"
     ]
    }
   ],
   "source": [
    "for exp in experiments:\n",
    "    print(exp)\n",
    "    ## LOAD\n",
    "    jupyter_path, base_path, path, analysis_path, os = get_pathes(exp + \"_output\")\n",
    "    hue_infos, strategies, plate_rows, agar_strain_dict = build_dictionaries()\n",
    "    Data = pd.read_pickle(analysis_path+os.sep+\"obj\"+os.sep+\"01b_Data.pkl\")\n",
    "    with open(os.path.join(path, \"exp_pars.json\")) as json_data:\n",
    "            exp_pars = json.load(json_data)\n",
    "    \n",
    "    ## DO\n",
    "    # Calculate the discharge rate by phenotype\n",
    "    df = Data[Data.turnover_strain.isnull()== False].copy()\n",
    "    df = df[(df.transfer_n == 0)&(df.plate == 1)&(df.rep == 1)&df.turnover_strain.isin(regular_phenos)]\n",
    "    df[\"x0\"] = True\n",
    "    cols = [\"turnover_strain\", \"x0\"]\n",
    "    x0 = df[cols].groupby(cols[:-1]).count()\n",
    "    \n",
    "    ## SAVE\n",
    "    x0.to_pickle(os.path.join(analysis_path, \"obj\", \"04c_x0.pkl\"))\n"
   ]
  },
  {
   "cell_type": "code",
   "execution_count": 14,
   "id": "ac527467",
   "metadata": {},
   "outputs": [],
   "source": [
    "def get_x0(self):\n",
    "    Data = self.data\n",
    "    df = Data[Data.turnover_strain.isnull()== False].copy()\n",
    "    df = df[(df.transfer_n == 0)&(df.plate == 1)&(df.rep == 1)]\n",
    "    df[\"x0\"] = True\n",
    "    cols = [\"turnover_strain\", \"x0\"]\n",
    "    x0 = df[cols].groupby(cols[:-1]).count()\n",
    "    return x0"
   ]
  },
  {
   "cell_type": "code",
   "execution_count": null,
   "id": "26f1da96",
   "metadata": {},
   "outputs": [],
   "source": []
  }
 ],
 "metadata": {
  "kernelspec": {
   "display_name": "Python 3 (ipykernel)",
   "language": "python",
   "name": "python3"
  },
  "language_info": {
   "codemirror_mode": {
    "name": "ipython",
    "version": 3
   },
   "file_extension": ".py",
   "mimetype": "text/x-python",
   "name": "python",
   "nbconvert_exporter": "python",
   "pygments_lexer": "ipython3",
   "version": "3.8.5"
  }
 },
 "nbformat": 4,
 "nbformat_minor": 5
}
