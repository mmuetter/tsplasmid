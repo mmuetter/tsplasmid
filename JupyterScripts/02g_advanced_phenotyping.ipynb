{
 "cells": [
  {
   "cell_type": "markdown",
   "id": "e4edd5fd",
   "metadata": {},
   "source": [
    "## Special Skript for the 20220412 Emergence Experiment"
   ]
  },
  {
   "cell_type": "code",
   "execution_count": 1,
   "id": "32e272fb",
   "metadata": {},
   "outputs": [],
   "source": [
    "%load_ext autoreload\n",
    "%autoreload 2\n",
    "\n",
    "import pandas as pd\n",
    "import numpy as np\n",
    "from evaluation_scripts.experiment_class import Experiment\n",
    "import os\n",
    "\n",
    "experiments = [\"20220412\", \"20220127\", \"20210417\"]"
   ]
  },
  {
   "cell_type": "markdown",
   "id": "353ddcda",
   "metadata": {},
   "source": [
    "## Advanced Phenotyping\n",
    "- Only take care of easy cases\n",
    "    - Ar + eff treatment = A^l etc.\n",
    "    - Therefore only prev_pheno == current_pheno\n",
    "    - If resulting pheno is \n",
    "\n"
   ]
  },
  {
   "cell_type": "code",
   "execution_count": 2,
   "id": "d8bf046f",
   "metadata": {},
   "outputs": [],
   "source": [
    "def check_if_treatment_was_effective_backup(row, df, case):\n",
    "    effective_treatments = {\n",
    "        \"S\":[\"A\", \"B\", \"AB\"],\n",
    "        \"A_r\":[\"B\", \"AB\"],\n",
    "        \"B_r\":[\"A\", \"AB\"],\n",
    "    }  \n",
    "    \n",
    "    if case == \"transfer\":\n",
    "        i = row.transfer_from_well_id\n",
    "        prev_phen = df.loc[i,\"phenotype\"]\n",
    "    if case == \"turnover\":\n",
    "        prev_phen = row.turnover_strain\n",
    "    \n",
    "    treat = row[\"treatment_with\"]\n",
    "    current_phen = row.phenotype\n",
    "    \n",
    "    if (prev_phen == current_phen) & (current_phen in effective_treatments.keys()):\n",
    "        eff_treats = effective_treatments[current_phen]\n",
    "        if treat in eff_treats:\n",
    "            return current_phen+\"_*\"\n",
    "        else:\n",
    "            return current_phen+\"_tau\"\n",
    "    else: \n",
    "        return current_phen+\"_?\"\n",
    "\n",
    "\n",
    "def get_advanced_phenotype(row):\n",
    "    effective_treatments = {\n",
    "        \"S\":[\"A\", \"B\", \"AB\"],\n",
    "        \"A_r\":[\"B\", \"AB\"],\n",
    "        \"B_r\":[\"A\", \"AB\"],\n",
    "    }  \n",
    "    current_phen = row.phenotype\n",
    "    prev_phen = row.x\n",
    "    treat = row.treatment_with\n",
    "    if (prev_phen == current_phen) & (current_phen in effective_treatments.keys()):\n",
    "        eff_treats = effective_treatments[current_phen]\n",
    "        if treat in eff_treats:\n",
    "            return current_phen+\"^l\"\n",
    "        else:\n",
    "            return current_phen+\"^h\"\n",
    "    else: \n",
    "        return current_phen+\"^?\"\n",
    "\n",
    "def added_phenotypes(row, data, advanced= False):\n",
    "    v = []\n",
    "    for w in row.added_wells:\n",
    "        # Turnover\n",
    "        if \"S\" in w: \n",
    "            advanced_pheno = row.turnover_strain + \"^h\"\n",
    "        # Transfer or infection\n",
    "        elif w in data.index:\n",
    "            if data.loc[w, \"exclude\"]:\n",
    "                advanced_pheno = \"?\"\n",
    "            else:\n",
    "                advanced_pheno = data.loc[w, \"advanced_phenotype\"]\n",
    "        else:\n",
    "            advanced_pheno = \"?\"\n",
    "        if (advanced_pheno not in v) & (type(advanced_pheno) == str):\n",
    "            v.append(advanced_pheno)\n",
    "    return v"
   ]
  },
  {
   "cell_type": "code",
   "execution_count": 3,
   "id": "b846aa38",
   "metadata": {},
   "outputs": [
    {
     "name": "stdout",
     "output_type": "stream",
     "text": [
      "20220412\n",
      "20220127\n",
      "20210417\n"
     ]
    }
   ],
   "source": [
    "for exp in experiments:\n",
    "    print(exp)\n",
    "    experiment = Experiment(experiments[0])\n",
    "    data = experiment.data\n",
    "    data[\"advanced_phenotype\"] = data.apply(lambda x: get_advanced_phenotype(x), axis = 1)\n",
    "    data[\"added_advanced_phenotypes\"] = data.apply(lambda x: added_phenotypes(x, data, advanced = True), axis=1)\n",
    "\n",
    "    ## Save\n",
    "    data.to_pickle(os.path.join(experiment.pathes[\"obj\"],\"02g_advanced_phenotyping.pkl\"))"
   ]
  },
  {
   "cell_type": "code",
   "execution_count": 4,
   "id": "ad025da4",
   "metadata": {},
   "outputs": [
    {
     "data": {
      "text/plain": [
       "ID\n",
       "t1_P1_A3     [B_r^h, A_r^h]\n",
       "t1_P1_A4     [B_r^h, A_r^h]\n",
       "t1_P1_B3     [B_r^h, A_r^h]\n",
       "t1_P1_B4     [B_r^h, A_r^h]\n",
       "t1_P1_A5     [B_r^h, A_r^h]\n",
       "t1_P1_A6     [B_r^h, A_r^h]\n",
       "t1_P1_B5     [B_r^h, A_r^h]\n",
       "t1_P1_B6     [B_r^h, A_r^h]\n",
       "t1_P1_A7     [A_r^h, B_r^h]\n",
       "t1_P1_A8     [A_r^h, B_r^h]\n",
       "t1_P1_B7     [A_r^h, B_r^h]\n",
       "t1_P1_B8     [A_r^h, B_r^h]\n",
       "t1_P1_A21    [A_r^h, A&B^?]\n",
       "t1_P1_A22    [A_r^h, B_r^h]\n",
       "t1_P1_B21    [A_r^h, B_r^h]\n",
       "t1_P1_B22    [A_r^h, B_r^h]\n",
       "t1_P1_C11    [B_r^h, A&B^?]\n",
       "t1_P1_C13    [B_r^h, A_r^h]\n",
       "t1_P1_C14    [B_r^h, A_r^h]\n",
       "t1_P1_D13    [B_r^h, A_r^h]\n",
       "t1_P1_D14    [B_r^h, A_r^h]\n",
       "t1_P1_E11    [A_r^h, B_r^h]\n",
       "t1_P1_E12    [A_r^h, B_r^h]\n",
       "t1_P1_F11    [A_r^h, B_r^h]\n",
       "t1_P1_F12    [A_r^h, B_r^h]\n",
       "t1_P1_H8            [A&B^?]\n",
       "t1_P1_G11           [A&B^?]\n",
       "t1_P1_G19    [A_r^h, B_r^h]\n",
       "t1_P1_G20    [A_r^h, B_r^h]\n",
       "t1_P1_H19    [A_r^h, B_r^h]\n",
       "t1_P1_H20    [A_r^h, B_r^h]\n",
       "t1_P1_I9            [A&B^?]\n",
       "t1_P1_I21           [A&B^?]\n",
       "t1_P1_J22           [A&B^?]\n",
       "t1_P1_L4            [A&B^?]\n",
       "t1_P1_K15    [B_r^h, A_r^h]\n",
       "t1_P1_K16    [B_r^h, A_r^h]\n",
       "t1_P1_L15    [B_r^h, A_r^h]\n",
       "t1_P1_L16    [B_r^h, A_r^h]\n",
       "t1_P1_K23    [B_r^h, A_r^h]\n",
       "t1_P1_K24    [B_r^h, A_r^h]\n",
       "t1_P1_L23    [B_r^h, A_r^h]\n",
       "t1_P1_L24    [B_r^h, A_r^h]\n",
       "t1_P2_A3     [B_r^h, A_r^h]\n",
       "t1_P2_A4     [B_r^h, A_r^h]\n",
       "t1_P2_B3     [B_r^h, A_r^h]\n",
       "t1_P2_B4     [B_r^h, A_r^h]\n",
       "t1_P2_A5     [B_r^h, A_r^h]\n",
       "t1_P2_A6     [B_r^h, A_r^h]\n",
       "t1_P2_B5     [B_r^h, A_r^h]\n",
       "Name: added_advanced_phenotypes, dtype: object"
      ]
     },
     "execution_count": 4,
     "metadata": {},
     "output_type": "execute_result"
    }
   ],
   "source": [
    "data[data.x == \"A&B\"].added_advanced_phenotypes.head(50)"
   ]
  },
  {
   "cell_type": "code",
   "execution_count": null,
   "id": "b2948c72",
   "metadata": {},
   "outputs": [],
   "source": []
  }
 ],
 "metadata": {
  "kernelspec": {
   "display_name": "Python 3 (ipykernel)",
   "language": "python",
   "name": "python3"
  },
  "language_info": {
   "codemirror_mode": {
    "name": "ipython",
    "version": 3
   },
   "file_extension": ".py",
   "mimetype": "text/x-python",
   "name": "python",
   "nbconvert_exporter": "python",
   "pygments_lexer": "ipython3",
   "version": "3.8.5"
  }
 },
 "nbformat": 4,
 "nbformat_minor": 5
}
