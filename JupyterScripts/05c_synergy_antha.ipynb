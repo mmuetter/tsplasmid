{
 "cells": [
  {
   "cell_type": "code",
   "execution_count": 1,
   "id": "c44a4580",
   "metadata": {},
   "outputs": [],
   "source": [
    "from evaluation_scripts.base import get_pathes, load_pickle_obj\n",
    "jupyter_path, base_path, path, analysis_path, os = get_pathes(\"20220412_output\")\n",
    "M_path = os.path.join(base_path, \"summary\", \"obj\")\n"
   ]
  },
  {
   "cell_type": "code",
   "execution_count": 2,
   "id": "f9b9f1ee",
   "metadata": {},
   "outputs": [],
   "source": [
    "M_ab = load_pickle_obj(os.path.join(M_path, \"M_t_AB.pkl\")) \n",
    "M_a  = load_pickle_obj(os.path.join(M_path, \"M_t_A.pkl\")) \n",
    "M_b  = load_pickle_obj(os.path.join(M_path, \"M_t_B.pkl\")) "
   ]
  },
  {
   "cell_type": "code",
   "execution_count": 3,
   "id": "0cccda0c",
   "metadata": {},
   "outputs": [
    {
     "data": {
      "text/html": [
       "<div>\n",
       "<style scoped>\n",
       "    .dataframe tbody tr th:only-of-type {\n",
       "        vertical-align: middle;\n",
       "    }\n",
       "\n",
       "    .dataframe tbody tr th {\n",
       "        vertical-align: top;\n",
       "    }\n",
       "\n",
       "    .dataframe thead th {\n",
       "        text-align: right;\n",
       "    }\n",
       "</style>\n",
       "<table border=\"1\" class=\"dataframe\">\n",
       "  <thead>\n",
       "    <tr style=\"text-align: right;\">\n",
       "      <th></th>\n",
       "      <th>U</th>\n",
       "      <th>S</th>\n",
       "      <th>A_r</th>\n",
       "      <th>B_r</th>\n",
       "      <th>A&amp;B</th>\n",
       "      <th>AB_r</th>\n",
       "    </tr>\n",
       "  </thead>\n",
       "  <tbody>\n",
       "    <tr>\n",
       "      <th>U</th>\n",
       "      <td>0.99</td>\n",
       "      <td>0.96</td>\n",
       "      <td>0.02</td>\n",
       "      <td>0.97</td>\n",
       "      <td>0.03</td>\n",
       "      <td>0.02</td>\n",
       "    </tr>\n",
       "    <tr>\n",
       "      <th>S</th>\n",
       "      <td>0.00</td>\n",
       "      <td>0.02</td>\n",
       "      <td>0.00</td>\n",
       "      <td>0.01</td>\n",
       "      <td>0.00</td>\n",
       "      <td>0.00</td>\n",
       "    </tr>\n",
       "    <tr>\n",
       "      <th>A_r</th>\n",
       "      <td>0.01</td>\n",
       "      <td>0.02</td>\n",
       "      <td>0.98</td>\n",
       "      <td>0.01</td>\n",
       "      <td>0.59</td>\n",
       "      <td>0.01</td>\n",
       "    </tr>\n",
       "    <tr>\n",
       "      <th>B_r</th>\n",
       "      <td>0.00</td>\n",
       "      <td>0.00</td>\n",
       "      <td>0.00</td>\n",
       "      <td>0.01</td>\n",
       "      <td>0.00</td>\n",
       "      <td>0.00</td>\n",
       "    </tr>\n",
       "    <tr>\n",
       "      <th>A&amp;B</th>\n",
       "      <td>0.00</td>\n",
       "      <td>0.00</td>\n",
       "      <td>0.00</td>\n",
       "      <td>0.00</td>\n",
       "      <td>0.18</td>\n",
       "      <td>0.01</td>\n",
       "    </tr>\n",
       "    <tr>\n",
       "      <th>AB_r</th>\n",
       "      <td>0.00</td>\n",
       "      <td>0.00</td>\n",
       "      <td>0.00</td>\n",
       "      <td>0.00</td>\n",
       "      <td>0.20</td>\n",
       "      <td>0.96</td>\n",
       "    </tr>\n",
       "  </tbody>\n",
       "</table>\n",
       "</div>"
      ],
      "text/plain": [
       "         U     S   A_r   B_r   A&B  AB_r\n",
       "U     0.99  0.96  0.02  0.97  0.03  0.02\n",
       "S     0.00  0.02  0.00  0.01  0.00  0.00\n",
       "A_r   0.01  0.02  0.98  0.01  0.59  0.01\n",
       "B_r   0.00  0.00  0.00  0.01  0.00  0.00\n",
       "A&B   0.00  0.00  0.00  0.00  0.18  0.01\n",
       "AB_r  0.00  0.00  0.00  0.00  0.20  0.96"
      ]
     },
     "execution_count": 3,
     "metadata": {},
     "output_type": "execute_result"
    }
   ],
   "source": [
    "M_a"
   ]
  },
  {
   "cell_type": "code",
   "execution_count": 4,
   "id": "134f8fd3",
   "metadata": {},
   "outputs": [
    {
     "data": {
      "text/html": [
       "<div>\n",
       "<style scoped>\n",
       "    .dataframe tbody tr th:only-of-type {\n",
       "        vertical-align: middle;\n",
       "    }\n",
       "\n",
       "    .dataframe tbody tr th {\n",
       "        vertical-align: top;\n",
       "    }\n",
       "\n",
       "    .dataframe thead th {\n",
       "        text-align: right;\n",
       "    }\n",
       "</style>\n",
       "<table border=\"1\" class=\"dataframe\">\n",
       "  <thead>\n",
       "    <tr style=\"text-align: right;\">\n",
       "      <th></th>\n",
       "      <th>U</th>\n",
       "      <th>S</th>\n",
       "      <th>A_r</th>\n",
       "      <th>B_r</th>\n",
       "      <th>A&amp;B</th>\n",
       "      <th>AB_r</th>\n",
       "    </tr>\n",
       "  </thead>\n",
       "  <tbody>\n",
       "    <tr>\n",
       "      <th>U</th>\n",
       "      <td>0.99</td>\n",
       "      <td>0.80</td>\n",
       "      <td>0.63</td>\n",
       "      <td>0.01</td>\n",
       "      <td>0.03</td>\n",
       "      <td>0.02</td>\n",
       "    </tr>\n",
       "    <tr>\n",
       "      <th>S</th>\n",
       "      <td>0.00</td>\n",
       "      <td>0.19</td>\n",
       "      <td>0.18</td>\n",
       "      <td>0.00</td>\n",
       "      <td>0.00</td>\n",
       "      <td>0.00</td>\n",
       "    </tr>\n",
       "    <tr>\n",
       "      <th>A_r</th>\n",
       "      <td>0.00</td>\n",
       "      <td>0.00</td>\n",
       "      <td>0.18</td>\n",
       "      <td>0.00</td>\n",
       "      <td>0.00</td>\n",
       "      <td>0.00</td>\n",
       "    </tr>\n",
       "    <tr>\n",
       "      <th>B_r</th>\n",
       "      <td>0.01</td>\n",
       "      <td>0.01</td>\n",
       "      <td>0.00</td>\n",
       "      <td>0.98</td>\n",
       "      <td>0.21</td>\n",
       "      <td>0.00</td>\n",
       "    </tr>\n",
       "    <tr>\n",
       "      <th>A&amp;B</th>\n",
       "      <td>0.00</td>\n",
       "      <td>0.00</td>\n",
       "      <td>0.00</td>\n",
       "      <td>0.00</td>\n",
       "      <td>0.03</td>\n",
       "      <td>0.00</td>\n",
       "    </tr>\n",
       "    <tr>\n",
       "      <th>AB_r</th>\n",
       "      <td>0.00</td>\n",
       "      <td>0.00</td>\n",
       "      <td>0.01</td>\n",
       "      <td>0.01</td>\n",
       "      <td>0.73</td>\n",
       "      <td>0.98</td>\n",
       "    </tr>\n",
       "  </tbody>\n",
       "</table>\n",
       "</div>"
      ],
      "text/plain": [
       "         U     S   A_r   B_r   A&B  AB_r\n",
       "U     0.99  0.80  0.63  0.01  0.03  0.02\n",
       "S     0.00  0.19  0.18  0.00  0.00  0.00\n",
       "A_r   0.00  0.00  0.18  0.00  0.00  0.00\n",
       "B_r   0.01  0.01  0.00  0.98  0.21  0.00\n",
       "A&B   0.00  0.00  0.00  0.00  0.03  0.00\n",
       "AB_r  0.00  0.00  0.01  0.01  0.73  0.98"
      ]
     },
     "execution_count": 4,
     "metadata": {},
     "output_type": "execute_result"
    }
   ],
   "source": [
    "M_b"
   ]
  },
  {
   "cell_type": "code",
   "execution_count": 5,
   "id": "c7baedcf",
   "metadata": {},
   "outputs": [
    {
     "data": {
      "text/html": [
       "<div>\n",
       "<style scoped>\n",
       "    .dataframe tbody tr th:only-of-type {\n",
       "        vertical-align: middle;\n",
       "    }\n",
       "\n",
       "    .dataframe tbody tr th {\n",
       "        vertical-align: top;\n",
       "    }\n",
       "\n",
       "    .dataframe thead th {\n",
       "        text-align: right;\n",
       "    }\n",
       "</style>\n",
       "<table border=\"1\" class=\"dataframe\">\n",
       "  <thead>\n",
       "    <tr style=\"text-align: right;\">\n",
       "      <th></th>\n",
       "      <th>U</th>\n",
       "      <th>S</th>\n",
       "      <th>A_r</th>\n",
       "      <th>B_r</th>\n",
       "      <th>A&amp;B</th>\n",
       "      <th>AB_r</th>\n",
       "    </tr>\n",
       "  </thead>\n",
       "  <tbody>\n",
       "    <tr>\n",
       "      <th>U</th>\n",
       "      <td>1.0</td>\n",
       "      <td>0.9</td>\n",
       "      <td>0.49</td>\n",
       "      <td>0.98</td>\n",
       "      <td>1.0</td>\n",
       "      <td>0.02</td>\n",
       "    </tr>\n",
       "    <tr>\n",
       "      <th>S</th>\n",
       "      <td>0.0</td>\n",
       "      <td>0.1</td>\n",
       "      <td>0.32</td>\n",
       "      <td>0.02</td>\n",
       "      <td>0.0</td>\n",
       "      <td>0.00</td>\n",
       "    </tr>\n",
       "    <tr>\n",
       "      <th>A_r</th>\n",
       "      <td>0.0</td>\n",
       "      <td>0.0</td>\n",
       "      <td>0.19</td>\n",
       "      <td>0.00</td>\n",
       "      <td>0.0</td>\n",
       "      <td>0.00</td>\n",
       "    </tr>\n",
       "    <tr>\n",
       "      <th>B_r</th>\n",
       "      <td>0.0</td>\n",
       "      <td>0.0</td>\n",
       "      <td>0.00</td>\n",
       "      <td>0.00</td>\n",
       "      <td>0.0</td>\n",
       "      <td>0.00</td>\n",
       "    </tr>\n",
       "    <tr>\n",
       "      <th>A&amp;B</th>\n",
       "      <td>0.0</td>\n",
       "      <td>0.0</td>\n",
       "      <td>0.00</td>\n",
       "      <td>0.00</td>\n",
       "      <td>0.0</td>\n",
       "      <td>0.00</td>\n",
       "    </tr>\n",
       "    <tr>\n",
       "      <th>AB_r</th>\n",
       "      <td>0.0</td>\n",
       "      <td>0.0</td>\n",
       "      <td>0.00</td>\n",
       "      <td>0.00</td>\n",
       "      <td>0.0</td>\n",
       "      <td>0.98</td>\n",
       "    </tr>\n",
       "  </tbody>\n",
       "</table>\n",
       "</div>"
      ],
      "text/plain": [
       "        U    S   A_r   B_r  A&B  AB_r\n",
       "U     1.0  0.9  0.49  0.98  1.0  0.02\n",
       "S     0.0  0.1  0.32  0.02  0.0  0.00\n",
       "A_r   0.0  0.0  0.19  0.00  0.0  0.00\n",
       "B_r   0.0  0.0  0.00  0.00  0.0  0.00\n",
       "A&B   0.0  0.0  0.00  0.00  0.0  0.00\n",
       "AB_r  0.0  0.0  0.00  0.00  0.0  0.98"
      ]
     },
     "execution_count": 5,
     "metadata": {},
     "output_type": "execute_result"
    }
   ],
   "source": [
    "M_ab"
   ]
  },
  {
   "cell_type": "markdown",
   "id": "077fb229",
   "metadata": {},
   "source": [
    "## Effectivness of Drugs while adding Plasmids (S to Ar or Br)"
   ]
  },
  {
   "cell_type": "code",
   "execution_count": 6,
   "id": "17e414fb",
   "metadata": {},
   "outputs": [
    {
     "name": "stdout",
     "output_type": "stream",
     "text": [
      "The effectiveness of A is INCREASED due to plasmid pB by:  1.0 %\n"
     ]
    }
   ],
   "source": [
    "baseline_A = M_a.loc[\"U\", \"S\"]\n",
    "w_A_Br = M_a.loc[\"U\", \"B_r\"]/baseline_A\n",
    "print(\"The effectiveness of A is INCREASED due to plasmid pB by: \", -round(1-w_A_Br, 2)*100, \"%\")"
   ]
  },
  {
   "cell_type": "code",
   "execution_count": 7,
   "id": "2c18d5e5",
   "metadata": {},
   "outputs": [
    {
     "name": "stdout",
     "output_type": "stream",
     "text": [
      "The effectiveness of B is reduced due to plasmid pA by:  21.0 %\n"
     ]
    }
   ],
   "source": [
    "baseline_B = M_b.loc[\"U\", \"S\"]\n",
    "w_B_Ar = M_b.loc[\"U\", \"A_r\"]/baseline_B\n",
    "print(\"The effectiveness of B is reduced due to plasmid pA by: \", round(1-w_B_Ar,2)*100, \"%\")"
   ]
  },
  {
   "cell_type": "code",
   "execution_count": 8,
   "id": "4024a984",
   "metadata": {},
   "outputs": [
    {
     "name": "stdout",
     "output_type": "stream",
     "text": [
      "The effectiveness of AB is reduced due to plasmid pA by:  46.0 %\n"
     ]
    }
   ],
   "source": [
    "baseline_AB = M_ab.loc[\"U\", \"S\"]\n",
    "w_AB_Ar = M_ab.loc[\"U\", \"A_r\"]/baseline_AB\n",
    "print(\"The effectiveness of AB is reduced due to plasmid pA by: \", round(1-w_AB_Ar,2)*100, \"%\")"
   ]
  },
  {
   "cell_type": "code",
   "execution_count": 9,
   "id": "ee578475",
   "metadata": {},
   "outputs": [
    {
     "name": "stdout",
     "output_type": "stream",
     "text": [
      "The effectiveness of AB is INCREASED due to plasmid pB by:  9.0 %\n"
     ]
    }
   ],
   "source": [
    "w_AB_Br = M_ab.loc[\"U\", \"B_r\"]/baseline_AB\n",
    "print(\"The effectiveness of AB is INCREASED due to plasmid pB by: \", -round(1-w_AB_Br,2)*100, \"%\")"
   ]
  },
  {
   "cell_type": "markdown",
   "id": "1d4725e5",
   "metadata": {},
   "source": [
    "## Effectivness of Drugs on S"
   ]
  },
  {
   "cell_type": "code",
   "execution_count": 10,
   "id": "70b50f9c",
   "metadata": {},
   "outputs": [
    {
     "name": "stdout",
     "output_type": "stream",
     "text": [
      "The effectivness of drug AB ( 0.9 )is  6.0  % lower compared to drug A alone( 0.96 ).\n"
     ]
    }
   ],
   "source": [
    "e_A_AB = round(1 - baseline_AB/baseline_A, 2)\n",
    "print(\"The effectivness of drug AB (\", round(baseline_AB, 2), \")is \", e_A_AB*100, \" % lower compared to drug A alone(\", round(baseline_A, 2), \").\")"
   ]
  },
  {
   "cell_type": "code",
   "execution_count": null,
   "id": "0e8a67f5",
   "metadata": {},
   "outputs": [],
   "source": []
  }
 ],
 "metadata": {
  "kernelspec": {
   "display_name": "Python 3 (ipykernel)",
   "language": "python",
   "name": "python3"
  },
  "language_info": {
   "codemirror_mode": {
    "name": "ipython",
    "version": 3
   },
   "file_extension": ".py",
   "mimetype": "text/x-python",
   "name": "python",
   "nbconvert_exporter": "python",
   "pygments_lexer": "ipython3",
   "version": "3.8.5"
  }
 },
 "nbformat": 4,
 "nbformat_minor": 5
}
