{
 "cells": [
  {
   "cell_type": "code",
   "execution_count": 38,
   "id": "03f9399e",
   "metadata": {},
   "outputs": [],
   "source": [
    "import os\n",
    "import pandas as pd\n",
    "from evaluation_scripts.base import save_for_latex, load_experiment\n",
    "def load_M(antibiotic, pathes):\n",
    "    return pd.read_pickle(os.path.join(pathes[\"general_obj\"], \"M_t_\"+antibiotic+\".pkl\"))\n",
    "strains, exp_pars, dictionaries, pathes, df, t_end = load_experiment(\"20220412\")"
   ]
  },
  {
   "cell_type": "markdown",
   "id": "52cea349",
   "metadata": {},
   "source": [
    "## Mixing Matrix"
   ]
  },
  {
   "cell_type": "code",
   "execution_count": 41,
   "id": "b735aa37",
   "metadata": {},
   "outputs": [
    {
     "name": "stdout",
     "output_type": "stream",
     "text": [
      "          index             U             S            Ar            Br  \\\n",
      "0             U           $U$           $S$         $A_r$         $B_r$   \n",
      "1             S           $S$           $S$         $A_r$         $B_r$   \n",
      "2          A\\_r         $A_r$         $A_r$         $A_r$  $(A_r\\&B_r)$   \n",
      "3          B\\_r         $B_r$         $B_r$  $(A_r\\&B_r)$         $B_r$   \n",
      "4  (A\\_r\\&B\\_r)  $(A_r\\&B_r)$  $(A_r\\&B_r)$  $(A_r\\&B_r)$  $(A_r\\&B_r)$   \n",
      "5         AB\\_r        $AB_r$        $AB_r$        $AB_r$        $AB_r$   \n",
      "\n",
      "            AuB     ABr  \n",
      "0  $(A_r\\&B_r)$  $AB_r$  \n",
      "1  $(A_r\\&B_r)$  $AB_r$  \n",
      "2  $(A_r\\&B_r)$  $AB_r$  \n",
      "3  $(A_r\\&B_r)$  $AB_r$  \n",
      "4  $(A_r\\&B_r)$  $AB_r$  \n",
      "5        $AB_r$  $AB_r$  \n"
     ]
    },
    {
     "data": {
      "text/html": [
       "<div>\n",
       "<style scoped>\n",
       "    .dataframe tbody tr th:only-of-type {\n",
       "        vertical-align: middle;\n",
       "    }\n",
       "\n",
       "    .dataframe tbody tr th {\n",
       "        vertical-align: top;\n",
       "    }\n",
       "\n",
       "    .dataframe thead th {\n",
       "        text-align: right;\n",
       "    }\n",
       "</style>\n",
       "<table border=\"1\" class=\"dataframe\">\n",
       "  <thead>\n",
       "    <tr style=\"text-align: right;\">\n",
       "      <th></th>\n",
       "      <th>U</th>\n",
       "      <th>S</th>\n",
       "      <th>A_r</th>\n",
       "      <th>B_r</th>\n",
       "      <th>A&amp;B</th>\n",
       "      <th>AB_r</th>\n",
       "    </tr>\n",
       "  </thead>\n",
       "  <tbody>\n",
       "    <tr>\n",
       "      <th>U</th>\n",
       "      <td>U</td>\n",
       "      <td>S</td>\n",
       "      <td>A_r</td>\n",
       "      <td>B_r</td>\n",
       "      <td>(A_r\\&amp;B_r)</td>\n",
       "      <td>AB_r</td>\n",
       "    </tr>\n",
       "    <tr>\n",
       "      <th>S</th>\n",
       "      <td>S</td>\n",
       "      <td>S</td>\n",
       "      <td>A_r</td>\n",
       "      <td>B_r</td>\n",
       "      <td>(A_r\\&amp;B_r)</td>\n",
       "      <td>AB_r</td>\n",
       "    </tr>\n",
       "    <tr>\n",
       "      <th>A_r</th>\n",
       "      <td>A_r</td>\n",
       "      <td>A_r</td>\n",
       "      <td>A_r</td>\n",
       "      <td>(A_r\\&amp;B_r)</td>\n",
       "      <td>(A_r\\&amp;B_r)</td>\n",
       "      <td>AB_r</td>\n",
       "    </tr>\n",
       "    <tr>\n",
       "      <th>B_r</th>\n",
       "      <td>B_r</td>\n",
       "      <td>B_r</td>\n",
       "      <td>(A_r\\&amp;B_r)</td>\n",
       "      <td>B_r</td>\n",
       "      <td>(A_r\\&amp;B_r)</td>\n",
       "      <td>AB_r</td>\n",
       "    </tr>\n",
       "    <tr>\n",
       "      <th>A&amp;B</th>\n",
       "      <td>(A_r\\&amp;B_r)</td>\n",
       "      <td>(A_r\\&amp;B_r)</td>\n",
       "      <td>(A_r\\&amp;B_r)</td>\n",
       "      <td>(A_r\\&amp;B_r)</td>\n",
       "      <td>(A_r\\&amp;B_r)</td>\n",
       "      <td>AB_r</td>\n",
       "    </tr>\n",
       "    <tr>\n",
       "      <th>AB_r</th>\n",
       "      <td>AB_r</td>\n",
       "      <td>AB_r</td>\n",
       "      <td>AB_r</td>\n",
       "      <td>AB_r</td>\n",
       "      <td>AB_r</td>\n",
       "      <td>AB_r</td>\n",
       "    </tr>\n",
       "  </tbody>\n",
       "</table>\n",
       "</div>"
      ],
      "text/plain": [
       "               U           S         A_r         B_r         A&B  AB_r\n",
       "U              U           S         A_r         B_r  (A_r\\&B_r)  AB_r\n",
       "S              S           S         A_r         B_r  (A_r\\&B_r)  AB_r\n",
       "A_r          A_r         A_r         A_r  (A_r\\&B_r)  (A_r\\&B_r)  AB_r\n",
       "B_r          B_r         B_r  (A_r\\&B_r)         B_r  (A_r\\&B_r)  AB_r\n",
       "A&B   (A_r\\&B_r)  (A_r\\&B_r)  (A_r\\&B_r)  (A_r\\&B_r)  (A_r\\&B_r)  AB_r\n",
       "AB_r        AB_r        AB_r        AB_r        AB_r        AB_r  AB_r"
      ]
     },
     "metadata": {},
     "output_type": "display_data"
    }
   ],
   "source": [
    "from itertools import product, combinations\n",
    "I = load_M(\"A\", pathes)\n",
    "I[\"U\"] = \"U\"\n",
    "I.loc[\"U\",:] = \"U\" \n",
    "I[\"S\"] = \"S\"\n",
    "I.loc[\"S\",:] = \"S\" \n",
    "I[\"A_r\"] = \"A_r\"\n",
    "I.loc[\"A_r\",:] = \"A_r\" \n",
    "I[\"B_r\"] = \"B_r\"\n",
    "I.loc[\"B_r\",:] = \"B_r\"\n",
    "I[\"A&B\"] = \"(A_r\\&B_r)\"\n",
    "I.loc[\"A&B\",:] = \"(A_r\\&B_r)\" \n",
    "I[\"AB_r\"] = \"AB_r\"\n",
    "I.loc[\"AB_r\",:] = \"AB_r\"\n",
    "I.loc[\"A_r\", \"B_r\"] = \"(A_r\\&B_r)\"\n",
    "I.loc[\"B_r\", \"A_r\"] = \"(A_r\\&B_r)\"\n",
    "\n",
    "path = os.path.join(pathes[\"base\"], \"tables\", \"mixing_pheno.csv\")\n",
    "save_for_latex(I, I.columns, path)\n",
    "\n",
    "display(I)"
   ]
  },
  {
   "cell_type": "code",
   "execution_count": 39,
   "id": "3ab9558d",
   "metadata": {},
   "outputs": [
    {
     "data": {
      "text/plain": [
       "{'jupyter': '/Users/malte/polybox/Shared/Robot-Shared/TSPlasmids/JupyterScripts',\n",
       " 'base': '/Users/malte/polybox/Shared/Robot-Shared/TSPlasmids',\n",
       " 'exp': '/Users/malte/polybox/Shared/Robot-Shared/TSPlasmids/experiments/20220412_output',\n",
       " 'analysis': '/Users/malte/polybox/Shared/Robot-Shared/TSPlasmids/experiments/20220412_output/analysis',\n",
       " 'obj': '/Users/malte/polybox/Shared/Robot-Shared/TSPlasmids/experiments/20220412_output/analysis/obj',\n",
       " 'general_obj': '/Users/malte/polybox/Shared/Robot-Shared/TSPlasmids/summary/obj'}"
      ]
     },
     "execution_count": 39,
     "metadata": {},
     "output_type": "execute_result"
    }
   ],
   "source": []
  },
  {
   "cell_type": "code",
   "execution_count": null,
   "id": "7764b240",
   "metadata": {},
   "outputs": [],
   "source": []
  }
 ],
 "metadata": {
  "kernelspec": {
   "display_name": "Python 3 (ipykernel)",
   "language": "python",
   "name": "python3"
  },
  "language_info": {
   "codemirror_mode": {
    "name": "ipython",
    "version": 3
   },
   "file_extension": ".py",
   "mimetype": "text/x-python",
   "name": "python",
   "nbconvert_exporter": "python",
   "pygments_lexer": "ipython3",
   "version": "3.8.5"
  }
 },
 "nbformat": 4,
 "nbformat_minor": 5
}
