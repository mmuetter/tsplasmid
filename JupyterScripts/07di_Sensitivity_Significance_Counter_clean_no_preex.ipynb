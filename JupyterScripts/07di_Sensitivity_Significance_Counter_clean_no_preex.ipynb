{
 "cells": [
  {
   "cell_type": "code",
   "execution_count": 1,
   "id": "cfc1b61f",
   "metadata": {},
   "outputs": [],
   "source": [
    "%load_ext autoreload\n",
    "%autoreload 2\n",
    "\n",
    "from evaluation_scripts.base import load_json, get_base_pathes\n",
    "import os\n",
    "from evaluation_scripts.base import load_pickle_obj\n",
    "from model_scripts.sensitivity_evaluation import SensitivityAnalysis, summarize_evaluations, count_strategy, get_shared\n",
    "from model_scripts.wins_and_losses import WinsAndLosses, set_title, set_common_ylabel\n",
    "import matplotlib.pyplot as plt\n",
    "from collections import Counter\n",
    "import seaborn as sns\n",
    "import pandas as pd\n",
    "\n",
    "\n",
    "_, base = get_base_pathes()\n",
    "path = os.path.join(base, \"sensitivity_sim\")\n",
    "\n",
    "name_add = \"_clean_no_preex\""
   ]
  },
  {
   "cell_type": "code",
   "execution_count": 2,
   "id": "51f16cfa",
   "metadata": {
    "scrolled": true
   },
   "outputs": [],
   "source": [
    "sensitivity = SensitivityAnalysis(path, parameter_names = [\"turnover\",\n",
    "                                \"infection\", \"cA\", \"cB\", \"cS\", \"cU\", \"cAB\"], name_add = name_add)\n",
    "reload = True\n",
    "if reload:\n",
    "    sensitivity.load()\n",
    "else:\n",
    "    sims = pd.read_pickle(os.path.join(path, \"sensitivity_sim\"+name_add+\".pkl\"))\n",
    "    pars = pd.read_pickle(os.path.join(path, \"sensitivity_par\"+name_add+\".pkl\"))\n",
    "    sensitivity.evaluate_parameter_sets(sims, pars)\n",
    "    sensitivity.save()"
   ]
  },
  {
   "cell_type": "code",
   "execution_count": 3,
   "id": "61e77b8c",
   "metadata": {},
   "outputs": [
    {
     "name": "stdout",
     "output_type": "stream",
     "text": [
      "Num of insignificant scenarios:  8\n"
     ]
    },
    {
     "data": {
      "text/html": [
       "<div>\n",
       "<style scoped>\n",
       "    .dataframe tbody tr th:only-of-type {\n",
       "        vertical-align: middle;\n",
       "    }\n",
       "\n",
       "    .dataframe tbody tr th {\n",
       "        vertical-align: top;\n",
       "    }\n",
       "\n",
       "    .dataframe thead th {\n",
       "        text-align: right;\n",
       "    }\n",
       "</style>\n",
       "<table border=\"1\" class=\"dataframe\">\n",
       "  <thead>\n",
       "    <tr style=\"text-align: right;\">\n",
       "      <th></th>\n",
       "      <th>single_winner</th>\n",
       "      <th>single_loser</th>\n",
       "      <th>loser</th>\n",
       "      <th>winner</th>\n",
       "    </tr>\n",
       "    <tr>\n",
       "      <th>strategy</th>\n",
       "      <th></th>\n",
       "      <th></th>\n",
       "      <th></th>\n",
       "      <th></th>\n",
       "    </tr>\n",
       "  </thead>\n",
       "  <tbody>\n",
       "    <tr>\n",
       "      <th>Combination</th>\n",
       "      <td>8704</td>\n",
       "      <td>0</td>\n",
       "      <td>0</td>\n",
       "      <td>9598</td>\n",
       "    </tr>\n",
       "    <tr>\n",
       "      <th>Cycling</th>\n",
       "      <td>8</td>\n",
       "      <td>6</td>\n",
       "      <td>1480</td>\n",
       "      <td>616</td>\n",
       "    </tr>\n",
       "    <tr>\n",
       "      <th>Mixing</th>\n",
       "      <td>0</td>\n",
       "      <td>4</td>\n",
       "      <td>1966</td>\n",
       "      <td>200</td>\n",
       "    </tr>\n",
       "    <tr>\n",
       "      <th>Mono A</th>\n",
       "      <td>382</td>\n",
       "      <td>2753</td>\n",
       "      <td>5571</td>\n",
       "      <td>562</td>\n",
       "    </tr>\n",
       "    <tr>\n",
       "      <th>Mono B</th>\n",
       "      <td>0</td>\n",
       "      <td>4367</td>\n",
       "      <td>6510</td>\n",
       "      <td>141</td>\n",
       "    </tr>\n",
       "  </tbody>\n",
       "</table>\n",
       "</div>"
      ],
      "text/plain": [
       "             single_winner  single_loser  loser  winner\n",
       "strategy                                               \n",
       "Combination           8704             0      0    9598\n",
       "Cycling                  8             6   1480     616\n",
       "Mixing                   0             4   1966     200\n",
       "Mono A                 382          2753   5571     562\n",
       "Mono B                   0          4367   6510     141"
      ]
     },
     "execution_count": 3,
     "metadata": {},
     "output_type": "execute_result"
    }
   ],
   "source": [
    "df = summarize_evaluations(sensitivity.evaluations)\n",
    "\n",
    "\n",
    "results = []\n",
    "for strategy in [\"Combination\", \"Cycling\", \"Mixing\", \"Mono A\", \"Mono B\"]:\n",
    "    results.append(count_strategy(df, strategy))\n",
    "results = pd.DataFrame().from_records(results)\n",
    "results = results.set_index(\"strategy\")\n",
    "\n",
    "insignificant = df.apply(lambda x: get_shared(x, \"worst_\", None), axis = 1).sum()\n",
    "\n",
    "print(\"Num of insignificant scenarios: \", insignificant)\n",
    "\n",
    "results"
   ]
  },
  {
   "cell_type": "code",
   "execution_count": 4,
   "id": "c665446f",
   "metadata": {},
   "outputs": [
    {
     "data": {
      "text/html": [
       "<div>\n",
       "<style scoped>\n",
       "    .dataframe tbody tr th:only-of-type {\n",
       "        vertical-align: middle;\n",
       "    }\n",
       "\n",
       "    .dataframe tbody tr th {\n",
       "        vertical-align: top;\n",
       "    }\n",
       "\n",
       "    .dataframe thead th {\n",
       "        text-align: right;\n",
       "    }\n",
       "</style>\n",
       "<table border=\"1\" class=\"dataframe\">\n",
       "  <thead>\n",
       "    <tr style=\"text-align: right;\">\n",
       "      <th></th>\n",
       "      <th>single_winner</th>\n",
       "      <th>single_loser</th>\n",
       "      <th>loser</th>\n",
       "      <th>winner</th>\n",
       "    </tr>\n",
       "    <tr>\n",
       "      <th>strategy</th>\n",
       "      <th></th>\n",
       "      <th></th>\n",
       "      <th></th>\n",
       "      <th></th>\n",
       "    </tr>\n",
       "  </thead>\n",
       "  <tbody>\n",
       "    <tr>\n",
       "      <th>Combination</th>\n",
       "      <td>87.04</td>\n",
       "      <td>0.00</td>\n",
       "      <td>0.00</td>\n",
       "      <td>95.98</td>\n",
       "    </tr>\n",
       "    <tr>\n",
       "      <th>Cycling</th>\n",
       "      <td>0.08</td>\n",
       "      <td>0.06</td>\n",
       "      <td>14.80</td>\n",
       "      <td>6.16</td>\n",
       "    </tr>\n",
       "    <tr>\n",
       "      <th>Mixing</th>\n",
       "      <td>0.00</td>\n",
       "      <td>0.04</td>\n",
       "      <td>19.66</td>\n",
       "      <td>2.00</td>\n",
       "    </tr>\n",
       "    <tr>\n",
       "      <th>Mono A</th>\n",
       "      <td>3.82</td>\n",
       "      <td>27.53</td>\n",
       "      <td>55.71</td>\n",
       "      <td>5.62</td>\n",
       "    </tr>\n",
       "    <tr>\n",
       "      <th>Mono B</th>\n",
       "      <td>0.00</td>\n",
       "      <td>43.67</td>\n",
       "      <td>65.10</td>\n",
       "      <td>1.41</td>\n",
       "    </tr>\n",
       "  </tbody>\n",
       "</table>\n",
       "</div>"
      ],
      "text/plain": [
       "             single_winner  single_loser  loser  winner\n",
       "strategy                                               \n",
       "Combination          87.04          0.00   0.00   95.98\n",
       "Cycling               0.08          0.06  14.80    6.16\n",
       "Mixing                0.00          0.04  19.66    2.00\n",
       "Mono A                3.82         27.53  55.71    5.62\n",
       "Mono B                0.00         43.67  65.10    1.41"
      ]
     },
     "execution_count": 4,
     "metadata": {},
     "output_type": "execute_result"
    }
   ],
   "source": [
    "results_rel = results.copy()\n",
    "results_rel = results_rel * 100 / len(sensitivity.evaluations)\n",
    "results_rel"
   ]
  },
  {
   "cell_type": "code",
   "execution_count": 5,
   "id": "d43a82dc",
   "metadata": {},
   "outputs": [],
   "source": [
    "color_1 = [\"#FFA500\", \"#FF8C00\", \"#FF6347\"]\n",
    "color_2 = [\"#00CED1\", \"#40E0D0\", \"#20B2AA\"]\n",
    "colors = {\n",
    "    \"single_win\":\"#5779B7\", \n",
    "    \"total_win\":\"#8DACD6\",\n",
    "    \"single_loss\":\"#B74A4A\", \n",
    "    \"total_loss\":\"#D68A8A\",\n",
    "}\n",
    "\n",
    "file_path = os.path.join(base, \"summary\", \"exp_anova_no_notreat.json\")\n",
    "exp_results = load_json(file_path)\n",
    "exp_results = [exp_results[0], exp_results[2]]"
   ]
  },
  {
   "cell_type": "code",
   "execution_count": 6,
   "id": "3b27c438",
   "metadata": {},
   "outputs": [
    {
     "data": {
      "text/plain": [
       "[{'comment': '',\n",
       "  'date': '20220412',\n",
       "  'loser': ['Mono B'],\n",
       "  'pValue': 3.3383202724642855e-12,\n",
       "  'winner': ['Combination']},\n",
       " {'comment': '',\n",
       "  'date': '20210417',\n",
       "  'loser': ['Mono A'],\n",
       "  'pValue': 5.302216014270491e-14,\n",
       "  'winner': ['Combination', 'Cycling', 'Mixing']}]"
      ]
     },
     "execution_count": 6,
     "metadata": {},
     "output_type": "execute_result"
    }
   ],
   "source": [
    "exp_results"
   ]
  },
  {
   "cell_type": "code",
   "execution_count": 7,
   "id": "045412f4",
   "metadata": {},
   "outputs": [
    {
     "name": "stderr",
     "output_type": "stream",
     "text": [
      "/Users/malte/ETH-Documents/TSP-Collection/TSPlasmids_main/JupyterScripts/model_scripts/wins_and_losses.py:219: UserWarning: FixedFormatter should only be used together with FixedLocator\n",
      "  ax.set_yticklabels([abs(int(label)) for label in ax.get_yticks()])\n"
     ]
    },
    {
     "data": {
      "image/png": "[encoded data removed]",
      "text/plain": [
       "<Figure size 1200x400 with 2 Axes>"
      ]
     },
     "metadata": {},
     "output_type": "display_data"
    }
   ],
   "source": [
    "WandL = WinsAndLosses(results_rel, path, colors, fontsize=16, axes_label_fontsize=16, y_label_x = -.1, figsize=(12, 4))\n",
    "#WandL.add_exp_results(exp_results)\n",
    "fig, axs = WandL.plot(title = None, legend = True)\n",
    "set_title(fig, \"A)\", \"no pre-existing double resistance, filtered transition prob.\",  title_y = .95)\n",
    "set_common_ylabel(fig, axs, \"scenarios won/lost [%]\")\n",
    "WandL.save(path, name_add = name_add)\n",
    "plt.show()"
   ]
  },
  {
   "cell_type": "code",
   "execution_count": 8,
   "id": "60921a85",
   "metadata": {},
   "outputs": [
    {
     "data": {
      "text/html": [
       "<div>\n",
       "<style scoped>\n",
       "    .dataframe tbody tr th:only-of-type {\n",
       "        vertical-align: middle;\n",
       "    }\n",
       "\n",
       "    .dataframe tbody tr th {\n",
       "        vertical-align: top;\n",
       "    }\n",
       "\n",
       "    .dataframe thead th {\n",
       "        text-align: right;\n",
       "    }\n",
       "</style>\n",
       "<table border=\"1\" class=\"dataframe\">\n",
       "  <thead>\n",
       "    <tr style=\"text-align: right;\">\n",
       "      <th></th>\n",
       "      <th>single winner [\\%]</th>\n",
       "      <th>single loser [\\%]</th>\n",
       "      <th>loser [\\%]</th>\n",
       "      <th>winner [\\%]</th>\n",
       "      <th>single winner</th>\n",
       "      <th>single loser</th>\n",
       "      <th>loser</th>\n",
       "      <th>winner</th>\n",
       "    </tr>\n",
       "    <tr>\n",
       "      <th>strategy</th>\n",
       "      <th></th>\n",
       "      <th></th>\n",
       "      <th></th>\n",
       "      <th></th>\n",
       "      <th></th>\n",
       "      <th></th>\n",
       "      <th></th>\n",
       "      <th></th>\n",
       "    </tr>\n",
       "  </thead>\n",
       "  <tbody>\n",
       "    <tr>\n",
       "      <th>Combination</th>\n",
       "      <td>87.04</td>\n",
       "      <td>0.00</td>\n",
       "      <td>0.00</td>\n",
       "      <td>95.98</td>\n",
       "      <td>8704</td>\n",
       "      <td>0</td>\n",
       "      <td>0</td>\n",
       "      <td>9598</td>\n",
       "    </tr>\n",
       "    <tr>\n",
       "      <th>Cycling</th>\n",
       "      <td>0.08</td>\n",
       "      <td>0.06</td>\n",
       "      <td>14.80</td>\n",
       "      <td>6.16</td>\n",
       "      <td>8</td>\n",
       "      <td>6</td>\n",
       "      <td>1480</td>\n",
       "      <td>616</td>\n",
       "    </tr>\n",
       "    <tr>\n",
       "      <th>Mixing</th>\n",
       "      <td>0.00</td>\n",
       "      <td>0.04</td>\n",
       "      <td>19.66</td>\n",
       "      <td>2.00</td>\n",
       "      <td>0</td>\n",
       "      <td>4</td>\n",
       "      <td>1966</td>\n",
       "      <td>200</td>\n",
       "    </tr>\n",
       "    <tr>\n",
       "      <th>Mono A</th>\n",
       "      <td>3.82</td>\n",
       "      <td>27.53</td>\n",
       "      <td>55.71</td>\n",
       "      <td>5.62</td>\n",
       "      <td>382</td>\n",
       "      <td>2753</td>\n",
       "      <td>5571</td>\n",
       "      <td>562</td>\n",
       "    </tr>\n",
       "    <tr>\n",
       "      <th>Mono B</th>\n",
       "      <td>0.00</td>\n",
       "      <td>43.67</td>\n",
       "      <td>65.10</td>\n",
       "      <td>1.41</td>\n",
       "      <td>0</td>\n",
       "      <td>4367</td>\n",
       "      <td>6510</td>\n",
       "      <td>141</td>\n",
       "    </tr>\n",
       "  </tbody>\n",
       "</table>\n",
       "</div>"
      ],
      "text/plain": [
       "             single winner [\\%]  single loser [\\%]  loser [\\%]  winner [\\%]  \\\n",
       "strategy                                                                      \n",
       "Combination               87.04               0.00        0.00        95.98   \n",
       "Cycling                    0.08               0.06       14.80         6.16   \n",
       "Mixing                     0.00               0.04       19.66         2.00   \n",
       "Mono A                     3.82              27.53       55.71         5.62   \n",
       "Mono B                     0.00              43.67       65.10         1.41   \n",
       "\n",
       "             single winner  single loser  loser  winner  \n",
       "strategy                                                 \n",
       "Combination           8704             0      0    9598  \n",
       "Cycling                  8             6   1480     616  \n",
       "Mixing                   0             4   1966     200  \n",
       "Mono A                 382          2753   5571     562  \n",
       "Mono B                   0          4367   6510     141  "
      ]
     },
     "execution_count": 8,
     "metadata": {},
     "output_type": "execute_result"
    }
   ],
   "source": [
    "results_df = results_rel.copy()\n",
    "results_df = results_df.rename(columns=lambda x: x + \" [\\%]\")\n",
    "results_df = results_df.join(results)\n",
    "results_df.columns = [col.replace('_', ' ') for col in results_df.columns]\n",
    "results_df.to_latex(os.path.join(base, \"tables\", \"win_loss_statistic\"+name_add+\".tex\"),\n",
    "                   float_format=\"%.2f\")\n",
    "results_df"
   ]
  },
  {
   "cell_type": "code",
   "execution_count": 9,
   "id": "ccdb216f",
   "metadata": {},
   "outputs": [
    {
     "data": {
      "text/plain": [
       "8"
      ]
     },
     "execution_count": 9,
     "metadata": {},
     "output_type": "execute_result"
    }
   ],
   "source": [
    "insignificant"
   ]
  },
  {
   "cell_type": "code",
   "execution_count": null,
   "id": "3a2ec4a8-e1ca-413f-a713-8698ef58e86d",
   "metadata": {},
   "outputs": [],
   "source": []
  },
  {
   "cell_type": "code",
   "execution_count": 10,
   "id": "483cdd6d-a307-4cad-90d6-ec888a7ce5cb",
   "metadata": {},
   "outputs": [
    {
     "data": {
      "text/plain": [
       "<figures.figure.Figure at 0x7ff2199470d0>"
      ]
     },
     "execution_count": 10,
     "metadata": {},
     "output_type": "execute_result"
    }
   ],
   "source": [
    "from figures import Figure, styles\n",
    "import matplotlib as mpl\n",
    "\n",
    "mpl.rcParams['text.usetex'] = False\n",
    "\n",
    "presentation = Figure(styles[\"presentation\"])\n",
    "presentation.add_folder(\"/Users/malte/Documents/Meetings/Smiddy\")\n",
    "presentation"
   ]
  },
  {
   "cell_type": "code",
   "execution_count": 11,
   "id": "84d2b2bc",
   "metadata": {},
   "outputs": [
    {
     "name": "stderr",
     "output_type": "stream",
     "text": [
      "/Users/malte/ETH-Documents/TSP-Collection/TSPlasmids_main/JupyterScripts/model_scripts/wins_and_losses.py:219: UserWarning: FixedFormatter should only be used together with FixedLocator\n",
      "  ax.set_yticklabels([abs(int(label)) for label in ax.get_yticks()])\n"
     ]
    },
    {
     "data": {
      "image/png": "[encoded data removed]",
      "text/plain": [
       "<Figure size 400x800 with 2 Axes>"
      ]
     },
     "metadata": {},
     "output_type": "display_data"
    }
   ],
   "source": [
    "WandL = WinsAndLosses(results_rel, path, colors, fontsize=16, axes_label_fontsize=16, y_label_x = -.1)\n",
    "WandL.add_exp_results(exp_results)\n",
    "WandL.plot(title = \"no preexisting double resistance\", legend = True)\n",
    "presentation.apply_style(WandL.axs[0])\n",
    "presentation.apply_style(WandL.axs[1])\n",
    "WandL.axs[0].set_title(\"\")\n",
    "WandL.axs[0].tick_params(axis='x', which='both', bottom=False, top=False, labelbottom=False)\n",
    "plt.savefig(\"/Users/malte/Documents/Meetings/Smiddy/sensitivity.png\", dpi = 300)\n",
    "plt.show()\n"
   ]
  },
  {
   "cell_type": "code",
   "execution_count": null,
   "id": "816567c0-c433-495a-bb3f-0efa7d922049",
   "metadata": {},
   "outputs": [],
   "source": []
  }
 ],
 "metadata": {
  "kernelspec": {
   "display_name": "ts-plasmids",
   "language": "python",
   "name": "tsp_env"
  },
  "language_info": {
   "codemirror_mode": {
    "name": "ipython",
    "version": 3
   },
   "file_extension": ".py",
   "mimetype": "text/x-python",
   "name": "python",
   "nbconvert_exporter": "python",
   "pygments_lexer": "ipython3",
   "version": "3.8.19"
  }
 },
 "nbformat": 4,
 "nbformat_minor": 5
}
